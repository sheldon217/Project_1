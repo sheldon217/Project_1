{
 "cells": [
  {
   "cell_type": "code",
   "execution_count": 7,
   "metadata": {},
   "outputs": [],
   "source": [
    "import os\n",
    "import pandas as pd\n",
    "import matplotlib.pyplot as plt\n",
    "import hvplot.pandas\n",
    "import plotly.express as px\n",
    "from pathlib import Path\n",
    "from dotenv import load_dotenv\n",
    "import panel as pn\n",
    "%matplotlib inline\n",
    "pn.extension(\"plotly\")\n",
    "from alpha_vantage.timeseries import TimeSeries\n",
    "import pandas_datareader.data as web\n",
    "import datetime as datetime\n",
    "import numpy as np\n",
    "pd.set_option('display.precision',5)\n",
    "pd.options.display.float_format = '{:.2f}'.format"
   ]
  },
  {
   "cell_type": "code",
   "execution_count": 10,
   "metadata": {},
   "outputs": [],
   "source": [
    "def ticker_symbol(ticker):\n",
    "    df = web.DataReader([ticker],start='2019-08-16',end='2020-08-25',data_source='yahoo')['Adj Close']\n",
    "    pd.DataFrame(df)\n",
    "    return df"
   ]
  },
  {
   "cell_type": "code",
   "execution_count": 40,
   "metadata": {},
   "outputs": [],
   "source": [
    "def monte_carlo(ticker):\n",
    "    df = ticker_symbol(ticker)\n",
    "    df_mean = df.pct_change().mean().sum()\n",
    "    df_std = df.pct_change().std().sum()\n",
    "    number_of_simu=1000\n",
    "    number_of_rec=252*30\n",
    "    portfolio = pd.DataFrame()\n",
    "    for i in range(number_of_simu):\n",
    "        df_list = [df[ticker][-1]]\n",
    "        for n in range(number_of_rec):\n",
    "            df_price = df_list[-1] * (1 + np.random.normal(df_mean,df_std))\n",
    "            df_list.append(df_price)\n",
    "        portfolio[\"test\"] = pd.Series(df_list)\n",
    "    return portfolio\n"
   ]
  },
  {
   "cell_type": "code",
   "execution_count": 41,
   "metadata": {},
   "outputs": [
    {
     "data": {
      "text/html": [
       "<div>\n",
       "<style scoped>\n",
       "    .dataframe tbody tr th:only-of-type {\n",
       "        vertical-align: middle;\n",
       "    }\n",
       "\n",
       "    .dataframe tbody tr th {\n",
       "        vertical-align: top;\n",
       "    }\n",
       "\n",
       "    .dataframe thead th {\n",
       "        text-align: right;\n",
       "    }\n",
       "</style>\n",
       "<table border=\"1\" class=\"dataframe\">\n",
       "  <thead>\n",
       "    <tr style=\"text-align: right;\">\n",
       "      <th></th>\n",
       "      <th>test</th>\n",
       "    </tr>\n",
       "  </thead>\n",
       "  <tbody>\n",
       "    <tr>\n",
       "      <th>0</th>\n",
       "      <td>499.30</td>\n",
       "    </tr>\n",
       "    <tr>\n",
       "      <th>1</th>\n",
       "      <td>496.38</td>\n",
       "    </tr>\n",
       "    <tr>\n",
       "      <th>2</th>\n",
       "      <td>504.62</td>\n",
       "    </tr>\n",
       "    <tr>\n",
       "      <th>3</th>\n",
       "      <td>454.80</td>\n",
       "    </tr>\n",
       "    <tr>\n",
       "      <th>4</th>\n",
       "      <td>445.19</td>\n",
       "    </tr>\n",
       "    <tr>\n",
       "      <th>...</th>\n",
       "      <td>...</td>\n",
       "    </tr>\n",
       "    <tr>\n",
       "      <th>7556</th>\n",
       "      <td>20090963965311.48</td>\n",
       "    </tr>\n",
       "    <tr>\n",
       "      <th>7557</th>\n",
       "      <td>20154138894436.39</td>\n",
       "    </tr>\n",
       "    <tr>\n",
       "      <th>7558</th>\n",
       "      <td>19976897689144.23</td>\n",
       "    </tr>\n",
       "    <tr>\n",
       "      <th>7559</th>\n",
       "      <td>20115121557876.81</td>\n",
       "    </tr>\n",
       "    <tr>\n",
       "      <th>7560</th>\n",
       "      <td>19841255601637.44</td>\n",
       "    </tr>\n",
       "  </tbody>\n",
       "</table>\n",
       "<p>7561 rows × 1 columns</p>\n",
       "</div>"
      ],
      "text/plain": [
       "                  test\n",
       "0               499.30\n",
       "1               496.38\n",
       "2               504.62\n",
       "3               454.80\n",
       "4               445.19\n",
       "...                ...\n",
       "7556 20090963965311.48\n",
       "7557 20154138894436.39\n",
       "7558 19976897689144.23\n",
       "7559 20115121557876.81\n",
       "7560 19841255601637.44\n",
       "\n",
       "[7561 rows x 1 columns]"
      ]
     },
     "execution_count": 41,
     "metadata": {},
     "output_type": "execute_result"
    }
   ],
   "source": [
    "monte_carlo(\"AAPL\")"
   ]
  }
 ],
 "metadata": {
  "kernelspec": {
   "display_name": "Python 3",
   "language": "python",
   "name": "python3"
  },
  "language_info": {
   "codemirror_mode": {
    "name": "ipython",
    "version": 3
   },
   "file_extension": ".py",
   "mimetype": "text/x-python",
   "name": "python",
   "nbconvert_exporter": "python",
   "pygments_lexer": "ipython3",
   "version": "3.7.6"
  }
 },
 "nbformat": 4,
 "nbformat_minor": 4
}

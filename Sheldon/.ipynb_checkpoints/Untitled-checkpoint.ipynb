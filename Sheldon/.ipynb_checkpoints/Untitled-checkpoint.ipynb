{
 "cells": [
  {
   "cell_type": "code",
   "execution_count": 38,
   "metadata": {},
   "outputs": [],
   "source": [
    "import os\n",
    "import pandas as pd\n",
    "import matplotlib.pyplot as plt\n",
    "import hvplot.pandas\n",
    "import plotly.express as px\n",
    "from pathlib import Path\n",
    "from dotenv import load_dotenv\n",
    "import panel as pn\n",
    "# %matplotlib inline\n",
    "pn.extension(\"plotly\")\n",
    "from alpha_vantage.timeseries import TimeSeries\n",
    "import pandas_datareader.data as web\n",
    "import datetime as datetime\n",
    "import numpy as np\n",
    "from bokeh.plotting import figure"
   ]
  },
  {
   "cell_type": "code",
   "execution_count": 39,
   "metadata": {},
   "outputs": [],
   "source": [
    "Health_care_df = web.DataReader([\"UNH\",\"JNJ\",\"MRK\", \"ABBV\", \"ABT\",\"AAPL\"],start='2019-08-16',end='2020-08-25',data_source='yahoo')['Adj Close']"
   ]
  },
  {
   "cell_type": "code",
   "execution_count": 40,
   "metadata": {},
   "outputs": [],
   "source": [
    "Health_care_df.reset_index(inplace=True)"
   ]
  },
  {
   "cell_type": "code",
   "execution_count": 41,
   "metadata": {},
   "outputs": [
    {
     "data": {
      "text/html": [
       "<div>\n",
       "<style scoped>\n",
       "    .dataframe tbody tr th:only-of-type {\n",
       "        vertical-align: middle;\n",
       "    }\n",
       "\n",
       "    .dataframe tbody tr th {\n",
       "        vertical-align: top;\n",
       "    }\n",
       "\n",
       "    .dataframe thead th {\n",
       "        text-align: right;\n",
       "    }\n",
       "</style>\n",
       "<table border=\"1\" class=\"dataframe\">\n",
       "  <thead>\n",
       "    <tr style=\"text-align: right;\">\n",
       "      <th>Symbols</th>\n",
       "      <th>Date</th>\n",
       "      <th>UNH</th>\n",
       "      <th>JNJ</th>\n",
       "      <th>MRK</th>\n",
       "      <th>ABBV</th>\n",
       "      <th>ABT</th>\n",
       "      <th>AAPL</th>\n",
       "    </tr>\n",
       "  </thead>\n",
       "  <tbody>\n",
       "    <tr>\n",
       "      <th>0</th>\n",
       "      <td>2019-08-16</td>\n",
       "      <td>241.509521</td>\n",
       "      <td>126.934807</td>\n",
       "      <td>82.578949</td>\n",
       "      <td>60.105961</td>\n",
       "      <td>83.407936</td>\n",
       "      <td>204.471252</td>\n",
       "    </tr>\n",
       "    <tr>\n",
       "      <th>1</th>\n",
       "      <td>2019-08-19</td>\n",
       "      <td>240.546204</td>\n",
       "      <td>127.794823</td>\n",
       "      <td>83.675987</td>\n",
       "      <td>62.093006</td>\n",
       "      <td>84.175308</td>\n",
       "      <td>208.283447</td>\n",
       "    </tr>\n",
       "    <tr>\n",
       "      <th>2</th>\n",
       "      <td>2019-08-20</td>\n",
       "      <td>236.073608</td>\n",
       "      <td>126.200424</td>\n",
       "      <td>83.151749</td>\n",
       "      <td>61.953091</td>\n",
       "      <td>83.171829</td>\n",
       "      <td>208.293350</td>\n",
       "    </tr>\n",
       "    <tr>\n",
       "      <th>3</th>\n",
       "      <td>2019-08-21</td>\n",
       "      <td>236.260376</td>\n",
       "      <td>127.099083</td>\n",
       "      <td>84.374992</td>\n",
       "      <td>63.007248</td>\n",
       "      <td>83.526001</td>\n",
       "      <td>210.550949</td>\n",
       "    </tr>\n",
       "    <tr>\n",
       "      <th>4</th>\n",
       "      <td>2019-08-22</td>\n",
       "      <td>228.976456</td>\n",
       "      <td>126.847839</td>\n",
       "      <td>84.190536</td>\n",
       "      <td>62.988586</td>\n",
       "      <td>83.004578</td>\n",
       "      <td>210.372726</td>\n",
       "    </tr>\n",
       "    <tr>\n",
       "      <th>...</th>\n",
       "      <td>...</td>\n",
       "      <td>...</td>\n",
       "      <td>...</td>\n",
       "      <td>...</td>\n",
       "      <td>...</td>\n",
       "      <td>...</td>\n",
       "      <td>...</td>\n",
       "    </tr>\n",
       "    <tr>\n",
       "      <th>253</th>\n",
       "      <td>2020-08-18</td>\n",
       "      <td>316.809998</td>\n",
       "      <td>149.097641</td>\n",
       "      <td>84.559998</td>\n",
       "      <td>95.650002</td>\n",
       "      <td>100.959999</td>\n",
       "      <td>462.250000</td>\n",
       "    </tr>\n",
       "    <tr>\n",
       "      <th>254</th>\n",
       "      <td>2020-08-19</td>\n",
       "      <td>315.399994</td>\n",
       "      <td>149.395660</td>\n",
       "      <td>85.029999</td>\n",
       "      <td>96.099998</td>\n",
       "      <td>100.480003</td>\n",
       "      <td>462.829987</td>\n",
       "    </tr>\n",
       "    <tr>\n",
       "      <th>255</th>\n",
       "      <td>2020-08-20</td>\n",
       "      <td>313.329987</td>\n",
       "      <td>150.418854</td>\n",
       "      <td>85.029999</td>\n",
       "      <td>95.199997</td>\n",
       "      <td>101.629997</td>\n",
       "      <td>473.100006</td>\n",
       "    </tr>\n",
       "    <tr>\n",
       "      <th>256</th>\n",
       "      <td>2020-08-21</td>\n",
       "      <td>314.140015</td>\n",
       "      <td>151.749985</td>\n",
       "      <td>84.980003</td>\n",
       "      <td>94.860001</td>\n",
       "      <td>102.400002</td>\n",
       "      <td>497.480011</td>\n",
       "    </tr>\n",
       "    <tr>\n",
       "      <th>257</th>\n",
       "      <td>2020-08-24</td>\n",
       "      <td>308.839996</td>\n",
       "      <td>152.149994</td>\n",
       "      <td>85.419998</td>\n",
       "      <td>94.510002</td>\n",
       "      <td>101.389999</td>\n",
       "      <td>503.429993</td>\n",
       "    </tr>\n",
       "  </tbody>\n",
       "</table>\n",
       "<p>258 rows × 7 columns</p>\n",
       "</div>"
      ],
      "text/plain": [
       "Symbols       Date         UNH         JNJ        MRK       ABBV         ABT  \\\n",
       "0       2019-08-16  241.509521  126.934807  82.578949  60.105961   83.407936   \n",
       "1       2019-08-19  240.546204  127.794823  83.675987  62.093006   84.175308   \n",
       "2       2019-08-20  236.073608  126.200424  83.151749  61.953091   83.171829   \n",
       "3       2019-08-21  236.260376  127.099083  84.374992  63.007248   83.526001   \n",
       "4       2019-08-22  228.976456  126.847839  84.190536  62.988586   83.004578   \n",
       "..             ...         ...         ...        ...        ...         ...   \n",
       "253     2020-08-18  316.809998  149.097641  84.559998  95.650002  100.959999   \n",
       "254     2020-08-19  315.399994  149.395660  85.029999  96.099998  100.480003   \n",
       "255     2020-08-20  313.329987  150.418854  85.029999  95.199997  101.629997   \n",
       "256     2020-08-21  314.140015  151.749985  84.980003  94.860001  102.400002   \n",
       "257     2020-08-24  308.839996  152.149994  85.419998  94.510002  101.389999   \n",
       "\n",
       "Symbols        AAPL  \n",
       "0        204.471252  \n",
       "1        208.283447  \n",
       "2        208.293350  \n",
       "3        210.550949  \n",
       "4        210.372726  \n",
       "..              ...  \n",
       "253      462.250000  \n",
       "254      462.829987  \n",
       "255      473.100006  \n",
       "256      497.480011  \n",
       "257      503.429993  \n",
       "\n",
       "[258 rows x 7 columns]"
      ]
     },
     "execution_count": 41,
     "metadata": {},
     "output_type": "execute_result"
    }
   ],
   "source": [
    "Health_care_df"
   ]
  },
  {
   "cell_type": "code",
   "execution_count": 42,
   "metadata": {},
   "outputs": [],
   "source": [
    "aapl_dates = Health_care_df[\"Date\"]\n",
    "aapl= Health_care_df[\"AAPL\"]"
   ]
  },
  {
   "cell_type": "code",
   "execution_count": 43,
   "metadata": {},
   "outputs": [],
   "source": [
    "import numpy as np\n",
    "\n",
    "from bokeh.plotting import figure, output_file, show\n",
    "\n",
    "\n",
    "# prepare some data\n",
    "aapl = np.array(Health_care_df[\"AAPL\"])\n",
    "aapl_dates = np.array(Health_care_df[\"AAPL\"], dtype=np.datetime64)\n",
    "\n",
    "window_size = 30\n",
    "window = np.ones(window_size)/float(window_size)\n",
    "aapl_avg = np.convolve(aapl, window, 'same')\n",
    "\n",
    "# output to static HTML file\n",
    "output_file(\"stocks.html\", title=\"stocks.py example\")"
   ]
  },
  {
   "cell_type": "code",
   "execution_count": 44,
   "metadata": {},
   "outputs": [
    {
     "data": {
      "text/html": [
       "\n",
       "\n",
       "\n",
       "\n",
       "\n",
       "\n",
       "  <div class=\"bk-root\" id=\"75299ae6-34a1-43e5-9986-10a92eeae436\" data-root-id=\"4668\"></div>\n"
      ]
     },
     "metadata": {},
     "output_type": "display_data"
    },
    {
     "data": {
      "application/javascript": [
       "(function(root) {\n",
       "  function embed_document(root) {\n",
       "    \n",
       "  var docs_json = {\"a894f3c1-cb5a-4a9e-89b7-c1284e28d12f\":{\"roots\":{\"references\":[{\"attributes\":{\"below\":[{\"id\":\"4677\",\"type\":\"DatetimeAxis\"}],\"center\":[{\"id\":\"4681\",\"type\":\"Grid\"},{\"id\":\"4686\",\"type\":\"Grid\"},{\"id\":\"4724\",\"type\":\"Legend\"}],\"left\":[{\"id\":\"4682\",\"type\":\"LinearAxis\"}],\"plot_height\":350,\"plot_width\":800,\"renderers\":[{\"id\":\"4703\",\"type\":\"GlyphRenderer\"},{\"id\":\"4729\",\"type\":\"GlyphRenderer\"}],\"title\":{\"id\":\"4706\",\"type\":\"Title\"},\"toolbar\":{\"id\":\"4693\",\"type\":\"Toolbar\"},\"x_range\":{\"id\":\"4669\",\"type\":\"DataRange1d\"},\"x_scale\":{\"id\":\"4673\",\"type\":\"LinearScale\"},\"y_range\":{\"id\":\"4671\",\"type\":\"DataRange1d\"},\"y_scale\":{\"id\":\"4675\",\"type\":\"LinearScale\"}},\"id\":\"4668\",\"subtype\":\"Figure\",\"type\":\"Plot\"},{\"attributes\":{\"text\":\"AAPL One-Month Average\"},\"id\":\"4706\",\"type\":\"Title\"},{\"attributes\":{\"fill_alpha\":{\"value\":0.2},\"fill_color\":{\"value\":\"darkgrey\"},\"line_alpha\":{\"value\":0.2},\"line_color\":{\"value\":\"darkgrey\"},\"x\":{\"field\":\"x\"},\"y\":{\"field\":\"y\"}},\"id\":\"4701\",\"type\":\"Circle\"},{\"attributes\":{},\"id\":\"4749\",\"type\":\"UnionRenderers\"},{\"attributes\":{\"active_drag\":\"auto\",\"active_inspect\":\"auto\",\"active_multi\":null,\"active_scroll\":\"auto\",\"active_tap\":\"auto\",\"tools\":[{\"id\":\"4687\",\"type\":\"PanTool\"},{\"id\":\"4688\",\"type\":\"WheelZoomTool\"},{\"id\":\"4689\",\"type\":\"BoxZoomTool\"},{\"id\":\"4690\",\"type\":\"SaveTool\"},{\"id\":\"4691\",\"type\":\"ResetTool\"},{\"id\":\"4692\",\"type\":\"HelpTool\"}]},\"id\":\"4693\",\"type\":\"Toolbar\"},{\"attributes\":{},\"id\":\"4722\",\"type\":\"YearsTicker\"},{\"attributes\":{},\"id\":\"4707\",\"type\":\"BasicTickFormatter\"},{\"attributes\":{\"months\":[0,4,8]},\"id\":\"4720\",\"type\":\"MonthsTicker\"},{\"attributes\":{\"days\":[1,15]},\"id\":\"4717\",\"type\":\"DaysTicker\"},{\"attributes\":{\"days\":[1,4,7,10,13,16,19,22,25,28]},\"id\":\"4715\",\"type\":\"DaysTicker\"},{\"attributes\":{\"axis_label\":\"Price\",\"formatter\":{\"id\":\"4707\",\"type\":\"BasicTickFormatter\"},\"ticker\":{\"id\":\"4683\",\"type\":\"BasicTicker\"}},\"id\":\"4682\",\"type\":\"LinearAxis\"},{\"attributes\":{\"source\":{\"id\":\"4700\",\"type\":\"ColumnDataSource\"}},\"id\":\"4704\",\"type\":\"CDSView\"},{\"attributes\":{\"base\":24,\"mantissas\":[1,2,4,6,8,12],\"max_interval\":43200000.0,\"min_interval\":3600000.0,\"num_minor_ticks\":0},\"id\":\"4713\",\"type\":\"AdaptiveTicker\"},{\"attributes\":{},\"id\":\"4913\",\"type\":\"Selection\"},{\"attributes\":{\"label\":{\"value\":\"avg\"},\"renderers\":[{\"id\":\"4729\",\"type\":\"GlyphRenderer\"}]},\"id\":\"4752\",\"type\":\"LegendItem\"},{\"attributes\":{},\"id\":\"4690\",\"type\":\"SaveTool\"},{\"attributes\":{\"data_source\":{\"id\":\"4726\",\"type\":\"ColumnDataSource\"},\"glyph\":{\"id\":\"4727\",\"type\":\"Line\"},\"hover_glyph\":null,\"muted_glyph\":null,\"nonselection_glyph\":{\"id\":\"4728\",\"type\":\"Line\"},\"selection_glyph\":null,\"view\":{\"id\":\"4730\",\"type\":\"CDSView\"}},\"id\":\"4729\",\"type\":\"GlyphRenderer\"},{\"attributes\":{\"fill_alpha\":{\"value\":0.1},\"fill_color\":{\"value\":\"#1f77b4\"},\"line_alpha\":{\"value\":0.1},\"line_color\":{\"value\":\"#1f77b4\"},\"x\":{\"field\":\"x\"},\"y\":{\"field\":\"y\"}},\"id\":\"4702\",\"type\":\"Circle\"},{\"attributes\":{\"mantissas\":[1,2,5],\"max_interval\":500.0,\"num_minor_ticks\":0},\"id\":\"4711\",\"type\":\"AdaptiveTicker\"},{\"attributes\":{},\"id\":\"4912\",\"type\":\"UnionRenderers\"},{\"attributes\":{},\"id\":\"4691\",\"type\":\"ResetTool\"},{\"attributes\":{\"months\":[0,2,4,6,8,10]},\"id\":\"4719\",\"type\":\"MonthsTicker\"},{\"attributes\":{\"months\":[0,1,2,3,4,5,6,7,8,9,10,11]},\"id\":\"4718\",\"type\":\"MonthsTicker\"},{\"attributes\":{},\"id\":\"4673\",\"type\":\"LinearScale\"},{\"attributes\":{\"line_alpha\":0.1,\"line_color\":\"#1f77b4\",\"x\":{\"field\":\"x\"},\"y\":{\"field\":\"y\"}},\"id\":\"4728\",\"type\":\"Line\"},{\"attributes\":{},\"id\":\"4675\",\"type\":\"LinearScale\"},{\"attributes\":{\"source\":{\"id\":\"4726\",\"type\":\"ColumnDataSource\"}},\"id\":\"4730\",\"type\":\"CDSView\"},{\"attributes\":{\"overlay\":{\"id\":\"4723\",\"type\":\"BoxAnnotation\"}},\"id\":\"4689\",\"type\":\"BoxZoomTool\"},{\"attributes\":{\"callback\":null},\"id\":\"4671\",\"type\":\"DataRange1d\"},{\"attributes\":{},\"id\":\"4683\",\"type\":\"BasicTicker\"},{\"attributes\":{},\"id\":\"4709\",\"type\":\"DatetimeTickFormatter\"},{\"attributes\":{\"callback\":null,\"data\":{\"x\":{\"__ndarray__\":\"AAAAlXvJdkIAAEDGcsp2QgAAACzFynZCAADAkRfLdkIAAID3act2QgAAQF28y3ZCAACAjrPMdkIAAED0Bc12QgAAAFpYzXZCAADAv6rNdkIAAIAl/c12QgAAgLxGz3ZCAABAIpnPdkIAAACI6892QgAAwO090HZCAAAAHzXRdkIAAMCEh9F2QgAAgOrZ0XZCAABAUCzSdkIAAAC2ftJ2QgAAQOd103ZCAAAATcjTdkIAAMCyGtR2QgAAgBht1HZCAABAfr/UdkIAAICvttV2QgAAQBUJ1nZCAAAAe1vWdkIAAMDgrdZ2QgAAgEYA13ZCAADAd/fXdkIAAIDdSdh2QgAAQEOc2HZCAAAAqe7YdkIAAMAOQdl2QgAAAEA42nZCAADApYradkIAAIAL3dp2QgAAQHEv23ZCAAAA14HbdkIAAEAIedx2QgAAAG7L3HZCAADA0x3ddkIAAIA5cN12QgAAQJ/C3XZCAACA0LnedkIAAEA2DN92QgAAAJxe33ZCAADAAbHfdkIAAIBnA+B2QgAAwJj64HZCAACA/kzhdkIAAEBkn+F2QgAAAMrx4XZCAADAL0TidkIAAABhO+N2QgAAwMaN43ZCAACALODjdkIAAECSMuR2QgAAAPiE5HZCAABAKXzldkIAAACPzuV2QgAAwPQg5nZCAACAWnPmdkIAAEDAxeZ2QgAAgPG853ZCAABAVw/odkIAAAC9Yeh2QgAAwCK06HZCAACAiAbpdkIAAMC5/el2QgAAgB9Q6nZCAABAhaLqdkIAAMBQR+t2QgAAAII+7HZCAADA55DsdkIAAIBN4+x2QgAAQLM17XZCAAAAGYjtdkIAAEBKf+52QgAAALDR7nZCAADAFSTvdkIAAIB7du92QgAAQOHI73ZCAACAEsDwdkIAAEB4EvF2QgAAAN5k8XZCAADAQ7fxdkIAAICpCfJ2QgAAwNoA83ZCAACAQFPzdkIAAAAM+PN2QgAAwHFK9HZCAAAAo0H1dkIAAMAIlPV2QgAAQNQ49nZCAAAAOov2dkIAAEBrgvd2QgAAANHU93ZCAADANif4dkIAAICcefh2QgAAQALM+HZCAACAM8P5dkIAAECZFfp2QgAAAP9n+nZCAADAZLr6dkIAAIDKDPt2QgAAgGFW/HZCAABAx6j8dkIAAAAt+/x2QgAAwJJN/XZCAAAAxET+dkIAAMApl/52QgAAgI/p/nZCAABA9Tv/dkIAAABbjv92QgAAQIyFAHdCAAAA8tcAd0IAAMBXKgF3QgAAgL18AXdCAABAI88Bd0IAAIBUxgJ3QgAAQLoYA3dCAAAAIGsDd0IAAMCFvQN3QgAAgOsPBHdCAACAglkFd0IAAEDoqwV3QgAAAE7+BXdCAADAs1AGd0IAAADlRwd3QgAAwEqaB3dCAACAsOwHd0IAAEAWPwh3QgAAAHyRCHdCAABArYgJd0IAAAAT2wl3QgAAwHgtCndCAACA3n8Kd0IAAEBE0gp3QgAAgHXJC3dCAABA2xsMd0IAAABBbgx3QgAAwKbADHdCAACADBMNd0IAAMA9Cg53QgAAgKNcDndCAABACa8Od0IAAABvAQ93QgAAwNRTD3dCAAAABksQd0IAAMBrnRB3QgAAgNHvEHdCAABAN0IRd0IAAACdlBF3QgAAQM6LEndCAAAANN4Sd0IAAMCZMBN3QgAAgP+CE3dCAABAZdUTd0IAAICWzBR3QgAAQPweFXdCAAAAYnEVd0IAAMDHwxV3QgAAwF4NF3dCAACAxF8Xd0IAAEAqshd3QgAAAJAEGHdCAADA9VYYd0IAAAAnThl3QgAAwIygGXdCAACA8vIZd0IAAEBYRRp3QgAAAL6XGndCAABA744bd0IAAABV4Rt3QgAAwLozHHdCAACAIIYcd0IAAECG2Bx3QgAAgLfPHXdCAABAHSIed0IAAACDdB53QgAAwOjGHndCAACAThkfd0IAAMB/ECB3QgAAgOViIHdCAABAS7Ugd0IAAACxByF3QgAAwBZaIXdCAAAASFEid0IAAMCtoyJ3QgAAgBP2IndCAABAeUgjd0IAAADfmiN3QgAAAHbkJHdCAADA2zYld0IAAIBBiSV3QgAAQKfbJXdCAACA2NImd0IAAEA+JSd3QgAAAKR3J3dCAADACcond0IAAIBvHCh3QgAAwKATKXdCAACABmYpd0IAAEBsuCl3QgAAANIKKndCAADAN10qd0IAAABpVCt3QgAAwM6mK3dCAACANPkrd0IAAECaSyx3QgAAAACeLHdCAABAMZUtd0IAAACX5y13QgAAwPw5LndCAACAYowud0IAAEDI3i53QgAAgPnVL3dCAABAXygwd0IAAADFejB3QgAAwCrNMHdCAADAwRYyd0IAAIAnaTJ3QgAAQI27MndCAAAA8w0zd0IAAMBYYDN3QgAAAIpXNHdCAADA76k0d0IAAIBV/DR3QgAAQLtONXdCAAAAIaE1d0IAAEBSmDZ3QgAAALjqNndCAADAHT03d0IAAICDjzd3QgAAQOnhN3dCAACAGtk4d0IAAECAKzl3QgAAAOZ9OXdCAADAS9A5d0IAAICxIjp3QgAAwOIZO3dCAACASGw7d0IAAECuvjt3QgAAABQRPHdCAADAeWM8d0IAAACrWj13QgAAwBCtPXdCAACAdv89d0IAAEDcUT53QgAAAEKkPndCAABAc5s/d0IAAADZ7T93QgAAwD5AQHdCAACApJJAd0IAAEAK5UB3QgAAgDvcQXdC\",\"dtype\":\"float64\",\"shape\":[258]},\"y\":{\"__ndarray__\":\"AAAAgBSPaUAAAAAAEglqQAAAACBjCWpAAAAAYKFRakAAAABg7UtqQAAAAEDGFGlAAAAAYMOOaUAAAACg70RpQAAAAIBYcGlAAAAAgJzeaUAAAABgDtZpQAAAAEC7dWlAAAAAwFDkaUAAAACg6GVqQAAAAGBGZWpAAAAAAByCakAAAAAARtJqQAAAAICWrGtAAAAAoL6ca0AAAADAOhNrQAAAAOCqN2tAAAAAQARRa0AAAAAgm5JrQAAAAEBBWWtAAAAAwOjyakAAAABgRxJrQAAAAEBT8WpAAAAA4Hhba0AAAADgWTdrQAAAAKByFWtAAAAAwKC4a0AAAAAARsxrQAAAACDiGWtAAAAAgNFUa0AAAADg8xhsQAAAAGCJGmxAAAAAwEDGa0AAAAAglhlsQAAAAECLemxAAAAAwHU8bUAAAADgrzFtQAAAAKBCIG1AAAAAgCgCbUAAAAAg/h5tQAAAAEDMQm1AAAAAQLXEbUAAAAAASLNtQAAAACBPGW5AAAAAoPslbkAAAABACoVuQAAAAMBN025AAAAAQMscbkAAAADg1xtuQAAAAGAdym5AAAAAwNCpb0AAAAAADN9vQAAAAABT029AAAAAAM/Wb0AAAACAcBpwQAAAAOC4JXBAAAAAwHRGcEAAAABgpEJwQAAAAACHanBAAAAAoHJNcEAAAACgBn9wQAAAAMBRlHBAAAAAoHKHcEAAAAAgMFZwQAAAAOBvQ3BAAAAAQMg/cEAAAAAAuIhwQAAAAKCqZ3BAAAAA4BOgcEAAAADgs5ZwQAAAAOCZZXBAAAAAAMIacEAAAACAJT9wQAAAAGAqfHBAAAAA4K7NcEAAAABgdZFwQAAAAIA/qnBAAAAAAKPOcEAAAADgmdlwQAAAAIA8FHFAAAAAYBRfcUAAAAAA0mdxQAAAAGAsXXFAAAAAYJ9hcUAAAAAAaFhxQAAAAMDdoHFAAAAAACilcUAAAABAx/5xQAAAAMAH/XFAAAAAoFwYckAAAABANTpyQAAAAKCspHJAAAAAIEZ2ckAAAAAg75tyQAAAAICHhXJAAAAAYM3RckAAAAAAIzhzQAAAAGBCQ3NAAAAA4Jysc0AAAAAgmmhzQAAAACBPU3NAAAAAAEiRc0AAAABAvchzQAAAAIBqpnNAAAAAYF+4c0AAAABAr9BzQAAAAKAQwnNAAAAAwFQtc0AAAACANrhzQAAAAEDiIXRAAAAAYGoadEAAAADgOjZzQAAAACC5KHNAAAAAQKXKc0AAAAAg9vNzQAAAAGC1L3RAAAAAIHfpc0AAAAAgrQF0QAAAAIDG4nNAAAAAoKtbdEAAAADAjjZ0QAAAAADVN3RAAAAAQA/Zc0AAAADApSJ0QAAAAADE7XNAAAAAoEl6c0AAAADAb41yQAAAACCQ7HFAAAAAwFo1ckAAAACApgRxQAAAAAAaAnFAAAAAoHiXckAAAACAUAByQAAAAKAR1nJAAAAAwKc5ckAAAAAAsvtxQAAAAECUj3BAAAAAoOvAcUAAAACgEiNxQAAAAICo425AAAAAwIdLcUAAAABg4iNuQAAAAAAnd29AAAAAYPaxbkAAAAAAwXVuQAAAAKC1hmxAAAAAwJHra0AAAAAAp7huQAAAAOBTjW5AAAAAgHQUcEAAAABgDNRuQAAAAIBFtW9AAAAA4LSkb0AAAACgePptQAAAAGCIem5AAAAAIGYKbkAAAAAgpVRwQAAAAEA5JHBAAAAAgPyNcEAAAABgkaxwQAAAAKBZAHFAAAAAQCjccUAAAAAAbbJxQAAAAGBs1nFAAAAAgHaYcUAAAAAA9zpxQAAAAOCesnBAAAAAoL4tcUAAAACgsxxxQAAAAMArm3FAAAAAQFuecUAAAAAAP1VxQAAAACD95nFAAAAAAKxHckAAAAAAVfxxQAAAAGB6PXJAAAAAwI+DckAAAADgdbRyQAAAACD/5XJAAAAAQCZZc0AAAADAFqdzQAAAAMCXbXNAAAAAYIoxc0AAAAAAuk9zQAAAAMB/MnNAAAAAQEqmc0AAAAAgOYlzQAAAAOB86nNAAAAA4HnEc0AAAADADuVzQAAAAECPwnNAAAAAgJnYc0AAAADg1dpzQAAAAIDi1XNAAAAAAFUUdEAAAAAAISx0QAAAAMCOSHRAAAAAoNYbdEAAAABAdK50QAAAAODBzXRAAAAAIO91dUAAAACARwN2QAAAACC69HRAAAAAIAsjdUAAAACA9mV1QAAAACAk93VAAAAAwFDvdUAAAABAjfF1QAAAAABz0XVAAAAAAJZjdkAAAADg7N12QAAAAICXdnZAAAAAIO/CdkAAAACg5Q92QAAAAOAPknZAAAAAgEvCdkAAAABgRrd2QAAAAGBGt3ZAAAAAoNVSd0AAAADgTkB3QAAAACDwyndAAAAAgCHld0AAAADg1O93QAAAAACQ03dAAAAAIIA4eEAAAADAJGN4QAAAAGBSFnhAAAAAQN0JeEAAAAAAjYt4QAAAAMDTNHhAAAAAYDxGeEAAAADAYit3QAAAACCxHHdAAAAAQOuod0AAAABAa0V3QAAAAOCct3dAAAAAoBQBeEAAAACAZoR6QAAAAMBzL3tAAAAAoO1de0AAAACAUnd7QAAAAOCjbHxAAAAAQDPHe0AAAABgjy58QAAAAAAAWHtAAAAA4KNAfEAAAADgo8B8QAAAAIAUunxAAAAAQOGmfEAAAAAAAOR8QAAAAKBH7XxAAAAAoJmRfUAAAAAgrhd/QAAAAEDhdn9A\",\"dtype\":\"float64\",\"shape\":[258]}},\"selected\":{\"id\":\"4750\",\"type\":\"Selection\"},\"selection_policy\":{\"id\":\"4749\",\"type\":\"UnionRenderers\"}},\"id\":\"4700\",\"type\":\"ColumnDataSource\"},{\"attributes\":{\"days\":[1,8,15,22]},\"id\":\"4716\",\"type\":\"DaysTicker\"},{\"attributes\":{},\"id\":\"4750\",\"type\":\"Selection\"},{\"attributes\":{\"data_source\":{\"id\":\"4700\",\"type\":\"ColumnDataSource\"},\"glyph\":{\"id\":\"4701\",\"type\":\"Circle\"},\"hover_glyph\":null,\"muted_glyph\":null,\"nonselection_glyph\":{\"id\":\"4702\",\"type\":\"Circle\"},\"selection_glyph\":null,\"view\":{\"id\":\"4704\",\"type\":\"CDSView\"}},\"id\":\"4703\",\"type\":\"GlyphRenderer\"},{\"attributes\":{\"months\":[0,6]},\"id\":\"4721\",\"type\":\"MonthsTicker\"},{\"attributes\":{\"ticker\":{\"id\":\"4678\",\"type\":\"DatetimeTicker\"}},\"id\":\"4681\",\"type\":\"Grid\"},{\"attributes\":{\"days\":[1,2,3,4,5,6,7,8,9,10,11,12,13,14,15,16,17,18,19,20,21,22,23,24,25,26,27,28,29,30,31]},\"id\":\"4714\",\"type\":\"DaysTicker\"},{\"attributes\":{\"bottom_units\":\"screen\",\"fill_alpha\":{\"value\":0.5},\"fill_color\":{\"value\":\"lightgrey\"},\"left_units\":\"screen\",\"level\":\"overlay\",\"line_alpha\":{\"value\":1.0},\"line_color\":{\"value\":\"black\"},\"line_dash\":[4,4],\"line_width\":{\"value\":2},\"render_mode\":\"css\",\"right_units\":\"screen\",\"top_units\":\"screen\"},\"id\":\"4723\",\"type\":\"BoxAnnotation\"},{\"attributes\":{\"axis_label\":\"Date\",\"formatter\":{\"id\":\"4709\",\"type\":\"DatetimeTickFormatter\"},\"ticker\":{\"id\":\"4678\",\"type\":\"DatetimeTicker\"}},\"id\":\"4677\",\"type\":\"DatetimeAxis\"},{\"attributes\":{},\"id\":\"4692\",\"type\":\"HelpTool\"},{\"attributes\":{},\"id\":\"4688\",\"type\":\"WheelZoomTool\"},{\"attributes\":{\"band_fill_alpha\":0.3,\"band_fill_color\":\"darkseagreen\",\"dimension\":1,\"ticker\":{\"id\":\"4683\",\"type\":\"BasicTicker\"}},\"id\":\"4686\",\"type\":\"Grid\"},{\"attributes\":{\"label\":{\"value\":\"close\"},\"renderers\":[{\"id\":\"4703\",\"type\":\"GlyphRenderer\"}]},\"id\":\"4725\",\"type\":\"LegendItem\"},{\"attributes\":{\"line_color\":\"navy\",\"x\":{\"field\":\"x\"},\"y\":{\"field\":\"y\"}},\"id\":\"4727\",\"type\":\"Line\"},{\"attributes\":{\"base\":60,\"mantissas\":[1,2,5,10,15,20,30],\"max_interval\":1800000.0,\"min_interval\":1000.0,\"num_minor_ticks\":0},\"id\":\"4712\",\"type\":\"AdaptiveTicker\"},{\"attributes\":{\"items\":[{\"id\":\"4725\",\"type\":\"LegendItem\"},{\"id\":\"4752\",\"type\":\"LegendItem\"}],\"location\":\"top_left\"},\"id\":\"4724\",\"type\":\"Legend\"},{\"attributes\":{\"callback\":null},\"id\":\"4669\",\"type\":\"DataRange1d\"},{\"attributes\":{\"callback\":null,\"data\":{\"x\":{\"__ndarray__\":\"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\",\"dtype\":\"float64\",\"shape\":[258]},\"y\":{\"__ndarray__\":\"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\",\"dtype\":\"float64\",\"shape\":[258]}},\"selected\":{\"id\":\"4913\",\"type\":\"Selection\"},\"selection_policy\":{\"id\":\"4912\",\"type\":\"UnionRenderers\"}},\"id\":\"4726\",\"type\":\"ColumnDataSource\"},{\"attributes\":{},\"id\":\"4687\",\"type\":\"PanTool\"},{\"attributes\":{\"num_minor_ticks\":5,\"tickers\":[{\"id\":\"4711\",\"type\":\"AdaptiveTicker\"},{\"id\":\"4712\",\"type\":\"AdaptiveTicker\"},{\"id\":\"4713\",\"type\":\"AdaptiveTicker\"},{\"id\":\"4714\",\"type\":\"DaysTicker\"},{\"id\":\"4715\",\"type\":\"DaysTicker\"},{\"id\":\"4716\",\"type\":\"DaysTicker\"},{\"id\":\"4717\",\"type\":\"DaysTicker\"},{\"id\":\"4718\",\"type\":\"MonthsTicker\"},{\"id\":\"4719\",\"type\":\"MonthsTicker\"},{\"id\":\"4720\",\"type\":\"MonthsTicker\"},{\"id\":\"4721\",\"type\":\"MonthsTicker\"},{\"id\":\"4722\",\"type\":\"YearsTicker\"}]},\"id\":\"4678\",\"type\":\"DatetimeTicker\"}],\"root_ids\":[\"4668\"]},\"title\":\"Bokeh Application\",\"version\":\"1.4.0\"}};\n",
       "  var render_items = [{\"docid\":\"a894f3c1-cb5a-4a9e-89b7-c1284e28d12f\",\"roots\":{\"4668\":\"75299ae6-34a1-43e5-9986-10a92eeae436\"}}];\n",
       "  root.Bokeh.embed.embed_items_notebook(docs_json, render_items);\n",
       "\n",
       "  }\n",
       "  if (root.Bokeh !== undefined) {\n",
       "    embed_document(root);\n",
       "  } else {\n",
       "    var attempts = 0;\n",
       "    var timer = setInterval(function(root) {\n",
       "      if (root.Bokeh !== undefined) {\n",
       "        clearInterval(timer);\n",
       "        embed_document(root);\n",
       "      } else {\n",
       "        attempts++;\n",
       "        if (attempts > 100) {\n",
       "          clearInterval(timer);\n",
       "          console.log(\"Bokeh: ERROR: Unable to run BokehJS code because BokehJS library is missing\");\n",
       "        }\n",
       "      }\n",
       "    }, 10, root)\n",
       "  }\n",
       "})(window);"
      ],
      "application/vnd.bokehjs_exec.v0+json": ""
     },
     "metadata": {
      "application/vnd.bokehjs_exec.v0+json": {
       "id": "4668"
      }
     },
     "output_type": "display_data"
    }
   ],
   "source": [
    "aapl_avg = Health_care_df[\"AAPL\"].pct_change()\n",
    "# create a new plot with a datetime axis type\n",
    "p = figure(plot_width=800, plot_height=350, x_axis_type=\"datetime\")\n",
    "\n",
    "# add renderers\n",
    "p.circle(Health_care_df[\"Date\"], Health_care_df[\"AAPL\"], size=4, color='darkgrey', alpha=0.2, legend_label='close')\n",
    "p.line(Health_care_df[\"Date\"], aapl_avg, color='navy', legend_label='avg')\n",
    "\n",
    "# NEW: customize by setting attributes\n",
    "p.title.text = \"AAPL One-Month Average\"\n",
    "p.legend.location = \"top_left\"\n",
    "p.grid.grid_line_alpha = 1\n",
    "p.xaxis.axis_label = 'Date'\n",
    "p.yaxis.axis_label = 'Price'\n",
    "p.ygrid.band_fill_color = \"darkseagreen\"\n",
    "p.ygrid.band_fill_alpha = 0.3\n",
    "\n",
    "# show the results\n",
    "show(p)"
   ]
  },
  {
   "cell_type": "code",
   "execution_count": 45,
   "metadata": {},
   "outputs": [
    {
     "ename": "NameError",
     "evalue": "name 'h' is not defined",
     "output_type": "error",
     "traceback": [
      "\u001b[1;31m---------------------------------------------------------------------------\u001b[0m",
      "\u001b[1;31mNameError\u001b[0m                                 Traceback (most recent call last)",
      "\u001b[1;32m<ipython-input-45-244aa7266b3f>\u001b[0m in \u001b[0;36m<module>\u001b[1;34m\u001b[0m\n\u001b[1;32m----> 1\u001b[1;33m \u001b[0mh\u001b[0m\u001b[1;33m\u001b[0m\u001b[1;33m\u001b[0m\u001b[0m\n\u001b[0m",
      "\u001b[1;31mNameError\u001b[0m: name 'h' is not defined"
     ]
    }
   ],
   "source": [
    "h"
   ]
  },
  {
   "cell_type": "code",
   "execution_count": 46,
   "metadata": {},
   "outputs": [],
   "source": [
    "Covid_df = pd.read_csv(\"../covid-19-data//us.csv\")\n",
    "Covid_df = Covid_df.reset_index().set_index(\"date\").drop(columns=\"index\")"
   ]
  },
  {
   "cell_type": "code",
   "execution_count": 47,
   "metadata": {},
   "outputs": [
    {
     "data": {
      "text/html": [
       "<div>\n",
       "<style scoped>\n",
       "    .dataframe tbody tr th:only-of-type {\n",
       "        vertical-align: middle;\n",
       "    }\n",
       "\n",
       "    .dataframe tbody tr th {\n",
       "        vertical-align: top;\n",
       "    }\n",
       "\n",
       "    .dataframe thead th {\n",
       "        text-align: right;\n",
       "    }\n",
       "</style>\n",
       "<table border=\"1\" class=\"dataframe\">\n",
       "  <thead>\n",
       "    <tr style=\"text-align: right;\">\n",
       "      <th></th>\n",
       "      <th>cases</th>\n",
       "      <th>deaths</th>\n",
       "    </tr>\n",
       "    <tr>\n",
       "      <th>date</th>\n",
       "      <th></th>\n",
       "      <th></th>\n",
       "    </tr>\n",
       "  </thead>\n",
       "  <tbody>\n",
       "    <tr>\n",
       "      <th>2020-08-11</th>\n",
       "      <td>5154648</td>\n",
       "      <td>164468</td>\n",
       "    </tr>\n",
       "    <tr>\n",
       "      <th>2020-08-12</th>\n",
       "      <td>5208835</td>\n",
       "      <td>165946</td>\n",
       "    </tr>\n",
       "    <tr>\n",
       "      <th>2020-08-13</th>\n",
       "      <td>5262791</td>\n",
       "      <td>167165</td>\n",
       "    </tr>\n",
       "    <tr>\n",
       "      <th>2020-08-14</th>\n",
       "      <td>5322232</td>\n",
       "      <td>168335</td>\n",
       "    </tr>\n",
       "    <tr>\n",
       "      <th>2020-08-15</th>\n",
       "      <td>5372567</td>\n",
       "      <td>169394</td>\n",
       "    </tr>\n",
       "  </tbody>\n",
       "</table>\n",
       "</div>"
      ],
      "text/plain": [
       "              cases  deaths\n",
       "date                       \n",
       "2020-08-11  5154648  164468\n",
       "2020-08-12  5208835  165946\n",
       "2020-08-13  5262791  167165\n",
       "2020-08-14  5322232  168335\n",
       "2020-08-15  5372567  169394"
      ]
     },
     "execution_count": 47,
     "metadata": {},
     "output_type": "execute_result"
    }
   ],
   "source": [
    "Covid_df.tail()"
   ]
  },
  {
   "cell_type": "code",
   "execution_count": 48,
   "metadata": {},
   "outputs": [
    {
     "data": {
      "text/html": [
       "<div>\n",
       "<style scoped>\n",
       "    .dataframe tbody tr th:only-of-type {\n",
       "        vertical-align: middle;\n",
       "    }\n",
       "\n",
       "    .dataframe tbody tr th {\n",
       "        vertical-align: top;\n",
       "    }\n",
       "\n",
       "    .dataframe thead th {\n",
       "        text-align: right;\n",
       "    }\n",
       "</style>\n",
       "<table border=\"1\" class=\"dataframe\">\n",
       "  <thead>\n",
       "    <tr style=\"text-align: right;\">\n",
       "      <th>Symbols</th>\n",
       "      <th>Date</th>\n",
       "      <th>UNH</th>\n",
       "      <th>JNJ</th>\n",
       "      <th>MRK</th>\n",
       "      <th>ABBV</th>\n",
       "      <th>ABT</th>\n",
       "      <th>AAPL</th>\n",
       "    </tr>\n",
       "  </thead>\n",
       "  <tbody>\n",
       "    <tr>\n",
       "      <th>0</th>\n",
       "      <td>2019-08-16</td>\n",
       "      <td>241.509521</td>\n",
       "      <td>126.934807</td>\n",
       "      <td>82.578949</td>\n",
       "      <td>60.105961</td>\n",
       "      <td>83.407936</td>\n",
       "      <td>204.471252</td>\n",
       "    </tr>\n",
       "    <tr>\n",
       "      <th>1</th>\n",
       "      <td>2019-08-19</td>\n",
       "      <td>240.546204</td>\n",
       "      <td>127.794823</td>\n",
       "      <td>83.675987</td>\n",
       "      <td>62.093006</td>\n",
       "      <td>84.175308</td>\n",
       "      <td>208.283447</td>\n",
       "    </tr>\n",
       "    <tr>\n",
       "      <th>2</th>\n",
       "      <td>2019-08-20</td>\n",
       "      <td>236.073608</td>\n",
       "      <td>126.200424</td>\n",
       "      <td>83.151749</td>\n",
       "      <td>61.953091</td>\n",
       "      <td>83.171829</td>\n",
       "      <td>208.293350</td>\n",
       "    </tr>\n",
       "    <tr>\n",
       "      <th>3</th>\n",
       "      <td>2019-08-21</td>\n",
       "      <td>236.260376</td>\n",
       "      <td>127.099083</td>\n",
       "      <td>84.374992</td>\n",
       "      <td>63.007248</td>\n",
       "      <td>83.526001</td>\n",
       "      <td>210.550949</td>\n",
       "    </tr>\n",
       "    <tr>\n",
       "      <th>4</th>\n",
       "      <td>2019-08-22</td>\n",
       "      <td>228.976456</td>\n",
       "      <td>126.847839</td>\n",
       "      <td>84.190536</td>\n",
       "      <td>62.988586</td>\n",
       "      <td>83.004578</td>\n",
       "      <td>210.372726</td>\n",
       "    </tr>\n",
       "  </tbody>\n",
       "</table>\n",
       "</div>"
      ],
      "text/plain": [
       "Symbols       Date         UNH         JNJ        MRK       ABBV        ABT  \\\n",
       "0       2019-08-16  241.509521  126.934807  82.578949  60.105961  83.407936   \n",
       "1       2019-08-19  240.546204  127.794823  83.675987  62.093006  84.175308   \n",
       "2       2019-08-20  236.073608  126.200424  83.151749  61.953091  83.171829   \n",
       "3       2019-08-21  236.260376  127.099083  84.374992  63.007248  83.526001   \n",
       "4       2019-08-22  228.976456  126.847839  84.190536  62.988586  83.004578   \n",
       "\n",
       "Symbols        AAPL  \n",
       "0        204.471252  \n",
       "1        208.283447  \n",
       "2        208.293350  \n",
       "3        210.550949  \n",
       "4        210.372726  "
      ]
     },
     "execution_count": 48,
     "metadata": {},
     "output_type": "execute_result"
    }
   ],
   "source": [
    "Health_care_df.head()"
   ]
  },
  {
   "cell_type": "code",
   "execution_count": 49,
   "metadata": {},
   "outputs": [],
   "source": [
    "covid_pct_change = Covid_df.pct_change()"
   ]
  },
  {
   "cell_type": "code",
   "execution_count": 50,
   "metadata": {},
   "outputs": [
    {
     "ename": "TypeError",
     "evalue": "cannot perform __truediv__ with this index type: DatetimeArray",
     "output_type": "error",
     "traceback": [
      "\u001b[1;31m---------------------------------------------------------------------------\u001b[0m",
      "\u001b[1;31mTypeError\u001b[0m                                 Traceback (most recent call last)",
      "\u001b[1;32m<ipython-input-50-7d90850385ef>\u001b[0m in \u001b[0;36m<module>\u001b[1;34m\u001b[0m\n\u001b[1;32m----> 1\u001b[1;33m \u001b[0mhealth_pct_change\u001b[0m \u001b[1;33m=\u001b[0m \u001b[0mHealth_care_df\u001b[0m\u001b[1;33m.\u001b[0m\u001b[0mpct_change\u001b[0m\u001b[1;33m(\u001b[0m\u001b[1;33m)\u001b[0m\u001b[1;33m\u001b[0m\u001b[1;33m\u001b[0m\u001b[0m\n\u001b[0m",
      "\u001b[1;32m~\\anaconda3\\lib\\site-packages\\pandas\\core\\generic.py\u001b[0m in \u001b[0;36mpct_change\u001b[1;34m(self, periods, fill_method, limit, freq, **kwargs)\u001b[0m\n\u001b[0;32m  10086\u001b[0m             )\n\u001b[0;32m  10087\u001b[0m \u001b[1;33m\u001b[0m\u001b[0m\n\u001b[1;32m> 10088\u001b[1;33m         \u001b[0mrs\u001b[0m \u001b[1;33m=\u001b[0m \u001b[0mdata\u001b[0m\u001b[1;33m.\u001b[0m\u001b[0mdiv\u001b[0m\u001b[1;33m(\u001b[0m\u001b[0mdata\u001b[0m\u001b[1;33m.\u001b[0m\u001b[0mshift\u001b[0m\u001b[1;33m(\u001b[0m\u001b[0mperiods\u001b[0m\u001b[1;33m=\u001b[0m\u001b[0mperiods\u001b[0m\u001b[1;33m,\u001b[0m \u001b[0mfreq\u001b[0m\u001b[1;33m=\u001b[0m\u001b[0mfreq\u001b[0m\u001b[1;33m,\u001b[0m \u001b[0maxis\u001b[0m\u001b[1;33m=\u001b[0m\u001b[0maxis\u001b[0m\u001b[1;33m,\u001b[0m \u001b[1;33m**\u001b[0m\u001b[0mkwargs\u001b[0m\u001b[1;33m)\u001b[0m\u001b[1;33m)\u001b[0m \u001b[1;33m-\u001b[0m \u001b[1;36m1\u001b[0m\u001b[1;33m\u001b[0m\u001b[1;33m\u001b[0m\u001b[0m\n\u001b[0m\u001b[0;32m  10089\u001b[0m         \u001b[1;32mif\u001b[0m \u001b[0mfreq\u001b[0m \u001b[1;32mis\u001b[0m \u001b[1;32mnot\u001b[0m \u001b[1;32mNone\u001b[0m\u001b[1;33m:\u001b[0m\u001b[1;33m\u001b[0m\u001b[1;33m\u001b[0m\u001b[0m\n\u001b[0;32m  10090\u001b[0m             \u001b[1;31m# Shift method is implemented differently when freq is not None\u001b[0m\u001b[1;33m\u001b[0m\u001b[1;33m\u001b[0m\u001b[1;33m\u001b[0m\u001b[0m\n",
      "\u001b[1;32m~\\anaconda3\\lib\\site-packages\\pandas\\core\\ops\\__init__.py\u001b[0m in \u001b[0;36mf\u001b[1;34m(self, other, axis, level, fill_value)\u001b[0m\n\u001b[0;32m    701\u001b[0m \u001b[1;33m\u001b[0m\u001b[0m\n\u001b[0;32m    702\u001b[0m             \u001b[0mleft\u001b[0m\u001b[1;33m,\u001b[0m \u001b[0mright\u001b[0m \u001b[1;33m=\u001b[0m \u001b[0mself\u001b[0m\u001b[1;33m.\u001b[0m\u001b[0malign\u001b[0m\u001b[1;33m(\u001b[0m\u001b[0mother\u001b[0m\u001b[1;33m,\u001b[0m \u001b[0mjoin\u001b[0m\u001b[1;33m=\u001b[0m\u001b[1;34m\"outer\"\u001b[0m\u001b[1;33m,\u001b[0m \u001b[0mlevel\u001b[0m\u001b[1;33m=\u001b[0m\u001b[0mlevel\u001b[0m\u001b[1;33m,\u001b[0m \u001b[0mcopy\u001b[0m\u001b[1;33m=\u001b[0m\u001b[1;32mFalse\u001b[0m\u001b[1;33m)\u001b[0m\u001b[1;33m\u001b[0m\u001b[1;33m\u001b[0m\u001b[0m\n\u001b[1;32m--> 703\u001b[1;33m             \u001b[0mnew_data\u001b[0m \u001b[1;33m=\u001b[0m \u001b[0mleft\u001b[0m\u001b[1;33m.\u001b[0m\u001b[0m_combine_frame\u001b[0m\u001b[1;33m(\u001b[0m\u001b[0mright\u001b[0m\u001b[1;33m,\u001b[0m \u001b[0mpass_op\u001b[0m\u001b[1;33m,\u001b[0m \u001b[0mfill_value\u001b[0m\u001b[1;33m)\u001b[0m\u001b[1;33m\u001b[0m\u001b[1;33m\u001b[0m\u001b[0m\n\u001b[0m\u001b[0;32m    704\u001b[0m             \u001b[1;32mreturn\u001b[0m \u001b[0mleft\u001b[0m\u001b[1;33m.\u001b[0m\u001b[0m_construct_result\u001b[0m\u001b[1;33m(\u001b[0m\u001b[0mnew_data\u001b[0m\u001b[1;33m)\u001b[0m\u001b[1;33m\u001b[0m\u001b[1;33m\u001b[0m\u001b[0m\n\u001b[0;32m    705\u001b[0m \u001b[1;33m\u001b[0m\u001b[0m\n",
      "\u001b[1;32m~\\anaconda3\\lib\\site-packages\\pandas\\core\\frame.py\u001b[0m in \u001b[0;36m_combine_frame\u001b[1;34m(self, other, func, fill_value, level)\u001b[0m\n\u001b[0;32m   5298\u001b[0m         \u001b[1;32mif\u001b[0m \u001b[0mops\u001b[0m\u001b[1;33m.\u001b[0m\u001b[0mshould_series_dispatch\u001b[0m\u001b[1;33m(\u001b[0m\u001b[0mself\u001b[0m\u001b[1;33m,\u001b[0m \u001b[0mother\u001b[0m\u001b[1;33m,\u001b[0m \u001b[0mfunc\u001b[0m\u001b[1;33m)\u001b[0m\u001b[1;33m:\u001b[0m\u001b[1;33m\u001b[0m\u001b[1;33m\u001b[0m\u001b[0m\n\u001b[0;32m   5299\u001b[0m             \u001b[1;31m# iterate over columns\u001b[0m\u001b[1;33m\u001b[0m\u001b[1;33m\u001b[0m\u001b[1;33m\u001b[0m\u001b[0m\n\u001b[1;32m-> 5300\u001b[1;33m             \u001b[0mnew_data\u001b[0m \u001b[1;33m=\u001b[0m \u001b[0mops\u001b[0m\u001b[1;33m.\u001b[0m\u001b[0mdispatch_to_series\u001b[0m\u001b[1;33m(\u001b[0m\u001b[0mself\u001b[0m\u001b[1;33m,\u001b[0m \u001b[0mother\u001b[0m\u001b[1;33m,\u001b[0m \u001b[0m_arith_op\u001b[0m\u001b[1;33m)\u001b[0m\u001b[1;33m\u001b[0m\u001b[1;33m\u001b[0m\u001b[0m\n\u001b[0m\u001b[0;32m   5301\u001b[0m         \u001b[1;32melse\u001b[0m\u001b[1;33m:\u001b[0m\u001b[1;33m\u001b[0m\u001b[1;33m\u001b[0m\u001b[0m\n\u001b[0;32m   5302\u001b[0m             \u001b[1;32mwith\u001b[0m \u001b[0mnp\u001b[0m\u001b[1;33m.\u001b[0m\u001b[0merrstate\u001b[0m\u001b[1;33m(\u001b[0m\u001b[0mall\u001b[0m\u001b[1;33m=\u001b[0m\u001b[1;34m\"ignore\"\u001b[0m\u001b[1;33m)\u001b[0m\u001b[1;33m:\u001b[0m\u001b[1;33m\u001b[0m\u001b[1;33m\u001b[0m\u001b[0m\n",
      "\u001b[1;32m~\\anaconda3\\lib\\site-packages\\pandas\\core\\ops\\__init__.py\u001b[0m in \u001b[0;36mdispatch_to_series\u001b[1;34m(left, right, func, str_rep, axis)\u001b[0m\n\u001b[0;32m    414\u001b[0m         \u001b[1;32mraise\u001b[0m \u001b[0mNotImplementedError\u001b[0m\u001b[1;33m(\u001b[0m\u001b[0mright\u001b[0m\u001b[1;33m)\u001b[0m\u001b[1;33m\u001b[0m\u001b[1;33m\u001b[0m\u001b[0m\n\u001b[0;32m    415\u001b[0m \u001b[1;33m\u001b[0m\u001b[0m\n\u001b[1;32m--> 416\u001b[1;33m     \u001b[0mnew_data\u001b[0m \u001b[1;33m=\u001b[0m \u001b[0mexpressions\u001b[0m\u001b[1;33m.\u001b[0m\u001b[0mevaluate\u001b[0m\u001b[1;33m(\u001b[0m\u001b[0mcolumn_op\u001b[0m\u001b[1;33m,\u001b[0m \u001b[0mstr_rep\u001b[0m\u001b[1;33m,\u001b[0m \u001b[0mleft\u001b[0m\u001b[1;33m,\u001b[0m \u001b[0mright\u001b[0m\u001b[1;33m)\u001b[0m\u001b[1;33m\u001b[0m\u001b[1;33m\u001b[0m\u001b[0m\n\u001b[0m\u001b[0;32m    417\u001b[0m     \u001b[1;32mreturn\u001b[0m \u001b[0mnew_data\u001b[0m\u001b[1;33m\u001b[0m\u001b[1;33m\u001b[0m\u001b[0m\n\u001b[0;32m    418\u001b[0m \u001b[1;33m\u001b[0m\u001b[0m\n",
      "\u001b[1;32m~\\anaconda3\\lib\\site-packages\\pandas\\core\\computation\\expressions.py\u001b[0m in \u001b[0;36mevaluate\u001b[1;34m(op, op_str, a, b, use_numexpr)\u001b[0m\n\u001b[0;32m    206\u001b[0m     \u001b[0muse_numexpr\u001b[0m \u001b[1;33m=\u001b[0m \u001b[0muse_numexpr\u001b[0m \u001b[1;32mand\u001b[0m \u001b[0m_bool_arith_check\u001b[0m\u001b[1;33m(\u001b[0m\u001b[0mop_str\u001b[0m\u001b[1;33m,\u001b[0m \u001b[0ma\u001b[0m\u001b[1;33m,\u001b[0m \u001b[0mb\u001b[0m\u001b[1;33m)\u001b[0m\u001b[1;33m\u001b[0m\u001b[1;33m\u001b[0m\u001b[0m\n\u001b[0;32m    207\u001b[0m     \u001b[1;32mif\u001b[0m \u001b[0muse_numexpr\u001b[0m\u001b[1;33m:\u001b[0m\u001b[1;33m\u001b[0m\u001b[1;33m\u001b[0m\u001b[0m\n\u001b[1;32m--> 208\u001b[1;33m         \u001b[1;32mreturn\u001b[0m \u001b[0m_evaluate\u001b[0m\u001b[1;33m(\u001b[0m\u001b[0mop\u001b[0m\u001b[1;33m,\u001b[0m \u001b[0mop_str\u001b[0m\u001b[1;33m,\u001b[0m \u001b[0ma\u001b[0m\u001b[1;33m,\u001b[0m \u001b[0mb\u001b[0m\u001b[1;33m)\u001b[0m\u001b[1;33m\u001b[0m\u001b[1;33m\u001b[0m\u001b[0m\n\u001b[0m\u001b[0;32m    209\u001b[0m     \u001b[1;32mreturn\u001b[0m \u001b[0m_evaluate_standard\u001b[0m\u001b[1;33m(\u001b[0m\u001b[0mop\u001b[0m\u001b[1;33m,\u001b[0m \u001b[0mop_str\u001b[0m\u001b[1;33m,\u001b[0m \u001b[0ma\u001b[0m\u001b[1;33m,\u001b[0m \u001b[0mb\u001b[0m\u001b[1;33m)\u001b[0m\u001b[1;33m\u001b[0m\u001b[1;33m\u001b[0m\u001b[0m\n\u001b[0;32m    210\u001b[0m \u001b[1;33m\u001b[0m\u001b[0m\n",
      "\u001b[1;32m~\\anaconda3\\lib\\site-packages\\pandas\\core\\computation\\expressions.py\u001b[0m in \u001b[0;36m_evaluate_numexpr\u001b[1;34m(op, op_str, a, b)\u001b[0m\n\u001b[0;32m    119\u001b[0m \u001b[1;33m\u001b[0m\u001b[0m\n\u001b[0;32m    120\u001b[0m     \u001b[1;32mif\u001b[0m \u001b[0mresult\u001b[0m \u001b[1;32mis\u001b[0m \u001b[1;32mNone\u001b[0m\u001b[1;33m:\u001b[0m\u001b[1;33m\u001b[0m\u001b[1;33m\u001b[0m\u001b[0m\n\u001b[1;32m--> 121\u001b[1;33m         \u001b[0mresult\u001b[0m \u001b[1;33m=\u001b[0m \u001b[0m_evaluate_standard\u001b[0m\u001b[1;33m(\u001b[0m\u001b[0mop\u001b[0m\u001b[1;33m,\u001b[0m \u001b[0mop_str\u001b[0m\u001b[1;33m,\u001b[0m \u001b[0ma\u001b[0m\u001b[1;33m,\u001b[0m \u001b[0mb\u001b[0m\u001b[1;33m)\u001b[0m\u001b[1;33m\u001b[0m\u001b[1;33m\u001b[0m\u001b[0m\n\u001b[0m\u001b[0;32m    122\u001b[0m \u001b[1;33m\u001b[0m\u001b[0m\n\u001b[0;32m    123\u001b[0m     \u001b[1;32mreturn\u001b[0m \u001b[0mresult\u001b[0m\u001b[1;33m\u001b[0m\u001b[1;33m\u001b[0m\u001b[0m\n",
      "\u001b[1;32m~\\anaconda3\\lib\\site-packages\\pandas\\core\\computation\\expressions.py\u001b[0m in \u001b[0;36m_evaluate_standard\u001b[1;34m(op, op_str, a, b)\u001b[0m\n\u001b[0;32m     68\u001b[0m         \u001b[0m_store_test_result\u001b[0m\u001b[1;33m(\u001b[0m\u001b[1;32mFalse\u001b[0m\u001b[1;33m)\u001b[0m\u001b[1;33m\u001b[0m\u001b[1;33m\u001b[0m\u001b[0m\n\u001b[0;32m     69\u001b[0m     \u001b[1;32mwith\u001b[0m \u001b[0mnp\u001b[0m\u001b[1;33m.\u001b[0m\u001b[0merrstate\u001b[0m\u001b[1;33m(\u001b[0m\u001b[0mall\u001b[0m\u001b[1;33m=\u001b[0m\u001b[1;34m\"ignore\"\u001b[0m\u001b[1;33m)\u001b[0m\u001b[1;33m:\u001b[0m\u001b[1;33m\u001b[0m\u001b[1;33m\u001b[0m\u001b[0m\n\u001b[1;32m---> 70\u001b[1;33m         \u001b[1;32mreturn\u001b[0m \u001b[0mop\u001b[0m\u001b[1;33m(\u001b[0m\u001b[0ma\u001b[0m\u001b[1;33m,\u001b[0m \u001b[0mb\u001b[0m\u001b[1;33m)\u001b[0m\u001b[1;33m\u001b[0m\u001b[1;33m\u001b[0m\u001b[0m\n\u001b[0m\u001b[0;32m     71\u001b[0m \u001b[1;33m\u001b[0m\u001b[0m\n\u001b[0;32m     72\u001b[0m \u001b[1;33m\u001b[0m\u001b[0m\n",
      "\u001b[1;32m~\\anaconda3\\lib\\site-packages\\pandas\\core\\ops\\__init__.py\u001b[0m in \u001b[0;36mcolumn_op\u001b[1;34m(a, b)\u001b[0m\n\u001b[0;32m    383\u001b[0m \u001b[1;33m\u001b[0m\u001b[0m\n\u001b[0;32m    384\u001b[0m         \u001b[1;32mdef\u001b[0m \u001b[0mcolumn_op\u001b[0m\u001b[1;33m(\u001b[0m\u001b[0ma\u001b[0m\u001b[1;33m,\u001b[0m \u001b[0mb\u001b[0m\u001b[1;33m)\u001b[0m\u001b[1;33m:\u001b[0m\u001b[1;33m\u001b[0m\u001b[1;33m\u001b[0m\u001b[0m\n\u001b[1;32m--> 385\u001b[1;33m             \u001b[1;32mreturn\u001b[0m \u001b[1;33m{\u001b[0m\u001b[0mi\u001b[0m\u001b[1;33m:\u001b[0m \u001b[0mfunc\u001b[0m\u001b[1;33m(\u001b[0m\u001b[0ma\u001b[0m\u001b[1;33m.\u001b[0m\u001b[0miloc\u001b[0m\u001b[1;33m[\u001b[0m\u001b[1;33m:\u001b[0m\u001b[1;33m,\u001b[0m \u001b[0mi\u001b[0m\u001b[1;33m]\u001b[0m\u001b[1;33m,\u001b[0m \u001b[0mb\u001b[0m\u001b[1;33m.\u001b[0m\u001b[0miloc\u001b[0m\u001b[1;33m[\u001b[0m\u001b[1;33m:\u001b[0m\u001b[1;33m,\u001b[0m \u001b[0mi\u001b[0m\u001b[1;33m]\u001b[0m\u001b[1;33m)\u001b[0m \u001b[1;32mfor\u001b[0m \u001b[0mi\u001b[0m \u001b[1;32min\u001b[0m \u001b[0mrange\u001b[0m\u001b[1;33m(\u001b[0m\u001b[0mlen\u001b[0m\u001b[1;33m(\u001b[0m\u001b[0ma\u001b[0m\u001b[1;33m.\u001b[0m\u001b[0mcolumns\u001b[0m\u001b[1;33m)\u001b[0m\u001b[1;33m)\u001b[0m\u001b[1;33m}\u001b[0m\u001b[1;33m\u001b[0m\u001b[1;33m\u001b[0m\u001b[0m\n\u001b[0m\u001b[0;32m    386\u001b[0m \u001b[1;33m\u001b[0m\u001b[0m\n\u001b[0;32m    387\u001b[0m     \u001b[1;32melif\u001b[0m \u001b[0misinstance\u001b[0m\u001b[1;33m(\u001b[0m\u001b[0mright\u001b[0m\u001b[1;33m,\u001b[0m \u001b[0mABCSeries\u001b[0m\u001b[1;33m)\u001b[0m \u001b[1;32mand\u001b[0m \u001b[0maxis\u001b[0m \u001b[1;33m==\u001b[0m \u001b[1;34m\"columns\"\u001b[0m\u001b[1;33m:\u001b[0m\u001b[1;33m\u001b[0m\u001b[1;33m\u001b[0m\u001b[0m\n",
      "\u001b[1;32m~\\anaconda3\\lib\\site-packages\\pandas\\core\\ops\\__init__.py\u001b[0m in \u001b[0;36m<dictcomp>\u001b[1;34m(.0)\u001b[0m\n\u001b[0;32m    383\u001b[0m \u001b[1;33m\u001b[0m\u001b[0m\n\u001b[0;32m    384\u001b[0m         \u001b[1;32mdef\u001b[0m \u001b[0mcolumn_op\u001b[0m\u001b[1;33m(\u001b[0m\u001b[0ma\u001b[0m\u001b[1;33m,\u001b[0m \u001b[0mb\u001b[0m\u001b[1;33m)\u001b[0m\u001b[1;33m:\u001b[0m\u001b[1;33m\u001b[0m\u001b[1;33m\u001b[0m\u001b[0m\n\u001b[1;32m--> 385\u001b[1;33m             \u001b[1;32mreturn\u001b[0m \u001b[1;33m{\u001b[0m\u001b[0mi\u001b[0m\u001b[1;33m:\u001b[0m \u001b[0mfunc\u001b[0m\u001b[1;33m(\u001b[0m\u001b[0ma\u001b[0m\u001b[1;33m.\u001b[0m\u001b[0miloc\u001b[0m\u001b[1;33m[\u001b[0m\u001b[1;33m:\u001b[0m\u001b[1;33m,\u001b[0m \u001b[0mi\u001b[0m\u001b[1;33m]\u001b[0m\u001b[1;33m,\u001b[0m \u001b[0mb\u001b[0m\u001b[1;33m.\u001b[0m\u001b[0miloc\u001b[0m\u001b[1;33m[\u001b[0m\u001b[1;33m:\u001b[0m\u001b[1;33m,\u001b[0m \u001b[0mi\u001b[0m\u001b[1;33m]\u001b[0m\u001b[1;33m)\u001b[0m \u001b[1;32mfor\u001b[0m \u001b[0mi\u001b[0m \u001b[1;32min\u001b[0m \u001b[0mrange\u001b[0m\u001b[1;33m(\u001b[0m\u001b[0mlen\u001b[0m\u001b[1;33m(\u001b[0m\u001b[0ma\u001b[0m\u001b[1;33m.\u001b[0m\u001b[0mcolumns\u001b[0m\u001b[1;33m)\u001b[0m\u001b[1;33m)\u001b[0m\u001b[1;33m}\u001b[0m\u001b[1;33m\u001b[0m\u001b[1;33m\u001b[0m\u001b[0m\n\u001b[0m\u001b[0;32m    386\u001b[0m \u001b[1;33m\u001b[0m\u001b[0m\n\u001b[0;32m    387\u001b[0m     \u001b[1;32melif\u001b[0m \u001b[0misinstance\u001b[0m\u001b[1;33m(\u001b[0m\u001b[0mright\u001b[0m\u001b[1;33m,\u001b[0m \u001b[0mABCSeries\u001b[0m\u001b[1;33m)\u001b[0m \u001b[1;32mand\u001b[0m \u001b[0maxis\u001b[0m \u001b[1;33m==\u001b[0m \u001b[1;34m\"columns\"\u001b[0m\u001b[1;33m:\u001b[0m\u001b[1;33m\u001b[0m\u001b[1;33m\u001b[0m\u001b[0m\n",
      "\u001b[1;32m~\\anaconda3\\lib\\site-packages\\pandas\\core\\ops\\common.py\u001b[0m in \u001b[0;36mnew_method\u001b[1;34m(self, other)\u001b[0m\n\u001b[0;32m     62\u001b[0m         \u001b[0mother\u001b[0m \u001b[1;33m=\u001b[0m \u001b[0mitem_from_zerodim\u001b[0m\u001b[1;33m(\u001b[0m\u001b[0mother\u001b[0m\u001b[1;33m)\u001b[0m\u001b[1;33m\u001b[0m\u001b[1;33m\u001b[0m\u001b[0m\n\u001b[0;32m     63\u001b[0m \u001b[1;33m\u001b[0m\u001b[0m\n\u001b[1;32m---> 64\u001b[1;33m         \u001b[1;32mreturn\u001b[0m \u001b[0mmethod\u001b[0m\u001b[1;33m(\u001b[0m\u001b[0mself\u001b[0m\u001b[1;33m,\u001b[0m \u001b[0mother\u001b[0m\u001b[1;33m)\u001b[0m\u001b[1;33m\u001b[0m\u001b[1;33m\u001b[0m\u001b[0m\n\u001b[0m\u001b[0;32m     65\u001b[0m \u001b[1;33m\u001b[0m\u001b[0m\n\u001b[0;32m     66\u001b[0m     \u001b[1;32mreturn\u001b[0m \u001b[0mnew_method\u001b[0m\u001b[1;33m\u001b[0m\u001b[1;33m\u001b[0m\u001b[0m\n",
      "\u001b[1;32m~\\anaconda3\\lib\\site-packages\\pandas\\core\\ops\\__init__.py\u001b[0m in \u001b[0;36mwrapper\u001b[1;34m(left, right)\u001b[0m\n\u001b[0;32m    498\u001b[0m         \u001b[0mlvalues\u001b[0m \u001b[1;33m=\u001b[0m \u001b[0mextract_array\u001b[0m\u001b[1;33m(\u001b[0m\u001b[0mleft\u001b[0m\u001b[1;33m,\u001b[0m \u001b[0mextract_numpy\u001b[0m\u001b[1;33m=\u001b[0m\u001b[1;32mTrue\u001b[0m\u001b[1;33m)\u001b[0m\u001b[1;33m\u001b[0m\u001b[1;33m\u001b[0m\u001b[0m\n\u001b[0;32m    499\u001b[0m         \u001b[0mrvalues\u001b[0m \u001b[1;33m=\u001b[0m \u001b[0mextract_array\u001b[0m\u001b[1;33m(\u001b[0m\u001b[0mright\u001b[0m\u001b[1;33m,\u001b[0m \u001b[0mextract_numpy\u001b[0m\u001b[1;33m=\u001b[0m\u001b[1;32mTrue\u001b[0m\u001b[1;33m)\u001b[0m\u001b[1;33m\u001b[0m\u001b[1;33m\u001b[0m\u001b[0m\n\u001b[1;32m--> 500\u001b[1;33m         \u001b[0mresult\u001b[0m \u001b[1;33m=\u001b[0m \u001b[0marithmetic_op\u001b[0m\u001b[1;33m(\u001b[0m\u001b[0mlvalues\u001b[0m\u001b[1;33m,\u001b[0m \u001b[0mrvalues\u001b[0m\u001b[1;33m,\u001b[0m \u001b[0mop\u001b[0m\u001b[1;33m,\u001b[0m \u001b[0mstr_rep\u001b[0m\u001b[1;33m)\u001b[0m\u001b[1;33m\u001b[0m\u001b[1;33m\u001b[0m\u001b[0m\n\u001b[0m\u001b[0;32m    501\u001b[0m \u001b[1;33m\u001b[0m\u001b[0m\n\u001b[0;32m    502\u001b[0m         \u001b[1;32mreturn\u001b[0m \u001b[0m_construct_result\u001b[0m\u001b[1;33m(\u001b[0m\u001b[0mleft\u001b[0m\u001b[1;33m,\u001b[0m \u001b[0mresult\u001b[0m\u001b[1;33m,\u001b[0m \u001b[0mindex\u001b[0m\u001b[1;33m=\u001b[0m\u001b[0mleft\u001b[0m\u001b[1;33m.\u001b[0m\u001b[0mindex\u001b[0m\u001b[1;33m,\u001b[0m \u001b[0mname\u001b[0m\u001b[1;33m=\u001b[0m\u001b[0mres_name\u001b[0m\u001b[1;33m)\u001b[0m\u001b[1;33m\u001b[0m\u001b[1;33m\u001b[0m\u001b[0m\n",
      "\u001b[1;32m~\\anaconda3\\lib\\site-packages\\pandas\\core\\ops\\array_ops.py\u001b[0m in \u001b[0;36marithmetic_op\u001b[1;34m(left, right, op, str_rep)\u001b[0m\n\u001b[0;32m    191\u001b[0m         \u001b[1;31m#  by dispatch_to_extension_op.\u001b[0m\u001b[1;33m\u001b[0m\u001b[1;33m\u001b[0m\u001b[1;33m\u001b[0m\u001b[0m\n\u001b[0;32m    192\u001b[0m         \u001b[1;31m# Timedelta is included because numexpr will fail on it, see GH#31457\u001b[0m\u001b[1;33m\u001b[0m\u001b[1;33m\u001b[0m\u001b[1;33m\u001b[0m\u001b[0m\n\u001b[1;32m--> 193\u001b[1;33m         \u001b[0mres_values\u001b[0m \u001b[1;33m=\u001b[0m \u001b[0mdispatch_to_extension_op\u001b[0m\u001b[1;33m(\u001b[0m\u001b[0mop\u001b[0m\u001b[1;33m,\u001b[0m \u001b[0mlvalues\u001b[0m\u001b[1;33m,\u001b[0m \u001b[0mrvalues\u001b[0m\u001b[1;33m)\u001b[0m\u001b[1;33m\u001b[0m\u001b[1;33m\u001b[0m\u001b[0m\n\u001b[0m\u001b[0;32m    194\u001b[0m \u001b[1;33m\u001b[0m\u001b[0m\n\u001b[0;32m    195\u001b[0m     \u001b[1;32melse\u001b[0m\u001b[1;33m:\u001b[0m\u001b[1;33m\u001b[0m\u001b[1;33m\u001b[0m\u001b[0m\n",
      "\u001b[1;32m~\\anaconda3\\lib\\site-packages\\pandas\\core\\ops\\dispatch.py\u001b[0m in \u001b[0;36mdispatch_to_extension_op\u001b[1;34m(op, left, right)\u001b[0m\n\u001b[0;32m    123\u001b[0m     \u001b[1;31m# The op calls will raise TypeError if the op is not defined\u001b[0m\u001b[1;33m\u001b[0m\u001b[1;33m\u001b[0m\u001b[1;33m\u001b[0m\u001b[0m\n\u001b[0;32m    124\u001b[0m     \u001b[1;31m# on the ExtensionArray\u001b[0m\u001b[1;33m\u001b[0m\u001b[1;33m\u001b[0m\u001b[1;33m\u001b[0m\u001b[0m\n\u001b[1;32m--> 125\u001b[1;33m     \u001b[0mres_values\u001b[0m \u001b[1;33m=\u001b[0m \u001b[0mop\u001b[0m\u001b[1;33m(\u001b[0m\u001b[0mleft\u001b[0m\u001b[1;33m,\u001b[0m \u001b[0mright\u001b[0m\u001b[1;33m)\u001b[0m\u001b[1;33m\u001b[0m\u001b[1;33m\u001b[0m\u001b[0m\n\u001b[0m\u001b[0;32m    126\u001b[0m     \u001b[1;32mreturn\u001b[0m \u001b[0mres_values\u001b[0m\u001b[1;33m\u001b[0m\u001b[1;33m\u001b[0m\u001b[0m\n",
      "\u001b[1;32m~\\anaconda3\\lib\\site-packages\\pandas\\core\\ops\\invalid.py\u001b[0m in \u001b[0;36minvalid_op\u001b[1;34m(self, other)\u001b[0m\n\u001b[0;32m     51\u001b[0m     \u001b[1;32mdef\u001b[0m \u001b[0minvalid_op\u001b[0m\u001b[1;33m(\u001b[0m\u001b[0mself\u001b[0m\u001b[1;33m,\u001b[0m \u001b[0mother\u001b[0m\u001b[1;33m=\u001b[0m\u001b[1;32mNone\u001b[0m\u001b[1;33m)\u001b[0m\u001b[1;33m:\u001b[0m\u001b[1;33m\u001b[0m\u001b[1;33m\u001b[0m\u001b[0m\n\u001b[0;32m     52\u001b[0m         \u001b[0mtyp\u001b[0m \u001b[1;33m=\u001b[0m \u001b[0mtype\u001b[0m\u001b[1;33m(\u001b[0m\u001b[0mself\u001b[0m\u001b[1;33m)\u001b[0m\u001b[1;33m.\u001b[0m\u001b[0m__name__\u001b[0m\u001b[1;33m\u001b[0m\u001b[1;33m\u001b[0m\u001b[0m\n\u001b[1;32m---> 53\u001b[1;33m         \u001b[1;32mraise\u001b[0m \u001b[0mTypeError\u001b[0m\u001b[1;33m(\u001b[0m\u001b[1;34mf\"cannot perform {name} with this index type: {typ}\"\u001b[0m\u001b[1;33m)\u001b[0m\u001b[1;33m\u001b[0m\u001b[1;33m\u001b[0m\u001b[0m\n\u001b[0m\u001b[0;32m     54\u001b[0m \u001b[1;33m\u001b[0m\u001b[0m\n\u001b[0;32m     55\u001b[0m     \u001b[0minvalid_op\u001b[0m\u001b[1;33m.\u001b[0m\u001b[0m__name__\u001b[0m \u001b[1;33m=\u001b[0m \u001b[0mname\u001b[0m\u001b[1;33m\u001b[0m\u001b[1;33m\u001b[0m\u001b[0m\n",
      "\u001b[1;31mTypeError\u001b[0m: cannot perform __truediv__ with this index type: DatetimeArray"
     ]
    }
   ],
   "source": [
    "health_pct_change = Health_care_df.pct_change()"
   ]
  },
  {
   "cell_type": "code",
   "execution_count": 51,
   "metadata": {},
   "outputs": [
    {
     "data": {
      "text/plain": [
       "208"
      ]
     },
     "execution_count": 51,
     "metadata": {},
     "output_type": "execute_result"
    }
   ],
   "source": [
    "len(covid_pct_change)"
   ]
  },
  {
   "cell_type": "code",
   "execution_count": null,
   "metadata": {},
   "outputs": [],
   "source": []
  },
  {
   "cell_type": "code",
   "execution_count": 52,
   "metadata": {},
   "outputs": [
    {
     "ename": "NameError",
     "evalue": "name 'a' is not defined",
     "output_type": "error",
     "traceback": [
      "\u001b[1;31m---------------------------------------------------------------------------\u001b[0m",
      "\u001b[1;31mNameError\u001b[0m                                 Traceback (most recent call last)",
      "\u001b[1;32m<ipython-input-52-d6ac9701668a>\u001b[0m in \u001b[0;36m<module>\u001b[1;34m\u001b[0m\n\u001b[1;32m----> 1\u001b[1;33m \u001b[0ma\u001b[0m\u001b[1;33m.\u001b[0m\u001b[0mmean\u001b[0m\u001b[1;33m(\u001b[0m\u001b[1;33m)\u001b[0m\u001b[1;33m\u001b[0m\u001b[1;33m\u001b[0m\u001b[0m\n\u001b[0m",
      "\u001b[1;31mNameError\u001b[0m: name 'a' is not defined"
     ]
    }
   ],
   "source": [
    "a.mean()"
   ]
  },
  {
   "cell_type": "code",
   "execution_count": 53,
   "metadata": {},
   "outputs": [
    {
     "ename": "NameError",
     "evalue": "name 'health_pct_change' is not defined",
     "output_type": "error",
     "traceback": [
      "\u001b[1;31m---------------------------------------------------------------------------\u001b[0m",
      "\u001b[1;31mNameError\u001b[0m                                 Traceback (most recent call last)",
      "\u001b[1;32m<ipython-input-53-ea9e8379d2cd>\u001b[0m in \u001b[0;36m<module>\u001b[1;34m\u001b[0m\n\u001b[1;32m----> 1\u001b[1;33m \u001b[0mhealth_pct_change\u001b[0m\u001b[1;33m.\u001b[0m\u001b[0mmean\u001b[0m\u001b[1;33m(\u001b[0m\u001b[1;33m)\u001b[0m\u001b[1;33m\u001b[0m\u001b[1;33m\u001b[0m\u001b[0m\n\u001b[0m",
      "\u001b[1;31mNameError\u001b[0m: name 'health_pct_change' is not defined"
     ]
    }
   ],
   "source": [
    "health_pct_change.mean()"
   ]
  },
  {
   "cell_type": "code",
   "execution_count": 54,
   "metadata": {},
   "outputs": [
    {
     "data": {
      "text/html": [
       "<div>\n",
       "<style scoped>\n",
       "    .dataframe tbody tr th:only-of-type {\n",
       "        vertical-align: middle;\n",
       "    }\n",
       "\n",
       "    .dataframe tbody tr th {\n",
       "        vertical-align: top;\n",
       "    }\n",
       "\n",
       "    .dataframe thead th {\n",
       "        text-align: right;\n",
       "    }\n",
       "</style>\n",
       "<table border=\"1\" class=\"dataframe\">\n",
       "  <thead>\n",
       "    <tr style=\"text-align: right;\">\n",
       "      <th></th>\n",
       "      <th>cases</th>\n",
       "      <th>deaths</th>\n",
       "    </tr>\n",
       "    <tr>\n",
       "      <th>date</th>\n",
       "      <th></th>\n",
       "      <th></th>\n",
       "    </tr>\n",
       "  </thead>\n",
       "  <tbody>\n",
       "    <tr>\n",
       "      <th>2020-01-21</th>\n",
       "      <td>NaN</td>\n",
       "      <td>NaN</td>\n",
       "    </tr>\n",
       "    <tr>\n",
       "      <th>2020-01-22</th>\n",
       "      <td>0.0</td>\n",
       "      <td>NaN</td>\n",
       "    </tr>\n",
       "    <tr>\n",
       "      <th>2020-01-23</th>\n",
       "      <td>0.0</td>\n",
       "      <td>NaN</td>\n",
       "    </tr>\n",
       "    <tr>\n",
       "      <th>2020-01-24</th>\n",
       "      <td>1.0</td>\n",
       "      <td>NaN</td>\n",
       "    </tr>\n",
       "    <tr>\n",
       "      <th>2020-01-25</th>\n",
       "      <td>0.5</td>\n",
       "      <td>NaN</td>\n",
       "    </tr>\n",
       "  </tbody>\n",
       "</table>\n",
       "</div>"
      ],
      "text/plain": [
       "            cases  deaths\n",
       "date                     \n",
       "2020-01-21    NaN     NaN\n",
       "2020-01-22    0.0     NaN\n",
       "2020-01-23    0.0     NaN\n",
       "2020-01-24    1.0     NaN\n",
       "2020-01-25    0.5     NaN"
      ]
     },
     "execution_count": 54,
     "metadata": {},
     "output_type": "execute_result"
    }
   ],
   "source": [
    "covid_pct_change.head()"
   ]
  },
  {
   "cell_type": "code",
   "execution_count": 55,
   "metadata": {},
   "outputs": [],
   "source": [
    "a = covid_pct_change[\"2020-01-28\":\"2020-04-30\"].drop(columns=\"deaths\")\n"
   ]
  },
  {
   "cell_type": "code",
   "execution_count": 56,
   "metadata": {},
   "outputs": [
    {
     "data": {
      "text/html": [
       "<div>\n",
       "<style scoped>\n",
       "    .dataframe tbody tr th:only-of-type {\n",
       "        vertical-align: middle;\n",
       "    }\n",
       "\n",
       "    .dataframe tbody tr th {\n",
       "        vertical-align: top;\n",
       "    }\n",
       "\n",
       "    .dataframe thead th {\n",
       "        text-align: right;\n",
       "    }\n",
       "</style>\n",
       "<table border=\"1\" class=\"dataframe\">\n",
       "  <thead>\n",
       "    <tr style=\"text-align: right;\">\n",
       "      <th></th>\n",
       "      <th>cases</th>\n",
       "    </tr>\n",
       "    <tr>\n",
       "      <th>date</th>\n",
       "      <th></th>\n",
       "    </tr>\n",
       "  </thead>\n",
       "  <tbody>\n",
       "    <tr>\n",
       "      <th>2020-01-28</th>\n",
       "      <td>0.000000</td>\n",
       "    </tr>\n",
       "    <tr>\n",
       "      <th>2020-01-29</th>\n",
       "      <td>0.000000</td>\n",
       "    </tr>\n",
       "    <tr>\n",
       "      <th>2020-01-30</th>\n",
       "      <td>0.200000</td>\n",
       "    </tr>\n",
       "    <tr>\n",
       "      <th>2020-01-31</th>\n",
       "      <td>0.166667</td>\n",
       "    </tr>\n",
       "    <tr>\n",
       "      <th>2020-02-01</th>\n",
       "      <td>0.142857</td>\n",
       "    </tr>\n",
       "    <tr>\n",
       "      <th>...</th>\n",
       "      <td>...</td>\n",
       "    </tr>\n",
       "    <tr>\n",
       "      <th>2020-04-26</th>\n",
       "      <td>0.028315</td>\n",
       "    </tr>\n",
       "    <tr>\n",
       "      <th>2020-04-27</th>\n",
       "      <td>0.023884</td>\n",
       "    </tr>\n",
       "    <tr>\n",
       "      <th>2020-04-28</th>\n",
       "      <td>0.024780</td>\n",
       "    </tr>\n",
       "    <tr>\n",
       "      <th>2020-04-29</th>\n",
       "      <td>0.026065</td>\n",
       "    </tr>\n",
       "    <tr>\n",
       "      <th>2020-04-30</th>\n",
       "      <td>0.029024</td>\n",
       "    </tr>\n",
       "  </tbody>\n",
       "</table>\n",
       "<p>94 rows × 1 columns</p>\n",
       "</div>"
      ],
      "text/plain": [
       "               cases\n",
       "date                \n",
       "2020-01-28  0.000000\n",
       "2020-01-29  0.000000\n",
       "2020-01-30  0.200000\n",
       "2020-01-31  0.166667\n",
       "2020-02-01  0.142857\n",
       "...              ...\n",
       "2020-04-26  0.028315\n",
       "2020-04-27  0.023884\n",
       "2020-04-28  0.024780\n",
       "2020-04-29  0.026065\n",
       "2020-04-30  0.029024\n",
       "\n",
       "[94 rows x 1 columns]"
      ]
     },
     "execution_count": 56,
     "metadata": {},
     "output_type": "execute_result"
    }
   ],
   "source": [
    "a"
   ]
  },
  {
   "cell_type": "code",
   "execution_count": 57,
   "metadata": {},
   "outputs": [],
   "source": [
    "Health_care_df = web.DataReader([\"UNH\",\"JNJ\",\"MRK\", \"ABBV\", \"ABT\",\"XLV\"],start='2019-08-16',end='2020-08-25',data_source='yahoo')['Adj Close']"
   ]
  },
  {
   "cell_type": "code",
   "execution_count": 58,
   "metadata": {},
   "outputs": [
    {
     "data": {
      "text/html": [
       "<div>\n",
       "<style scoped>\n",
       "    .dataframe tbody tr th:only-of-type {\n",
       "        vertical-align: middle;\n",
       "    }\n",
       "\n",
       "    .dataframe tbody tr th {\n",
       "        vertical-align: top;\n",
       "    }\n",
       "\n",
       "    .dataframe thead th {\n",
       "        text-align: right;\n",
       "    }\n",
       "</style>\n",
       "<table border=\"1\" class=\"dataframe\">\n",
       "  <thead>\n",
       "    <tr style=\"text-align: right;\">\n",
       "      <th>Symbols</th>\n",
       "      <th>UNH</th>\n",
       "      <th>JNJ</th>\n",
       "      <th>MRK</th>\n",
       "      <th>ABBV</th>\n",
       "      <th>ABT</th>\n",
       "      <th>XLV</th>\n",
       "    </tr>\n",
       "    <tr>\n",
       "      <th>Date</th>\n",
       "      <th></th>\n",
       "      <th></th>\n",
       "      <th></th>\n",
       "      <th></th>\n",
       "      <th></th>\n",
       "      <th></th>\n",
       "    </tr>\n",
       "  </thead>\n",
       "  <tbody>\n",
       "    <tr>\n",
       "      <th>2019-08-16</th>\n",
       "      <td>241.509521</td>\n",
       "      <td>126.934807</td>\n",
       "      <td>82.578949</td>\n",
       "      <td>60.105961</td>\n",
       "      <td>83.407936</td>\n",
       "      <td>88.417343</td>\n",
       "    </tr>\n",
       "    <tr>\n",
       "      <th>2019-08-19</th>\n",
       "      <td>240.546204</td>\n",
       "      <td>127.794823</td>\n",
       "      <td>83.675987</td>\n",
       "      <td>62.093006</td>\n",
       "      <td>84.175308</td>\n",
       "      <td>89.266838</td>\n",
       "    </tr>\n",
       "    <tr>\n",
       "      <th>2019-08-20</th>\n",
       "      <td>236.073608</td>\n",
       "      <td>126.200424</td>\n",
       "      <td>83.151749</td>\n",
       "      <td>61.953091</td>\n",
       "      <td>83.171829</td>\n",
       "      <td>88.505219</td>\n",
       "    </tr>\n",
       "    <tr>\n",
       "      <th>2019-08-21</th>\n",
       "      <td>236.260376</td>\n",
       "      <td>127.099083</td>\n",
       "      <td>84.374992</td>\n",
       "      <td>63.007248</td>\n",
       "      <td>83.526001</td>\n",
       "      <td>89.159439</td>\n",
       "    </tr>\n",
       "    <tr>\n",
       "      <th>2019-08-22</th>\n",
       "      <td>228.976456</td>\n",
       "      <td>126.847839</td>\n",
       "      <td>84.190536</td>\n",
       "      <td>62.988586</td>\n",
       "      <td>83.004578</td>\n",
       "      <td>88.720032</td>\n",
       "    </tr>\n",
       "  </tbody>\n",
       "</table>\n",
       "</div>"
      ],
      "text/plain": [
       "Symbols            UNH         JNJ        MRK       ABBV        ABT        XLV\n",
       "Date                                                                          \n",
       "2019-08-16  241.509521  126.934807  82.578949  60.105961  83.407936  88.417343\n",
       "2019-08-19  240.546204  127.794823  83.675987  62.093006  84.175308  89.266838\n",
       "2019-08-20  236.073608  126.200424  83.151749  61.953091  83.171829  88.505219\n",
       "2019-08-21  236.260376  127.099083  84.374992  63.007248  83.526001  89.159439\n",
       "2019-08-22  228.976456  126.847839  84.190536  62.988586  83.004578  88.720032"
      ]
     },
     "execution_count": 58,
     "metadata": {},
     "output_type": "execute_result"
    }
   ],
   "source": [
    "Health_care_df.head()"
   ]
  },
  {
   "cell_type": "code",
   "execution_count": 59,
   "metadata": {},
   "outputs": [],
   "source": [
    "health_pct_change = Health_care_df.pct_change()"
   ]
  },
  {
   "cell_type": "code",
   "execution_count": 60,
   "metadata": {},
   "outputs": [],
   "source": [
    " h = health_pct_change.hvplot()"
   ]
  },
  {
   "cell_type": "code",
   "execution_count": 61,
   "metadata": {},
   "outputs": [],
   "source": [
    "cumm = (1 + health_pct_change).cumprod() "
   ]
  },
  {
   "cell_type": "code",
   "execution_count": 62,
   "metadata": {},
   "outputs": [],
   "source": [
    "a = cumm.hvplot()"
   ]
  },
  {
   "cell_type": "code",
   "execution_count": 63,
   "metadata": {},
   "outputs": [
    {
     "data": {
      "image/png": "[encoded data removed]",
      "text/plain": [
       "<Figure size 432x288 with 1 Axes>"
      ]
     },
     "metadata": {
      "needs_background": "light"
     },
     "output_type": "display_data"
    }
   ],
   "source": [
    "k = Covid_df.plot()\n",
    "plt.show()"
   ]
  },
  {
   "cell_type": "code",
   "execution_count": 64,
   "metadata": {},
   "outputs": [
    {
     "data": {},
     "metadata": {},
     "output_type": "display_data"
    },
    {
     "data": {
      "application/vnd.holoviews_exec.v0+json": "",
      "text/html": [
       "<div id='5353'>\n",
       "\n",
       "\n",
       "\n",
       "\n",
       "\n",
       "  <div class=\"bk-root\" id=\"2a7208b3-889e-4bca-ab93-2bc066c3deae\" data-root-id=\"5353\"></div>\n",
       "</div>\n",
       "<script type=\"application/javascript\">\n",
       "    function msg_handler(msg) {\n",
       "      var metadata = msg.metadata;\n",
       "      var buffers = msg.buffers;\n",
       "      var msg = msg.content.data;\n",
       "      if ((metadata.msg_type == \"Ready\")) {\n",
       "        if (metadata.content) {\n",
       "          console.log(\"Python callback returned following output:\", metadata.content);\n",
       "        }\n",
       "      } else if (metadata.msg_type == \"Error\") {\n",
       "        console.log(\"Python failed with the following traceback:\", metadata.traceback)\n",
       "      } else {\n",
       "        \n",
       "var plot_id = \"5353\";\n",
       "\n",
       "if ((plot_id in window.PyViz.plot_index) && (window.PyViz.plot_index[plot_id] != null)) {\n",
       "  var plot = window.PyViz.plot_index[plot_id];\n",
       "} else if ((Bokeh !== undefined) && (plot_id in Bokeh.index)) {\n",
       "  var plot = Bokeh.index[plot_id];\n",
       "}\n",
       "\n",
       "if (plot == null) {\n",
       "  return\n",
       "}\n",
       "\n",
       "if (plot_id in window.PyViz.receivers) {\n",
       "  var receiver = window.PyViz.receivers[plot_id];\n",
       "} else {\n",
       "  var receiver = new Bokeh.protocol.Receiver();\n",
       "  window.PyViz.receivers[plot_id] = receiver;\n",
       "}\n",
       "\n",
       "if ((buffers != undefined) && (buffers.length > 0)) {\n",
       "  receiver.consume(buffers[0].buffer)\n",
       "} else {\n",
       "  receiver.consume(msg)\n",
       "}\n",
       "\n",
       "const comm_msg = receiver.message;\n",
       "if ((comm_msg != null) && (Object.keys(comm_msg.content).length > 0)) {\n",
       "  plot.model.document.apply_json_patch(comm_msg.content, comm_msg.buffers)\n",
       "}\n",
       "\n",
       "      }\n",
       "    }\n",
       "    if ((window.PyViz == undefined) || (!window.PyViz.comm_manager)) {\n",
       "      console.log(\"Could not find comm manager\")\n",
       "    } else {\n",
       "      window.PyViz.comm_manager.register_target('5353', '70f59fefa9bf43e59dc76c60429be456', msg_handler);\n",
       "    }\n",
       "    \n",
       "(function(root) {\n",
       "  function embed_document(root) {\n",
       "  var docs_json = {\"2f14d6b3-1e23-4656-8d91-9f4f6700d6d9\":{\"roots\":{\"references\":[{\"attributes\":{\"line_alpha\":0.1,\"line_color\":\"#d62628\",\"line_width\":2,\"x\":{\"field\":\"Date\"},\"y\":{\"field\":\"value\"}},\"id\":\"5934\",\"type\":\"Line\"},{\"attributes\":{\"days\":[1,8,15,22]},\"id\":\"5416\",\"type\":\"DaysTicker\"},{\"attributes\":{\"line_alpha\":0.2,\"line_color\":\"#d62628\",\"line_width\":2,\"x\":{\"field\":\"Date\"},\"y\":{\"field\":\"value\"}},\"id\":\"5935\",\"type\":\"Line\"},{\"attributes\":{\"children\":[[{\"id\":\"5363\",\"subtype\":\"Figure\",\"type\":\"Plot\"},0,0],[{\"id\":\"5807\",\"subtype\":\"Figure\",\"type\":\"Plot\"},0,1]]},\"id\":\"6307\",\"type\":\"GridBox\"},{\"attributes\":{\"line_color\":\"#9367bc\",\"line_width\":2,\"x\":{\"field\":\"Date\"},\"y\":{\"field\":\"value\"}},\"id\":\"5966\",\"type\":\"Line\"},{\"attributes\":{\"days\":[1,15]},\"id\":\"5417\",\"type\":\"DaysTicker\"},{\"attributes\":{\"line_alpha\":0.2,\"line_color\":\"#9367bc\",\"line_width\":2,\"x\":{\"field\":\"Date\"},\"y\":{\"field\":\"value\"}},\"id\":\"5968\",\"type\":\"Line\"},{\"attributes\":{\"children\":[{\"id\":\"5354\",\"type\":\"Spacer\"},{\"id\":\"6310\",\"type\":\"Column\"},{\"id\":\"6791\",\"type\":\"Spacer\"}],\"margin\":[0,0,0,0],\"name\":\"Row01840\",\"tags\":[\"embedded\"]},\"id\":\"5353\",\"type\":\"Row\"},{\"attributes\":{},\"id\":\"5451\",\"type\":\"UnionRenderers\"},{\"attributes\":{},\"id\":\"5383\",\"type\":\"PanTool\"},{\"attributes\":{\"data_source\":{\"id\":\"5398\",\"type\":\"ColumnDataSource\"},\"glyph\":{\"id\":\"5401\",\"type\":\"Line\"},\"hover_glyph\":null,\"muted_glyph\":{\"id\":\"5403\",\"type\":\"Line\"},\"nonselection_glyph\":{\"id\":\"5402\",\"type\":\"Line\"},\"selection_glyph\":null,\"view\":{\"id\":\"5405\",\"type\":\"CDSView\"}},\"id\":\"5404\",\"type\":\"GlyphRenderer\"},{\"attributes\":{\"line_color\":\"#d62628\",\"line_width\":2,\"x\":{\"field\":\"Date\"},\"y\":{\"field\":\"value\"}},\"id\":\"5489\",\"type\":\"Line\"},{\"attributes\":{\"line_alpha\":0.1,\"line_color\":\"#9367bc\",\"line_width\":2,\"x\":{\"field\":\"Date\"},\"y\":{\"field\":\"value\"}},\"id\":\"5967\",\"type\":\"Line\"},{\"attributes\":{},\"id\":\"5871\",\"type\":\"Selection\"},{\"attributes\":{\"axis_label\":\"Date\",\"axis_label_text_font_size\":{\"value\":\"10pt\"},\"bounds\":\"auto\",\"formatter\":{\"id\":\"5394\",\"type\":\"DatetimeTickFormatter\"},\"major_label_orientation\":\"horizontal\",\"ticker\":{\"id\":\"5373\",\"type\":\"DatetimeTicker\"}},\"id\":\"5372\",\"type\":\"DatetimeAxis\"},{\"attributes\":{\"data_source\":{\"id\":\"5963\",\"type\":\"ColumnDataSource\"},\"glyph\":{\"id\":\"5966\",\"type\":\"Line\"},\"hover_glyph\":null,\"muted_glyph\":{\"id\":\"5968\",\"type\":\"Line\"},\"nonselection_glyph\":{\"id\":\"5967\",\"type\":\"Line\"},\"selection_glyph\":null,\"view\":{\"id\":\"5970\",\"type\":\"CDSView\"}},\"id\":\"5969\",\"type\":\"GlyphRenderer\"},{\"attributes\":{\"days\":[1,4,7,10,13,16,19,22,25,28]},\"id\":\"5415\",\"type\":\"DaysTicker\"},{\"attributes\":{},\"id\":\"5370\",\"type\":\"LinearScale\"},{\"attributes\":{\"base\":24,\"mantissas\":[1,2,4,6,8,12],\"max_interval\":43200000.0,\"min_interval\":3600000.0,\"num_minor_ticks\":0},\"id\":\"5413\",\"type\":\"AdaptiveTicker\"},{\"attributes\":{},\"id\":\"6062\",\"type\":\"UnionRenderers\"},{\"attributes\":{\"line_alpha\":0.1,\"line_color\":\"#1f77b3\",\"line_width\":2,\"x\":{\"field\":\"Date\"},\"y\":{\"field\":\"value\"}},\"id\":\"5846\",\"type\":\"Line\"},{\"attributes\":{\"callback\":null,\"data\":{\"Date\":{\"__ndarray__\":\"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\",\"dtype\":\"float64\",\"shape\":[258]},\"Variable\":[\"XLV\",\"XLV\",\"XLV\",\"XLV\",\"XLV\",\"XLV\",\"XLV\",\"XLV\",\"XLV\",\"XLV\",\"XLV\",\"XLV\",\"XLV\",\"XLV\",\"XLV\",\"XLV\",\"XLV\",\"XLV\",\"XLV\",\"XLV\",\"XLV\",\"XLV\",\"XLV\",\"XLV\",\"XLV\",\"XLV\",\"XLV\",\"XLV\",\"XLV\",\"XLV\",\"XLV\",\"XLV\",\"XLV\",\"XLV\",\"XLV\",\"XLV\",\"XLV\",\"XLV\",\"XLV\",\"XLV\",\"XLV\",\"XLV\",\"XLV\",\"XLV\",\"XLV\",\"XLV\",\"XLV\",\"XLV\",\"XLV\",\"XLV\",\"XLV\",\"XLV\",\"XLV\",\"XLV\",\"XLV\",\"XLV\",\"XLV\",\"XLV\",\"XLV\",\"XLV\",\"XLV\",\"XLV\",\"XLV\",\"XLV\",\"XLV\",\"XLV\",\"XLV\",\"XLV\",\"XLV\",\"XLV\",\"XLV\",\"XLV\",\"XLV\",\"XLV\",\"XLV\",\"XLV\",\"XLV\",\"XLV\",\"XLV\",\"XLV\",\"XLV\",\"XLV\",\"XLV\",\"XLV\",\"XLV\",\"XLV\",\"XLV\",\"XLV\",\"XLV\",\"XLV\",\"XLV\",\"XLV\",\"XLV\",\"XLV\",\"XLV\",\"XLV\",\"XLV\",\"XLV\",\"XLV\",\"XLV\",\"XLV\",\"XLV\",\"XLV\",\"XLV\",\"XLV\",\"XLV\",\"XLV\",\"XLV\",\"XLV\",\"XLV\",\"XLV\",\"XLV\",\"XLV\",\"XLV\",\"XLV\",\"XLV\",\"XLV\",\"XLV\",\"XLV\",\"XLV\",\"XLV\",\"XLV\",\"XLV\",\"XLV\",\"XLV\",\"XLV\",\"XLV\",\"XLV\",\"XLV\",\"XLV\",\"XLV\",\"XLV\",\"XLV\",\"XLV\",\"XLV\",\"XLV\",\"XLV\",\"XLV\",\"XLV\",\"XLV\",\"XLV\",\"XLV\",\"XLV\",\"XLV\",\"XLV\",\"XLV\",\"XLV\",\"XLV\",\"XLV\",\"XLV\",\"XLV\",\"XLV\",\"XLV\",\"XLV\",\"XLV\",\"XLV\",\"XLV\",\"XLV\",\"XLV\",\"XLV\",\"XLV\",\"XLV\",\"XLV\",\"XLV\",\"XLV\",\"XLV\",\"XLV\",\"XLV\",\"XLV\",\"XLV\",\"XLV\",\"XLV\",\"XLV\",\"XLV\",\"XLV\",\"XLV\",\"XLV\",\"XLV\",\"XLV\",\"XLV\",\"XLV\",\"XLV\",\"XLV\",\"XLV\",\"XLV\",\"XLV\",\"XLV\",\"XLV\",\"XLV\",\"XLV\",\"XLV\",\"XLV\",\"XLV\",\"XLV\",\"XLV\",\"XLV\",\"XLV\",\"XLV\",\"XLV\",\"XLV\",\"XLV\",\"XLV\",\"XLV\",\"XLV\",\"XLV\",\"XLV\",\"XLV\",\"XLV\",\"XLV\",\"XLV\",\"XLV\",\"XLV\",\"XLV\",\"XLV\",\"XLV\",\"XLV\",\"XLV\",\"XLV\",\"XLV\",\"XLV\",\"XLV\",\"XLV\",\"XLV\",\"XLV\",\"XLV\",\"XLV\",\"XLV\",\"XLV\",\"XLV\",\"XLV\",\"XLV\",\"XLV\",\"XLV\",\"XLV\",\"XLV\",\"XLV\",\"XLV\",\"XLV\",\"XLV\",\"XLV\",\"XLV\",\"XLV\",\"XLV\",\"XLV\",\"XLV\",\"XLV\",\"XLV\",\"XLV\",\"XLV\",\"XLV\",\"XLV\",\"XLV\",\"XLV\",\"XLV\",\"XLV\",\"XLV\",\"XLV\",\"XLV\"],\"value\":{\"__ndarray__\":\"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\",\"dtype\":\"float64\",\"shape\":[258]}},\"selected\":{\"id\":\"5999\",\"type\":\"Selection\"},\"selection_policy\":{\"id\":\"6062\",\"type\":\"UnionRenderers\"}},\"id\":\"5998\",\"type\":\"ColumnDataSource\"},{\"attributes\":{\"label\":{\"value\":\"UNH\"},\"renderers\":[{\"id\":\"5848\",\"type\":\"GlyphRenderer\"}]},\"id\":\"5869\",\"type\":\"LegendItem\"},{\"attributes\":{\"callback\":null,\"data\":{\"Date\":{\"__ndarray__\":\"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\",\"dtype\":\"float64\",\"shape\":[258]},\"Variable\":[\"UNH\",\"UNH\",\"UNH\",\"UNH\",\"UNH\",\"UNH\",\"UNH\",\"UNH\",\"UNH\",\"UNH\",\"UNH\",\"UNH\",\"UNH\",\"UNH\",\"UNH\",\"UNH\",\"UNH\",\"UNH\",\"UNH\",\"UNH\",\"UNH\",\"UNH\",\"UNH\",\"UNH\",\"UNH\",\"UNH\",\"UNH\",\"UNH\",\"UNH\",\"UNH\",\"UNH\",\"UNH\",\"UNH\",\"UNH\",\"UNH\",\"UNH\",\"UNH\",\"UNH\",\"UNH\",\"UNH\",\"UNH\",\"UNH\",\"UNH\",\"UNH\",\"UNH\",\"UNH\",\"UNH\",\"UNH\",\"UNH\",\"UNH\",\"UNH\",\"UNH\",\"UNH\",\"UNH\",\"UNH\",\"UNH\",\"UNH\",\"UNH\",\"UNH\",\"UNH\",\"UNH\",\"UNH\",\"UNH\",\"UNH\",\"UNH\",\"UNH\",\"UNH\",\"UNH\",\"UNH\",\"UNH\",\"UNH\",\"UNH\",\"UNH\",\"UNH\",\"UNH\",\"UNH\",\"UNH\",\"UNH\",\"UNH\",\"UNH\",\"UNH\",\"UNH\",\"UNH\",\"UNH\",\"UNH\",\"UNH\",\"UNH\",\"UNH\",\"UNH\",\"UNH\",\"UNH\",\"UNH\",\"UNH\",\"UNH\",\"UNH\",\"UNH\",\"UNH\",\"UNH\",\"UNH\",\"UNH\",\"UNH\",\"UNH\",\"UNH\",\"UNH\",\"UNH\",\"UNH\",\"UNH\",\"UNH\",\"UNH\",\"UNH\",\"UNH\",\"UNH\",\"UNH\",\"UNH\",\"UNH\",\"UNH\",\"UNH\",\"UNH\",\"UNH\",\"UNH\",\"UNH\",\"UNH\",\"UNH\",\"UNH\",\"UNH\",\"UNH\",\"UNH\",\"UNH\",\"UNH\",\"UNH\",\"UNH\",\"UNH\",\"UNH\",\"UNH\",\"UNH\",\"UNH\",\"UNH\",\"UNH\",\"UNH\",\"UNH\",\"UNH\",\"UNH\",\"UNH\",\"UNH\",\"UNH\",\"UNH\",\"UNH\",\"UNH\",\"UNH\",\"UNH\",\"UNH\",\"UNH\",\"UNH\",\"UNH\",\"UNH\",\"UNH\",\"UNH\",\"UNH\",\"UNH\",\"UNH\",\"UNH\",\"UNH\",\"UNH\",\"UNH\",\"UNH\",\"UNH\",\"UNH\",\"UNH\",\"UNH\",\"UNH\",\"UNH\",\"UNH\",\"UNH\",\"UNH\",\"UNH\",\"UNH\",\"UNH\",\"UNH\",\"UNH\",\"UNH\",\"UNH\",\"UNH\",\"UNH\",\"UNH\",\"UNH\",\"UNH\",\"UNH\",\"UNH\",\"UNH\",\"UNH\",\"UNH\",\"UNH\",\"UNH\",\"UNH\",\"UNH\",\"UNH\",\"UNH\",\"UNH\",\"UNH\",\"UNH\",\"UNH\",\"UNH\",\"UNH\",\"UNH\",\"UNH\",\"UNH\",\"UNH\",\"UNH\",\"UNH\",\"UNH\",\"UNH\",\"UNH\",\"UNH\",\"UNH\",\"UNH\",\"UNH\",\"UNH\",\"UNH\",\"UNH\",\"UNH\",\"UNH\",\"UNH\",\"UNH\",\"UNH\",\"UNH\",\"UNH\",\"UNH\",\"UNH\",\"UNH\",\"UNH\",\"UNH\",\"UNH\",\"UNH\",\"UNH\",\"UNH\",\"UNH\",\"UNH\",\"UNH\",\"UNH\",\"UNH\",\"UNH\",\"UNH\",\"UNH\",\"UNH\",\"UNH\",\"UNH\",\"UNH\",\"UNH\",\"UNH\",\"UNH\",\"UNH\",\"UNH\",\"UNH\",\"UNH\",\"UNH\",\"UNH\",\"UNH\",\"UNH\"],\"value\":{\"__ndarray__\":\"AAAAAAAA+H8AXPxUflZwv4AYP30sCpO/AICN+ZLsST8gMb3w6ZGfv0ApNvWrC4S/ALgQswfVXT+gMiPHzg6iv0DGzR+KTZQ/AOV9Dc90jT8AxfolDgSOPwD7gSoQlY2/4BwssrpFkb+A4m4taNWJPwB+9182DWW/AAd+qJoMfj8A7F8RNJt/PwCOxJn31X4/gFI2KDf4kb9AMvKa4YWUPwCO0U8XwWw/ABiWXo6vgL/ARZmpttKAv4DPAMqg5IM/AEBRKe6BJj8gIHmDgx2SvyDXHWYA4JC/gNIcF1nCib+g4DFqt9WevwDMxBgoulC/AMnfbVmZgz8AIF4pmpVAvwCzQMZfWWG/AFAIzmhEer9Awi6jhByVPwCsk5uv1Xo/gDIrd7DrdL8AoDm6bVSCPwA5+4OJbn4/gB+36O5jfr8AQmtpVkx7vyDFYZux47Q/ADs3IMl3e79AOW5A/9ycPwAiaUBvEnw/gOJ5Mgm1d7+AZ5utZleXP4BP8fwFlXu/AL4peOkwi78AOBe9mc1aPwDAby0v5YE/QAWaiyS4lT8Azd/8EmCEP8ClMn8P4YC/AJQVLLjEX78AQNyFqi5vvwBVHAlY+W6/AMDwkefMTD9A7jtsmkeYPwDqQSxaSmA/wG0wIvHzhr8Agho1CbNyPwABLFp49Xq/APMHtNdAgj8ANCcbcyirPwDpsdnX1Yo/AJC6tX6Ccz8Ag5WEi91zPwCON3o8bm0/ALD87kEuUT+ACs/Vj5CVP4CyUkc2Z3K/AFlQmUFAZb8AT/7ElllnvwC8vTZLlki/gFgc6UI2hL+Ad1qcFeaBPwCq1O9WpoM/ADsc8FxJZb+AMYDYpl6DvwDxpOyPOH0/ADjnuKG4bD+ALOEv6rSGPwDEuTPwAXs/QP0zuJp+lz+AT0uAeuF1v4AecdYSIoE/AEVEVooNeD8ApnE56zh8vwDUGMC4f4E/ALqixaCJXr8AyhuuPN9uPwBgC9Xau1E/ABxyVddWfb8AkI5mjf88PwDhqn/4nnS/wFN+RZK5hL8Ah0jIG298PwBp1KHAuXi/wNfbHBOXlT8AH3t4akF3vwAqOLtXVmk/kAH2jmUZoL8A5R63nx+BPwAZ7AtNBp0/AA+o0OTqjT+AJWKAtep+vwDZub8NRXw/AGDqcMgtKj8Ao62qwstuv6DjwchWvZa/AAFrc71+nr8Aauwa7ql5P8A92CQGR4W/ANnqqXbMe7/Apq/NLBafvwCHj8Frmnc/QDA54WZ8mT8AHlEsZCWrP0Bd9hRFpYa/wOzEeEmwhr+AQKCV6QN/vwCQ3cD904o/QGnf4/JXpj8AlO7cnUZxv4CsBShjLYe/AN8tlwcIhz8A8KKbvHyFP0BICHPNVIW/AJ/IGOr6Yr+oBinnvBO0v7Cx2m10iqq/ACaXEQ1DWL+Acmw2OK2hvwAqqKu0xnA/0DsCGFo5sj8QBVzP6POlvyAHLTrycLs/4F+Fijrblr8A1IuZr1hqP9Bjqbjiz6K/gCA3pv+QmD+AVToY0jyAv8COYnxWObm/YA7OrElRtz8U4KiCSR3GvxAAr3SX0bU/eB761FZ4vL+AOc5fOtqJP0API4lwxa6/IF7MVygSrb+ol8ya9GHAP1BX83v/G7E/IH3G+zHRtj+gPkydGvGpvwCgwAyipaI/gKHpiY74fr8gHRSKosKovwACgnCy7Io/IJ1I0zVRp7/woafqCAe1PwA6mwTxylO/QNJha9NstD+AfOPt20qMvwD48leyOmO/ALdhXrspmz8APtgsUSmlP4BlCy0pcq4/YAXkNBUBm78gbstCiaydv6Aji/yT2py/AMjDXksjhT+AP5Q9vreeP4Awt1y5Y5U/gF5k0bDpgj9gLuGWaJOTvwARCqa3K2S/QEBpGKAokT9gM6Qnnd6bvwD19iuYz4U/gLuYOzqWkz+ASE45pNeNv0DNSzG+vIq/AKcZ526+fD8A5IUhfh54PwBEDl+vF2y/IAIKETBDob/gJOyvYTmnPwDgJbSiu1M/AHFEYJ/kgD8AdhVhvBaOvwBomS2eCm6/ALrBaKq4br8A7EG78aCFP4BqANBze5E/wBZQE+XVnj8A2H1WbZNFPwDEya9Dt2c/AJC+GrQFbT8AjNeDnllUPwAIuxaQrGm/gKJPalNhmL+glW0j96anP4C2gpT2IH+/ADxqNveWTL8AnpJ2reqGv9DFWLngb7K/AGMgA95/dD8A+BfBUTtwP4AWrv1zCZg/AKxeJAReVr8AyAHsbFtvvwBubpPvgWw/AIW/M6IcdD8ApywWyT+RP0Ckvcza+Jy/QHcBG9PtmD+QvLKYxySgv4AiV39bj4Q/AJiZjFxXkj8AHQFHlU2DPwDwEGVqKl0/gMSmixE+jz8ghANMvtSUvwCFTkNZnHc/oJrbxgW2mL8AoGLb64MvP4CV7joP0Z0/QM9cEL4Znj8AQyxhJIqNvwCZyX+evoQ/AGCHZzCJYL/ACypx7oKEvwBFuQpkRXY/AIO2v8N6dT8Aods7HfmIvwAKK4vueH2/gKXdR4LSfb8AndNtbz5yP0DvceGdC5c/gI8kr6ldc79AFkpSV3CAvwB0x0DBdGY/ALwfNa0DaD9AaAhsX82aPwAj/5On13Q/gBWMoBVegz8AXn5li756P4DYnifByIa/gM2FuKjOlT8AwboclBBjvwDUyaG6xXs/gF+rV8IuhL9AKs8mdKSHvwAsOYrSOnK/gIovh+3her8ApDRamy1lPwApTUfERpG/\",\"dtype\":\"float64\",\"shape\":[258]}},\"selected\":{\"id\":\"5843\",\"type\":\"Selection\"},\"selection_policy\":{\"id\":\"5895\",\"type\":\"UnionRenderers\"}},\"id\":\"5842\",\"type\":\"ColumnDataSource\"},{\"attributes\":{\"line_alpha\":0.2,\"line_color\":\"#1f77b3\",\"line_width\":2,\"x\":{\"field\":\"Date\"},\"y\":{\"field\":\"value\"}},\"id\":\"5847\",\"type\":\"Line\"},{\"attributes\":{},\"id\":\"5994\",\"type\":\"UnionRenderers\"},{\"attributes\":{\"grid_line_color\":null,\"ticker\":{\"id\":\"5373\",\"type\":\"DatetimeTicker\"}},\"id\":\"5376\",\"type\":\"Grid\"},{\"attributes\":{\"line_alpha\":0.1,\"line_color\":\"#ff7e0e\",\"line_width\":2,\"x\":{\"field\":\"Date\"},\"y\":{\"field\":\"value\"}},\"id\":\"5874\",\"type\":\"Line\"},{\"attributes\":{\"source\":{\"id\":\"5519\",\"type\":\"ColumnDataSource\"}},\"id\":\"5526\",\"type\":\"CDSView\"},{\"attributes\":{\"line_color\":\"#9367bc\",\"line_width\":2,\"x\":{\"field\":\"Date\"},\"y\":{\"field\":\"value\"}},\"id\":\"5522\",\"type\":\"Line\"},{\"attributes\":{\"active_drag\":\"auto\",\"active_inspect\":\"auto\",\"active_multi\":null,\"active_scroll\":\"auto\",\"active_tap\":\"auto\",\"tools\":[{\"id\":\"5801\",\"type\":\"HoverTool\"},{\"id\":\"5826\",\"type\":\"SaveTool\"},{\"id\":\"5827\",\"type\":\"PanTool\"},{\"id\":\"5828\",\"type\":\"WheelZoomTool\"},{\"id\":\"5829\",\"type\":\"BoxZoomTool\"},{\"id\":\"5830\",\"type\":\"ResetTool\"}]},\"id\":\"5831\",\"type\":\"Toolbar\"},{\"attributes\":{\"source\":{\"id\":\"5963\",\"type\":\"ColumnDataSource\"}},\"id\":\"5970\",\"type\":\"CDSView\"},{\"attributes\":{\"days\":[1,2,3,4,5,6,7,8,9,10,11,12,13,14,15,16,17,18,19,20,21,22,23,24,25,26,27,28,29,30,31]},\"id\":\"5414\",\"type\":\"DaysTicker\"},{\"attributes\":{\"data_source\":{\"id\":\"5426\",\"type\":\"ColumnDataSource\"},\"glyph\":{\"id\":\"5429\",\"type\":\"Line\"},\"hover_glyph\":null,\"muted_glyph\":{\"id\":\"5431\",\"type\":\"Line\"},\"nonselection_glyph\":{\"id\":\"5430\",\"type\":\"Line\"},\"selection_glyph\":null,\"view\":{\"id\":\"5433\",\"type\":\"CDSView\"}},\"id\":\"5432\",\"type\":\"GlyphRenderer\"},{\"attributes\":{\"line_color\":\"#1f77b3\",\"line_width\":2,\"x\":{\"field\":\"Date\"},\"y\":{\"field\":\"value\"}},\"id\":\"5845\",\"type\":\"Line\"},{\"attributes\":{},\"id\":\"5487\",\"type\":\"Selection\"},{\"attributes\":{\"line_color\":\"#1f77b3\",\"line_width\":2,\"x\":{\"field\":\"Date\"},\"y\":{\"field\":\"value\"}},\"id\":\"5401\",\"type\":\"Line\"},{\"attributes\":{\"label\":{\"value\":\"ABT\"},\"renderers\":[{\"id\":\"5969\",\"type\":\"GlyphRenderer\"}]},\"id\":\"5997\",\"type\":\"LegendItem\"},{\"attributes\":{\"margin\":[5,5,5,5],\"name\":\"HSpacer01844\",\"sizing_mode\":\"stretch_width\"},\"id\":\"5354\",\"type\":\"Spacer\"},{\"attributes\":{\"margin\":[5,5,5,5],\"name\":\"HSpacer01845\",\"sizing_mode\":\"stretch_width\"},\"id\":\"6791\",\"type\":\"Spacer\"},{\"attributes\":{},\"id\":\"5382\",\"type\":\"SaveTool\"},{\"attributes\":{\"text\":\"\",\"text_color\":{\"value\":\"black\"},\"text_font_size\":{\"value\":\"12pt\"}},\"id\":\"5364\",\"type\":\"Title\"},{\"attributes\":{\"label\":{\"value\":\"JNJ\"},\"renderers\":[{\"id\":\"5876\",\"type\":\"GlyphRenderer\"}]},\"id\":\"5898\",\"type\":\"LegendItem\"},{\"attributes\":{\"mantissas\":[1,2,5],\"max_interval\":500.0,\"num_minor_ticks\":0},\"id\":\"5411\",\"type\":\"AdaptiveTicker\"},{\"attributes\":{\"line_alpha\":0.2,\"line_color\":\"#1f77b3\",\"line_width\":2,\"x\":{\"field\":\"Date\"},\"y\":{\"field\":\"value\"}},\"id\":\"5403\",\"type\":\"Line\"},{\"attributes\":{},\"id\":\"5399\",\"type\":\"Selection\"},{\"attributes\":{},\"id\":\"5368\",\"type\":\"LinearScale\"},{\"attributes\":{\"callback\":null,\"data\":{\"Date\":{\"__ndarray__\":\"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\",\"dtype\":\"float64\",\"shape\":[258]},\"Variable\":[\"ABBV\",\"ABBV\",\"ABBV\",\"ABBV\",\"ABBV\",\"ABBV\",\"ABBV\",\"ABBV\",\"ABBV\",\"ABBV\",\"ABBV\",\"ABBV\",\"ABBV\",\"ABBV\",\"ABBV\",\"ABBV\",\"ABBV\",\"ABBV\",\"ABBV\",\"ABBV\",\"ABBV\",\"ABBV\",\"ABBV\",\"ABBV\",\"ABBV\",\"ABBV\",\"ABBV\",\"ABBV\",\"ABBV\",\"ABBV\",\"ABBV\",\"ABBV\",\"ABBV\",\"ABBV\",\"ABBV\",\"ABBV\",\"ABBV\",\"ABBV\",\"ABBV\",\"ABBV\",\"ABBV\",\"ABBV\",\"ABBV\",\"ABBV\",\"ABBV\",\"ABBV\",\"ABBV\",\"ABBV\",\"ABBV\",\"ABBV\",\"ABBV\",\"ABBV\",\"ABBV\",\"ABBV\",\"ABBV\",\"ABBV\",\"ABBV\",\"ABBV\",\"ABBV\",\"ABBV\",\"ABBV\",\"ABBV\",\"ABBV\",\"ABBV\",\"ABBV\",\"ABBV\",\"ABBV\",\"ABBV\",\"ABBV\",\"ABBV\",\"ABBV\",\"ABBV\",\"ABBV\",\"ABBV\",\"ABBV\",\"ABBV\",\"ABBV\",\"ABBV\",\"ABBV\",\"ABBV\",\"ABBV\",\"ABBV\",\"ABBV\",\"ABBV\",\"ABBV\",\"ABBV\",\"ABBV\",\"ABBV\",\"ABBV\",\"ABBV\",\"ABBV\",\"ABBV\",\"ABBV\",\"ABBV\",\"ABBV\",\"ABBV\",\"ABBV\",\"ABBV\",\"ABBV\",\"ABBV\",\"ABBV\",\"ABBV\",\"ABBV\",\"ABBV\",\"ABBV\",\"ABBV\",\"ABBV\",\"ABBV\",\"ABBV\",\"ABBV\",\"ABBV\",\"ABBV\",\"ABBV\",\"ABBV\",\"ABBV\",\"ABBV\",\"ABBV\",\"ABBV\",\"ABBV\",\"ABBV\",\"ABBV\",\"ABBV\",\"ABBV\",\"ABBV\",\"ABBV\",\"ABBV\",\"ABBV\",\"ABBV\",\"ABBV\",\"ABBV\",\"ABBV\",\"ABBV\",\"ABBV\",\"ABBV\",\"ABBV\",\"ABBV\",\"ABBV\",\"ABBV\",\"ABBV\",\"ABBV\",\"ABBV\",\"ABBV\",\"ABBV\",\"ABBV\",\"ABBV\",\"ABBV\",\"ABBV\",\"ABBV\",\"ABBV\",\"ABBV\",\"ABBV\",\"ABBV\",\"ABBV\",\"ABBV\",\"ABBV\",\"ABBV\",\"ABBV\",\"ABBV\",\"ABBV\",\"ABBV\",\"ABBV\",\"ABBV\",\"ABBV\",\"ABBV\",\"ABBV\",\"ABBV\",\"ABBV\",\"ABBV\",\"ABBV\",\"ABBV\",\"ABBV\",\"ABBV\",\"ABBV\",\"ABBV\",\"ABBV\",\"ABBV\",\"ABBV\",\"ABBV\",\"ABBV\",\"ABBV\",\"ABBV\",\"ABBV\",\"ABBV\",\"ABBV\",\"ABBV\",\"ABBV\",\"ABBV\",\"ABBV\",\"ABBV\",\"ABBV\",\"ABBV\",\"ABBV\",\"ABBV\",\"ABBV\",\"ABBV\",\"ABBV\",\"ABBV\",\"ABBV\",\"ABBV\",\"ABBV\",\"ABBV\",\"ABBV\",\"ABBV\",\"ABBV\",\"ABBV\",\"ABBV\",\"ABBV\",\"ABBV\",\"ABBV\",\"ABBV\",\"ABBV\",\"ABBV\",\"ABBV\",\"ABBV\",\"ABBV\",\"ABBV\",\"ABBV\",\"ABBV\",\"ABBV\",\"ABBV\",\"ABBV\",\"ABBV\",\"ABBV\",\"ABBV\",\"ABBV\",\"ABBV\",\"ABBV\",\"ABBV\",\"ABBV\",\"ABBV\",\"ABBV\",\"ABBV\",\"ABBV\",\"ABBV\",\"ABBV\",\"ABBV\",\"ABBV\",\"ABBV\",\"ABBV\",\"ABBV\",\"ABBV\",\"ABBV\",\"ABBV\",\"ABBV\",\"ABBV\",\"ABBV\",\"ABBV\",\"ABBV\",\"ABBV\",\"ABBV\",\"ABBV\",\"ABBV\",\"ABBV\",\"ABBV\",\"ABBV\",\"ABBV\",\"ABBV\",\"ABBV\"],\"value\":{\"__ndarray__\":\"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\",\"dtype\":\"float64\",\"shape\":[258]}},\"selected\":{\"id\":\"5487\",\"type\":\"Selection\"},\"selection_policy\":{\"id\":\"5550\",\"type\":\"UnionRenderers\"}},\"id\":\"5486\",\"type\":\"ColumnDataSource\"},{\"attributes\":{\"data_source\":{\"id\":\"5870\",\"type\":\"ColumnDataSource\"},\"glyph\":{\"id\":\"5873\",\"type\":\"Line\"},\"hover_glyph\":null,\"muted_glyph\":{\"id\":\"5875\",\"type\":\"Line\"},\"nonselection_glyph\":{\"id\":\"5874\",\"type\":\"Line\"},\"selection_glyph\":null,\"view\":{\"id\":\"5877\",\"type\":\"CDSView\"}},\"id\":\"5876\",\"type\":\"GlyphRenderer\"},{\"attributes\":{\"line_alpha\":0.1,\"line_color\":\"#1f77b3\",\"line_width\":2,\"x\":{\"field\":\"Date\"},\"y\":{\"field\":\"value\"}},\"id\":\"5402\",\"type\":\"Line\"},{\"attributes\":{},\"id\":\"5931\",\"type\":\"Selection\"},{\"attributes\":{\"line_alpha\":0.2,\"line_color\":\"#d62628\",\"line_width\":2,\"x\":{\"field\":\"Date\"},\"y\":{\"field\":\"value\"}},\"id\":\"5491\",\"type\":\"Line\"},{\"attributes\":{\"base\":60,\"mantissas\":[1,2,5,10,15,20,30],\"max_interval\":1800000.0,\"min_interval\":1000.0,\"num_minor_ticks\":0},\"id\":\"5412\",\"type\":\"AdaptiveTicker\"},{\"attributes\":{\"callback\":null,\"data\":{\"Date\":{\"__ndarray__\":\"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\",\"dtype\":\"float64\",\"shape\":[258]},\"Variable\":[\"XLV\",\"XLV\",\"XLV\",\"XLV\",\"XLV\",\"XLV\",\"XLV\",\"XLV\",\"XLV\",\"XLV\",\"XLV\",\"XLV\",\"XLV\",\"XLV\",\"XLV\",\"XLV\",\"XLV\",\"XLV\",\"XLV\",\"XLV\",\"XLV\",\"XLV\",\"XLV\",\"XLV\",\"XLV\",\"XLV\",\"XLV\",\"XLV\",\"XLV\",\"XLV\",\"XLV\",\"XLV\",\"XLV\",\"XLV\",\"XLV\",\"XLV\",\"XLV\",\"XLV\",\"XLV\",\"XLV\",\"XLV\",\"XLV\",\"XLV\",\"XLV\",\"XLV\",\"XLV\",\"XLV\",\"XLV\",\"XLV\",\"XLV\",\"XLV\",\"XLV\",\"XLV\",\"XLV\",\"XLV\",\"XLV\",\"XLV\",\"XLV\",\"XLV\",\"XLV\",\"XLV\",\"XLV\",\"XLV\",\"XLV\",\"XLV\",\"XLV\",\"XLV\",\"XLV\",\"XLV\",\"XLV\",\"XLV\",\"XLV\",\"XLV\",\"XLV\",\"XLV\",\"XLV\",\"XLV\",\"XLV\",\"XLV\",\"XLV\",\"XLV\",\"XLV\",\"XLV\",\"XLV\",\"XLV\",\"XLV\",\"XLV\",\"XLV\",\"XLV\",\"XLV\",\"XLV\",\"XLV\",\"XLV\",\"XLV\",\"XLV\",\"XLV\",\"XLV\",\"XLV\",\"XLV\",\"XLV\",\"XLV\",\"XLV\",\"XLV\",\"XLV\",\"XLV\",\"XLV\",\"XLV\",\"XLV\",\"XLV\",\"XLV\",\"XLV\",\"XLV\",\"XLV\",\"XLV\",\"XLV\",\"XLV\",\"XLV\",\"XLV\",\"XLV\",\"XLV\",\"XLV\",\"XLV\",\"XLV\",\"XLV\",\"XLV\",\"XLV\",\"XLV\",\"XLV\",\"XLV\",\"XLV\",\"XLV\",\"XLV\",\"XLV\",\"XLV\",\"XLV\",\"XLV\",\"XLV\",\"XLV\",\"XLV\",\"XLV\",\"XLV\",\"XLV\",\"XLV\",\"XLV\",\"XLV\",\"XLV\",\"XLV\",\"XLV\",\"XLV\",\"XLV\",\"XLV\",\"XLV\",\"XLV\",\"XLV\",\"XLV\",\"XLV\",\"XLV\",\"XLV\",\"XLV\",\"XLV\",\"XLV\",\"XLV\",\"XLV\",\"XLV\",\"XLV\",\"XLV\",\"XLV\",\"XLV\",\"XLV\",\"XLV\",\"XLV\",\"XLV\",\"XLV\",\"XLV\",\"XLV\",\"XLV\",\"XLV\",\"XLV\",\"XLV\",\"XLV\",\"XLV\",\"XLV\",\"XLV\",\"XLV\",\"XLV\",\"XLV\",\"XLV\",\"XLV\",\"XLV\",\"XLV\",\"XLV\",\"XLV\",\"XLV\",\"XLV\",\"XLV\",\"XLV\",\"XLV\",\"XLV\",\"XLV\",\"XLV\",\"XLV\",\"XLV\",\"XLV\",\"XLV\",\"XLV\",\"XLV\",\"XLV\",\"XLV\",\"XLV\",\"XLV\",\"XLV\",\"XLV\",\"XLV\",\"XLV\",\"XLV\",\"XLV\",\"XLV\",\"XLV\",\"XLV\",\"XLV\",\"XLV\",\"XLV\",\"XLV\",\"XLV\",\"XLV\",\"XLV\",\"XLV\",\"XLV\",\"XLV\",\"XLV\",\"XLV\",\"XLV\",\"XLV\",\"XLV\",\"XLV\",\"XLV\",\"XLV\",\"XLV\",\"XLV\",\"XLV\",\"XLV\",\"XLV\",\"XLV\",\"XLV\",\"XLV\",\"XLV\",\"XLV\",\"XLV\",\"XLV\",\"XLV\",\"XLV\",\"XLV\",\"XLV\",\"XLV\",\"XLV\",\"XLV\",\"XLV\",\"XLV\"],\"value\":{\"__ndarray__\":\"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\",\"dtype\":\"float64\",\"shape\":[258]}},\"selected\":{\"id\":\"5555\",\"type\":\"Selection\"},\"selection_policy\":{\"id\":\"5618\",\"type\":\"UnionRenderers\"}},\"id\":\"5554\",\"type\":\"ColumnDataSource\"},{\"attributes\":{\"callback\":null,\"data\":{\"Date\":{\"__ndarray__\":\"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\",\"dtype\":\"float64\",\"shape\":[258]},\"Variable\":[\"ABBV\",\"ABBV\",\"ABBV\",\"ABBV\",\"ABBV\",\"ABBV\",\"ABBV\",\"ABBV\",\"ABBV\",\"ABBV\",\"ABBV\",\"ABBV\",\"ABBV\",\"ABBV\",\"ABBV\",\"ABBV\",\"ABBV\",\"ABBV\",\"ABBV\",\"ABBV\",\"ABBV\",\"ABBV\",\"ABBV\",\"ABBV\",\"ABBV\",\"ABBV\",\"ABBV\",\"ABBV\",\"ABBV\",\"ABBV\",\"ABBV\",\"ABBV\",\"ABBV\",\"ABBV\",\"ABBV\",\"ABBV\",\"ABBV\",\"ABBV\",\"ABBV\",\"ABBV\",\"ABBV\",\"ABBV\",\"ABBV\",\"ABBV\",\"ABBV\",\"ABBV\",\"ABBV\",\"ABBV\",\"ABBV\",\"ABBV\",\"ABBV\",\"ABBV\",\"ABBV\",\"ABBV\",\"ABBV\",\"ABBV\",\"ABBV\",\"ABBV\",\"ABBV\",\"ABBV\",\"ABBV\",\"ABBV\",\"ABBV\",\"ABBV\",\"ABBV\",\"ABBV\",\"ABBV\",\"ABBV\",\"ABBV\",\"ABBV\",\"ABBV\",\"ABBV\",\"ABBV\",\"ABBV\",\"ABBV\",\"ABBV\",\"ABBV\",\"ABBV\",\"ABBV\",\"ABBV\",\"ABBV\",\"ABBV\",\"ABBV\",\"ABBV\",\"ABBV\",\"ABBV\",\"ABBV\",\"ABBV\",\"ABBV\",\"ABBV\",\"ABBV\",\"ABBV\",\"ABBV\",\"ABBV\",\"ABBV\",\"ABBV\",\"ABBV\",\"ABBV\",\"ABBV\",\"ABBV\",\"ABBV\",\"ABBV\",\"ABBV\",\"ABBV\",\"ABBV\",\"ABBV\",\"ABBV\",\"ABBV\",\"ABBV\",\"ABBV\",\"ABBV\",\"ABBV\",\"ABBV\",\"ABBV\",\"ABBV\",\"ABBV\",\"ABBV\",\"ABBV\",\"ABBV\",\"ABBV\",\"ABBV\",\"ABBV\",\"ABBV\",\"ABBV\",\"ABBV\",\"ABBV\",\"ABBV\",\"ABBV\",\"ABBV\",\"ABBV\",\"ABBV\",\"ABBV\",\"ABBV\",\"ABBV\",\"ABBV\",\"ABBV\",\"ABBV\",\"ABBV\",\"ABBV\",\"ABBV\",\"ABBV\",\"ABBV\",\"ABBV\",\"ABBV\",\"ABBV\",\"ABBV\",\"ABBV\",\"ABBV\",\"ABBV\",\"ABBV\",\"ABBV\",\"ABBV\",\"ABBV\",\"ABBV\",\"ABBV\",\"ABBV\",\"ABBV\",\"ABBV\",\"ABBV\",\"ABBV\",\"ABBV\",\"ABBV\",\"ABBV\",\"ABBV\",\"ABBV\",\"ABBV\",\"ABBV\",\"ABBV\",\"ABBV\",\"ABBV\",\"ABBV\",\"ABBV\",\"ABBV\",\"ABBV\",\"ABBV\",\"ABBV\",\"ABBV\",\"ABBV\",\"ABBV\",\"ABBV\",\"ABBV\",\"ABBV\",\"ABBV\",\"ABBV\",\"ABBV\",\"ABBV\",\"ABBV\",\"ABBV\",\"ABBV\",\"ABBV\",\"ABBV\",\"ABBV\",\"ABBV\",\"ABBV\",\"ABBV\",\"ABBV\",\"ABBV\",\"ABBV\",\"ABBV\",\"ABBV\",\"ABBV\",\"ABBV\",\"ABBV\",\"ABBV\",\"ABBV\",\"ABBV\",\"ABBV\",\"ABBV\",\"ABBV\",\"ABBV\",\"ABBV\",\"ABBV\",\"ABBV\",\"ABBV\",\"ABBV\",\"ABBV\",\"ABBV\",\"ABBV\",\"ABBV\",\"ABBV\",\"ABBV\",\"ABBV\",\"ABBV\",\"ABBV\",\"ABBV\",\"ABBV\",\"ABBV\",\"ABBV\",\"ABBV\",\"ABBV\",\"ABBV\",\"ABBV\",\"ABBV\",\"ABBV\",\"ABBV\",\"ABBV\",\"ABBV\",\"ABBV\",\"ABBV\",\"ABBV\",\"ABBV\",\"ABBV\",\"ABBV\",\"ABBV\",\"ABBV\",\"ABBV\",\"ABBV\",\"ABBV\",\"ABBV\",\"ABBV\",\"ABBV\",\"ABBV\",\"ABBV\",\"ABBV\",\"ABBV\",\"ABBV\",\"ABBV\",\"ABBV\"],\"value\":{\"__ndarray__\":\"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\",\"dtype\":\"float64\",\"shape\":[258]}},\"selected\":{\"id\":\"5931\",\"type\":\"Selection\"},\"selection_policy\":{\"id\":\"5994\",\"type\":\"UnionRenderers\"}},\"id\":\"5930\",\"type\":\"ColumnDataSource\"},{\"attributes\":{\"source\":{\"id\":\"5398\",\"type\":\"ColumnDataSource\"}},\"id\":\"5405\",\"type\":\"CDSView\"},{\"attributes\":{},\"id\":\"5555\",\"type\":\"Selection\"},{\"attributes\":{\"children\":[{\"id\":\"6309\",\"type\":\"ToolbarBox\"},{\"id\":\"6307\",\"type\":\"GridBox\"}]},\"id\":\"6310\",\"type\":\"Column\"},{\"attributes\":{},\"id\":\"5840\",\"type\":\"BasicTickFormatter\"},{\"attributes\":{\"overlay\":{\"id\":\"5423\",\"type\":\"BoxAnnotation\"}},\"id\":\"5385\",\"type\":\"BoxZoomTool\"},{\"attributes\":{\"axis_label\":\"\",\"axis_label_text_font_size\":{\"value\":\"10pt\"},\"bounds\":\"auto\",\"formatter\":{\"id\":\"5396\",\"type\":\"BasicTickFormatter\"},\"major_label_orientation\":\"horizontal\",\"ticker\":{\"id\":\"5378\",\"type\":\"BasicTicker\"}},\"id\":\"5377\",\"type\":\"LinearAxis\"},{\"attributes\":{\"label\":{\"value\":\"ABBV\"},\"renderers\":[{\"id\":\"5936\",\"type\":\"GlyphRenderer\"}]},\"id\":\"5962\",\"type\":\"LegendItem\"},{\"attributes\":{\"line_alpha\":0.2,\"line_color\":\"#ff7e0e\",\"line_width\":2,\"x\":{\"field\":\"Date\"},\"y\":{\"field\":\"value\"}},\"id\":\"5875\",\"type\":\"Line\"},{\"attributes\":{\"data_source\":{\"id\":\"5486\",\"type\":\"ColumnDataSource\"},\"glyph\":{\"id\":\"5489\",\"type\":\"Line\"},\"hover_glyph\":null,\"muted_glyph\":{\"id\":\"5491\",\"type\":\"Line\"},\"nonselection_glyph\":{\"id\":\"5490\",\"type\":\"Line\"},\"selection_glyph\":null,\"view\":{\"id\":\"5493\",\"type\":\"CDSView\"}},\"id\":\"5492\",\"type\":\"GlyphRenderer\"},{\"attributes\":{\"num_minor_ticks\":5,\"tickers\":[{\"id\":\"5411\",\"type\":\"AdaptiveTicker\"},{\"id\":\"5412\",\"type\":\"AdaptiveTicker\"},{\"id\":\"5413\",\"type\":\"AdaptiveTicker\"},{\"id\":\"5414\",\"type\":\"DaysTicker\"},{\"id\":\"5415\",\"type\":\"DaysTicker\"},{\"id\":\"5416\",\"type\":\"DaysTicker\"},{\"id\":\"5417\",\"type\":\"DaysTicker\"},{\"id\":\"5418\",\"type\":\"MonthsTicker\"},{\"id\":\"5419\",\"type\":\"MonthsTicker\"},{\"id\":\"5420\",\"type\":\"MonthsTicker\"},{\"id\":\"5421\",\"type\":\"MonthsTicker\"},{\"id\":\"5422\",\"type\":\"YearsTicker\"}]},\"id\":\"5373\",\"type\":\"DatetimeTicker\"},{\"attributes\":{},\"id\":\"5959\",\"type\":\"UnionRenderers\"},{\"attributes\":{\"line_color\":\"#8c564b\",\"line_width\":2,\"x\":{\"field\":\"Date\"},\"y\":{\"field\":\"value\"}},\"id\":\"5557\",\"type\":\"Line\"},{\"attributes\":{},\"id\":\"5843\",\"type\":\"Selection\"},{\"attributes\":{},\"id\":\"5384\",\"type\":\"WheelZoomTool\"},{\"attributes\":{\"line_alpha\":0.2,\"line_color\":\"#8c564b\",\"line_width\":2,\"x\":{\"field\":\"Date\"},\"y\":{\"field\":\"value\"}},\"id\":\"5559\",\"type\":\"Line\"},{\"attributes\":{},\"id\":\"6031\",\"type\":\"UnionRenderers\"},{\"attributes\":{\"align\":null,\"below\":[{\"id\":\"5372\",\"type\":\"DatetimeAxis\"}],\"center\":[{\"id\":\"5376\",\"type\":\"Grid\"},{\"id\":\"5381\",\"type\":\"Grid\"}],\"left\":[{\"id\":\"5377\",\"type\":\"LinearAxis\"}],\"margin\":null,\"min_border_bottom\":10,\"min_border_left\":10,\"min_border_right\":10,\"min_border_top\":10,\"plot_height\":300,\"plot_width\":700,\"renderers\":[{\"id\":\"5404\",\"type\":\"GlyphRenderer\"},{\"id\":\"5432\",\"type\":\"GlyphRenderer\"},{\"id\":\"5461\",\"type\":\"GlyphRenderer\"},{\"id\":\"5492\",\"type\":\"GlyphRenderer\"},{\"id\":\"5525\",\"type\":\"GlyphRenderer\"},{\"id\":\"5560\",\"type\":\"GlyphRenderer\"}],\"right\":[{\"id\":\"5424\",\"type\":\"Legend\"}],\"sizing_mode\":\"fixed\",\"title\":{\"id\":\"5364\",\"type\":\"Title\"},\"toolbar\":{\"id\":\"5387\",\"type\":\"Toolbar\"},\"toolbar_location\":null,\"x_range\":{\"id\":\"5355\",\"type\":\"Range1d\"},\"x_scale\":{\"id\":\"5368\",\"type\":\"LinearScale\"},\"y_range\":{\"id\":\"5356\",\"type\":\"Range1d\"},\"y_scale\":{\"id\":\"5370\",\"type\":\"LinearScale\"}},\"id\":\"5363\",\"subtype\":\"Figure\",\"type\":\"Plot\"},{\"attributes\":{\"dimension\":1,\"grid_line_color\":null,\"ticker\":{\"id\":\"5378\",\"type\":\"BasicTicker\"}},\"id\":\"5381\",\"type\":\"Grid\"},{\"attributes\":{\"days\":[1,8,15,22]},\"id\":\"5860\",\"type\":\"DaysTicker\"},{\"attributes\":{\"line_alpha\":0.1,\"line_color\":\"#d62628\",\"line_width\":2,\"x\":{\"field\":\"Date\"},\"y\":{\"field\":\"value\"}},\"id\":\"5490\",\"type\":\"Line\"},{\"attributes\":{\"label\":{\"value\":\"ABT\"},\"renderers\":[{\"id\":\"5525\",\"type\":\"GlyphRenderer\"}]},\"id\":\"5553\",\"type\":\"LegendItem\"},{\"attributes\":{\"tools\":[{\"id\":\"5357\",\"type\":\"HoverTool\"},{\"id\":\"5382\",\"type\":\"SaveTool\"},{\"id\":\"5383\",\"type\":\"PanTool\"},{\"id\":\"5384\",\"type\":\"WheelZoomTool\"},{\"id\":\"5385\",\"type\":\"BoxZoomTool\"},{\"id\":\"5386\",\"type\":\"ResetTool\"},{\"id\":\"5801\",\"type\":\"HoverTool\"},{\"id\":\"5826\",\"type\":\"SaveTool\"},{\"id\":\"5827\",\"type\":\"PanTool\"},{\"id\":\"5828\",\"type\":\"WheelZoomTool\"},{\"id\":\"5829\",\"type\":\"BoxZoomTool\"},{\"id\":\"5830\",\"type\":\"ResetTool\"}]},\"id\":\"6308\",\"type\":\"ProxyToolbar\"},{\"attributes\":{\"line_alpha\":0.1,\"line_color\":\"#8c564b\",\"line_width\":2,\"x\":{\"field\":\"Date\"},\"y\":{\"field\":\"value\"}},\"id\":\"5558\",\"type\":\"Line\"},{\"attributes\":{\"source\":{\"id\":\"5870\",\"type\":\"ColumnDataSource\"}},\"id\":\"5877\",\"type\":\"CDSView\"},{\"attributes\":{},\"id\":\"5838\",\"type\":\"DatetimeTickFormatter\"},{\"attributes\":{},\"id\":\"5378\",\"type\":\"BasicTicker\"},{\"attributes\":{\"line_color\":\"#d62628\",\"line_width\":2,\"x\":{\"field\":\"Date\"},\"y\":{\"field\":\"value\"}},\"id\":\"5933\",\"type\":\"Line\"},{\"attributes\":{\"data_source\":{\"id\":\"5554\",\"type\":\"ColumnDataSource\"},\"glyph\":{\"id\":\"5557\",\"type\":\"Line\"},\"hover_glyph\":null,\"muted_glyph\":{\"id\":\"5559\",\"type\":\"Line\"},\"nonselection_glyph\":{\"id\":\"5558\",\"type\":\"Line\"},\"selection_glyph\":null,\"view\":{\"id\":\"5561\",\"type\":\"CDSView\"}},\"id\":\"5560\",\"type\":\"GlyphRenderer\"},{\"attributes\":{\"click_policy\":\"mute\",\"items\":[{\"id\":\"5869\",\"type\":\"LegendItem\"},{\"id\":\"5898\",\"type\":\"LegendItem\"},{\"id\":\"5929\",\"type\":\"LegendItem\"},{\"id\":\"5962\",\"type\":\"LegendItem\"},{\"id\":\"5997\",\"type\":\"LegendItem\"},{\"id\":\"6034\",\"type\":\"LegendItem\"}],\"label_text_font_size\":{\"value\":\"10pt\"},\"location\":[0,0],\"title\":\"Variable\",\"title_text_font_size\":{\"value\":\"10pt\"}},\"id\":\"5868\",\"type\":\"Legend\"},{\"attributes\":{},\"id\":\"5520\",\"type\":\"Selection\"},{\"attributes\":{},\"id\":\"5895\",\"type\":\"UnionRenderers\"},{\"attributes\":{\"label\":{\"value\":\"XLV\"},\"renderers\":[{\"id\":\"5560\",\"type\":\"GlyphRenderer\"}]},\"id\":\"5590\",\"type\":\"LegendItem\"},{\"attributes\":{\"source\":{\"id\":\"5554\",\"type\":\"ColumnDataSource\"}},\"id\":\"5561\",\"type\":\"CDSView\"},{\"attributes\":{\"callback\":null,\"data\":{\"Date\":{\"__ndarray__\":\"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\",\"dtype\":\"float64\",\"shape\":[258]},\"Variable\":[\"ABT\",\"ABT\",\"ABT\",\"ABT\",\"ABT\",\"ABT\",\"ABT\",\"ABT\",\"ABT\",\"ABT\",\"ABT\",\"ABT\",\"ABT\",\"ABT\",\"ABT\",\"ABT\",\"ABT\",\"ABT\",\"ABT\",\"ABT\",\"ABT\",\"ABT\",\"ABT\",\"ABT\",\"ABT\",\"ABT\",\"ABT\",\"ABT\",\"ABT\",\"ABT\",\"ABT\",\"ABT\",\"ABT\",\"ABT\",\"ABT\",\"ABT\",\"ABT\",\"ABT\",\"ABT\",\"ABT\",\"ABT\",\"ABT\",\"ABT\",\"ABT\",\"ABT\",\"ABT\",\"ABT\",\"ABT\",\"ABT\",\"ABT\",\"ABT\",\"ABT\",\"ABT\",\"ABT\",\"ABT\",\"ABT\",\"ABT\",\"ABT\",\"ABT\",\"ABT\",\"ABT\",\"ABT\",\"ABT\",\"ABT\",\"ABT\",\"ABT\",\"ABT\",\"ABT\",\"ABT\",\"ABT\",\"ABT\",\"ABT\",\"ABT\",\"ABT\",\"ABT\",\"ABT\",\"ABT\",\"ABT\",\"ABT\",\"ABT\",\"ABT\",\"ABT\",\"ABT\",\"ABT\",\"ABT\",\"ABT\",\"ABT\",\"ABT\",\"ABT\",\"ABT\",\"ABT\",\"ABT\",\"ABT\",\"ABT\",\"ABT\",\"ABT\",\"ABT\",\"ABT\",\"ABT\",\"ABT\",\"ABT\",\"ABT\",\"ABT\",\"ABT\",\"ABT\",\"ABT\",\"ABT\",\"ABT\",\"ABT\",\"ABT\",\"ABT\",\"ABT\",\"ABT\",\"ABT\",\"ABT\",\"ABT\",\"ABT\",\"ABT\",\"ABT\",\"ABT\",\"ABT\",\"ABT\",\"ABT\",\"ABT\",\"ABT\",\"ABT\",\"ABT\",\"ABT\",\"ABT\",\"ABT\",\"ABT\",\"ABT\",\"ABT\",\"ABT\",\"ABT\",\"ABT\",\"ABT\",\"ABT\",\"ABT\",\"ABT\",\"ABT\",\"ABT\",\"ABT\",\"ABT\",\"ABT\",\"ABT\",\"ABT\",\"ABT\",\"ABT\",\"ABT\",\"ABT\",\"ABT\",\"ABT\",\"ABT\",\"ABT\",\"ABT\",\"ABT\",\"ABT\",\"ABT\",\"ABT\",\"ABT\",\"ABT\",\"ABT\",\"ABT\",\"ABT\",\"ABT\",\"ABT\",\"ABT\",\"ABT\",\"ABT\",\"ABT\",\"ABT\",\"ABT\",\"ABT\",\"ABT\",\"ABT\",\"ABT\",\"ABT\",\"ABT\",\"ABT\",\"ABT\",\"ABT\",\"ABT\",\"ABT\",\"ABT\",\"ABT\",\"ABT\",\"ABT\",\"ABT\",\"ABT\",\"ABT\",\"ABT\",\"ABT\",\"ABT\",\"ABT\",\"ABT\",\"ABT\",\"ABT\",\"ABT\",\"ABT\",\"ABT\",\"ABT\",\"ABT\",\"ABT\",\"ABT\",\"ABT\",\"ABT\",\"ABT\",\"ABT\",\"ABT\",\"ABT\",\"ABT\",\"ABT\",\"ABT\",\"ABT\",\"ABT\",\"ABT\",\"ABT\",\"ABT\",\"ABT\",\"ABT\",\"ABT\",\"ABT\",\"ABT\",\"ABT\",\"ABT\",\"ABT\",\"ABT\",\"ABT\",\"ABT\",\"ABT\",\"ABT\",\"ABT\",\"ABT\",\"ABT\",\"ABT\",\"ABT\",\"ABT\",\"ABT\",\"ABT\",\"ABT\",\"ABT\",\"ABT\",\"ABT\",\"ABT\",\"ABT\",\"ABT\",\"ABT\",\"ABT\",\"ABT\",\"ABT\",\"ABT\",\"ABT\",\"ABT\",\"ABT\",\"ABT\",\"ABT\",\"ABT\"],\"value\":{\"__ndarray__\":\"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\",\"dtype\":\"float64\",\"shape\":[258]}},\"selected\":{\"id\":\"5964\",\"type\":\"Selection\"},\"selection_policy\":{\"id\":\"6031\",\"type\":\"UnionRenderers\"}},\"id\":\"5963\",\"type\":\"ColumnDataSource\"},{\"attributes\":{},\"id\":\"5587\",\"type\":\"UnionRenderers\"},{\"attributes\":{\"callback\":null,\"data\":{\"Date\":{\"__ndarray__\":\"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\",\"dtype\":\"float64\",\"shape\":[258]},\"Variable\":[\"UNH\",\"UNH\",\"UNH\",\"UNH\",\"UNH\",\"UNH\",\"UNH\",\"UNH\",\"UNH\",\"UNH\",\"UNH\",\"UNH\",\"UNH\",\"UNH\",\"UNH\",\"UNH\",\"UNH\",\"UNH\",\"UNH\",\"UNH\",\"UNH\",\"UNH\",\"UNH\",\"UNH\",\"UNH\",\"UNH\",\"UNH\",\"UNH\",\"UNH\",\"UNH\",\"UNH\",\"UNH\",\"UNH\",\"UNH\",\"UNH\",\"UNH\",\"UNH\",\"UNH\",\"UNH\",\"UNH\",\"UNH\",\"UNH\",\"UNH\",\"UNH\",\"UNH\",\"UNH\",\"UNH\",\"UNH\",\"UNH\",\"UNH\",\"UNH\",\"UNH\",\"UNH\",\"UNH\",\"UNH\",\"UNH\",\"UNH\",\"UNH\",\"UNH\",\"UNH\",\"UNH\",\"UNH\",\"UNH\",\"UNH\",\"UNH\",\"UNH\",\"UNH\",\"UNH\",\"UNH\",\"UNH\",\"UNH\",\"UNH\",\"UNH\",\"UNH\",\"UNH\",\"UNH\",\"UNH\",\"UNH\",\"UNH\",\"UNH\",\"UNH\",\"UNH\",\"UNH\",\"UNH\",\"UNH\",\"UNH\",\"UNH\",\"UNH\",\"UNH\",\"UNH\",\"UNH\",\"UNH\",\"UNH\",\"UNH\",\"UNH\",\"UNH\",\"UNH\",\"UNH\",\"UNH\",\"UNH\",\"UNH\",\"UNH\",\"UNH\",\"UNH\",\"UNH\",\"UNH\",\"UNH\",\"UNH\",\"UNH\",\"UNH\",\"UNH\",\"UNH\",\"UNH\",\"UNH\",\"UNH\",\"UNH\",\"UNH\",\"UNH\",\"UNH\",\"UNH\",\"UNH\",\"UNH\",\"UNH\",\"UNH\",\"UNH\",\"UNH\",\"UNH\",\"UNH\",\"UNH\",\"UNH\",\"UNH\",\"UNH\",\"UNH\",\"UNH\",\"UNH\",\"UNH\",\"UNH\",\"UNH\",\"UNH\",\"UNH\",\"UNH\",\"UNH\",\"UNH\",\"UNH\",\"UNH\",\"UNH\",\"UNH\",\"UNH\",\"UNH\",\"UNH\",\"UNH\",\"UNH\",\"UNH\",\"UNH\",\"UNH\",\"UNH\",\"UNH\",\"UNH\",\"UNH\",\"UNH\",\"UNH\",\"UNH\",\"UNH\",\"UNH\",\"UNH\",\"UNH\",\"UNH\",\"UNH\",\"UNH\",\"UNH\",\"UNH\",\"UNH\",\"UNH\",\"UNH\",\"UNH\",\"UNH\",\"UNH\",\"UNH\",\"UNH\",\"UNH\",\"UNH\",\"UNH\",\"UNH\",\"UNH\",\"UNH\",\"UNH\",\"UNH\",\"UNH\",\"UNH\",\"UNH\",\"UNH\",\"UNH\",\"UNH\",\"UNH\",\"UNH\",\"UNH\",\"UNH\",\"UNH\",\"UNH\",\"UNH\",\"UNH\",\"UNH\",\"UNH\",\"UNH\",\"UNH\",\"UNH\",\"UNH\",\"UNH\",\"UNH\",\"UNH\",\"UNH\",\"UNH\",\"UNH\",\"UNH\",\"UNH\",\"UNH\",\"UNH\",\"UNH\",\"UNH\",\"UNH\",\"UNH\",\"UNH\",\"UNH\",\"UNH\",\"UNH\",\"UNH\",\"UNH\",\"UNH\",\"UNH\",\"UNH\",\"UNH\",\"UNH\",\"UNH\",\"UNH\",\"UNH\",\"UNH\",\"UNH\",\"UNH\",\"UNH\",\"UNH\",\"UNH\",\"UNH\",\"UNH\",\"UNH\",\"UNH\",\"UNH\",\"UNH\",\"UNH\",\"UNH\",\"UNH\",\"UNH\",\"UNH\",\"UNH\",\"UNH\",\"UNH\",\"UNH\",\"UNH\",\"UNH\"],\"value\":{\"__ndarray__\":\"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\",\"dtype\":\"float64\",\"shape\":[258]}},\"selected\":{\"id\":\"5399\",\"type\":\"Selection\"},\"selection_policy\":{\"id\":\"5451\",\"type\":\"UnionRenderers\"}},\"id\":\"5398\",\"type\":\"ColumnDataSource\"},{\"attributes\":{},\"id\":\"5964\",\"type\":\"Selection\"},{\"attributes\":{\"source\":{\"id\":\"5930\",\"type\":\"ColumnDataSource\"}},\"id\":\"5937\",\"type\":\"CDSView\"},{\"attributes\":{\"mantissas\":[1,2,5],\"max_interval\":500.0,\"num_minor_ticks\":0},\"id\":\"5855\",\"type\":\"AdaptiveTicker\"},{\"attributes\":{},\"id\":\"5812\",\"type\":\"LinearScale\"},{\"attributes\":{},\"id\":\"5826\",\"type\":\"SaveTool\"},{\"attributes\":{\"num_minor_ticks\":5,\"tickers\":[{\"id\":\"5855\",\"type\":\"AdaptiveTicker\"},{\"id\":\"5856\",\"type\":\"AdaptiveTicker\"},{\"id\":\"5857\",\"type\":\"AdaptiveTicker\"},{\"id\":\"5858\",\"type\":\"DaysTicker\"},{\"id\":\"5859\",\"type\":\"DaysTicker\"},{\"id\":\"5860\",\"type\":\"DaysTicker\"},{\"id\":\"5861\",\"type\":\"DaysTicker\"},{\"id\":\"5862\",\"type\":\"MonthsTicker\"},{\"id\":\"5863\",\"type\":\"MonthsTicker\"},{\"id\":\"5864\",\"type\":\"MonthsTicker\"},{\"id\":\"5865\",\"type\":\"MonthsTicker\"},{\"id\":\"5866\",\"type\":\"YearsTicker\"}]},\"id\":\"5817\",\"type\":\"DatetimeTicker\"},{\"attributes\":{\"months\":[0,1,2,3,4,5,6,7,8,9,10,11]},\"id\":\"5418\",\"type\":\"MonthsTicker\"},{\"attributes\":{},\"id\":\"5830\",\"type\":\"ResetTool\"},{\"attributes\":{\"bottom_units\":\"screen\",\"fill_alpha\":{\"value\":0.5},\"fill_color\":{\"value\":\"lightgrey\"},\"left_units\":\"screen\",\"level\":\"overlay\",\"line_alpha\":{\"value\":1.0},\"line_color\":{\"value\":\"black\"},\"line_dash\":[4,4],\"line_width\":{\"value\":2},\"render_mode\":\"css\",\"right_units\":\"screen\",\"top_units\":\"screen\"},\"id\":\"5867\",\"type\":\"BoxAnnotation\"},{\"attributes\":{\"line_alpha\":0.1,\"line_color\":\"#8c564b\",\"line_width\":2,\"x\":{\"field\":\"Date\"},\"y\":{\"field\":\"value\"}},\"id\":\"6002\",\"type\":\"Line\"},{\"attributes\":{},\"id\":\"5618\",\"type\":\"UnionRenderers\"},{\"attributes\":{},\"id\":\"5900\",\"type\":\"Selection\"},{\"attributes\":{\"overlay\":{\"id\":\"5867\",\"type\":\"BoxAnnotation\"}},\"id\":\"5829\",\"type\":\"BoxZoomTool\"},{\"attributes\":{},\"id\":\"5456\",\"type\":\"Selection\"},{\"attributes\":{},\"id\":\"5866\",\"type\":\"YearsTicker\"},{\"attributes\":{},\"id\":\"5396\",\"type\":\"BasicTickFormatter\"},{\"attributes\":{\"click_policy\":\"mute\",\"items\":[{\"id\":\"5425\",\"type\":\"LegendItem\"},{\"id\":\"5454\",\"type\":\"LegendItem\"},{\"id\":\"5485\",\"type\":\"LegendItem\"},{\"id\":\"5518\",\"type\":\"LegendItem\"},{\"id\":\"5553\",\"type\":\"LegendItem\"},{\"id\":\"5590\",\"type\":\"LegendItem\"}],\"label_text_font_size\":{\"value\":\"10pt\"},\"location\":[0,0],\"title\":\"Variable\",\"title_text_font_size\":{\"value\":\"10pt\"}},\"id\":\"5424\",\"type\":\"Legend\"},{\"attributes\":{\"source\":{\"id\":\"5899\",\"type\":\"ColumnDataSource\"}},\"id\":\"5906\",\"type\":\"CDSView\"},{\"attributes\":{\"line_color\":\"#ff7e0e\",\"line_width\":2,\"x\":{\"field\":\"Date\"},\"y\":{\"field\":\"value\"}},\"id\":\"5873\",\"type\":\"Line\"},{\"attributes\":{\"label\":{\"value\":\"XLV\"},\"renderers\":[{\"id\":\"6004\",\"type\":\"GlyphRenderer\"}]},\"id\":\"6034\",\"type\":\"LegendItem\"},{\"attributes\":{\"callback\":null,\"end\":1598227200000.0,\"reset_end\":1598227200000.0,\"reset_start\":1565913600000.0,\"start\":1565913600000.0,\"tags\":[[[\"Date\",\"Date\",null]]]},\"id\":\"5355\",\"type\":\"Range1d\"},{\"attributes\":{\"source\":{\"id\":\"5426\",\"type\":\"ColumnDataSource\"}},\"id\":\"5433\",\"type\":\"CDSView\"},{\"attributes\":{\"line_alpha\":0.2,\"line_color\":\"#2ba02b\",\"line_width\":2,\"x\":{\"field\":\"Date\"},\"y\":{\"field\":\"value\"}},\"id\":\"5904\",\"type\":\"Line\"},{\"attributes\":{\"months\":[0,4,8]},\"id\":\"5420\",\"type\":\"MonthsTicker\"},{\"attributes\":{},\"id\":\"5422\",\"type\":\"YearsTicker\"},{\"attributes\":{\"line_alpha\":0.2,\"line_color\":\"#9367bc\",\"line_width\":2,\"x\":{\"field\":\"Date\"},\"y\":{\"field\":\"value\"}},\"id\":\"5524\",\"type\":\"Line\"},{\"attributes\":{},\"id\":\"5427\",\"type\":\"Selection\"},{\"attributes\":{\"months\":[0,6]},\"id\":\"5865\",\"type\":\"MonthsTicker\"},{\"attributes\":{\"months\":[0,2,4,6,8,10]},\"id\":\"5419\",\"type\":\"MonthsTicker\"},{\"attributes\":{\"data_source\":{\"id\":\"5455\",\"type\":\"ColumnDataSource\"},\"glyph\":{\"id\":\"5458\",\"type\":\"Line\"},\"hover_glyph\":null,\"muted_glyph\":{\"id\":\"5460\",\"type\":\"Line\"},\"nonselection_glyph\":{\"id\":\"5459\",\"type\":\"Line\"},\"selection_glyph\":null,\"view\":{\"id\":\"5462\",\"type\":\"CDSView\"}},\"id\":\"5461\",\"type\":\"GlyphRenderer\"},{\"attributes\":{\"line_alpha\":0.1,\"line_color\":\"#2ba02b\",\"line_width\":2,\"x\":{\"field\":\"Date\"},\"y\":{\"field\":\"value\"}},\"id\":\"5903\",\"type\":\"Line\"},{\"attributes\":{\"months\":[0,6]},\"id\":\"5421\",\"type\":\"MonthsTicker\"},{\"attributes\":{\"callback\":null,\"formatters\":{\"@{Date}\":\"datetime\"},\"renderers\":[{\"id\":\"5404\",\"type\":\"GlyphRenderer\"},{\"id\":\"5432\",\"type\":\"GlyphRenderer\"},{\"id\":\"5461\",\"type\":\"GlyphRenderer\"},{\"id\":\"5492\",\"type\":\"GlyphRenderer\"},{\"id\":\"5525\",\"type\":\"GlyphRenderer\"},{\"id\":\"5560\",\"type\":\"GlyphRenderer\"}],\"tags\":[\"hv_created\"],\"tooltips\":[[\"Variable\",\"@{Variable}\"],[\"Date\",\"@{Date}{%F %T}\"],[\"value\",\"@{value}\"]]},\"id\":\"5357\",\"type\":\"HoverTool\"},{\"attributes\":{\"toolbar\":{\"id\":\"6308\",\"type\":\"ProxyToolbar\"},\"toolbar_location\":\"above\"},\"id\":\"6309\",\"type\":\"ToolbarBox\"},{\"attributes\":{\"label\":{\"value\":\"MRK\"},\"renderers\":[{\"id\":\"5905\",\"type\":\"GlyphRenderer\"}]},\"id\":\"5929\",\"type\":\"LegendItem\"},{\"attributes\":{\"source\":{\"id\":\"5486\",\"type\":\"ColumnDataSource\"}},\"id\":\"5493\",\"type\":\"CDSView\"},{\"attributes\":{},\"id\":\"5394\",\"type\":\"DatetimeTickFormatter\"},{\"attributes\":{},\"id\":\"5926\",\"type\":\"UnionRenderers\"},{\"attributes\":{\"label\":{\"value\":\"MRK\"},\"renderers\":[{\"id\":\"5461\",\"type\":\"GlyphRenderer\"}]},\"id\":\"5485\",\"type\":\"LegendItem\"},{\"attributes\":{\"dimension\":1,\"grid_line_color\":null,\"ticker\":{\"id\":\"5822\",\"type\":\"BasicTicker\"}},\"id\":\"5825\",\"type\":\"Grid\"},{\"attributes\":{\"bottom_units\":\"screen\",\"fill_alpha\":{\"value\":0.5},\"fill_color\":{\"value\":\"lightgrey\"},\"left_units\":\"screen\",\"level\":\"overlay\",\"line_alpha\":{\"value\":1.0},\"line_color\":{\"value\":\"black\"},\"line_dash\":[4,4],\"line_width\":{\"value\":2},\"render_mode\":\"css\",\"right_units\":\"screen\",\"top_units\":\"screen\"},\"id\":\"5423\",\"type\":\"BoxAnnotation\"},{\"attributes\":{\"axis_label\":\"\",\"axis_label_text_font_size\":{\"value\":\"10pt\"},\"bounds\":\"auto\",\"formatter\":{\"id\":\"5840\",\"type\":\"BasicTickFormatter\"},\"major_label_orientation\":\"horizontal\",\"ticker\":{\"id\":\"5822\",\"type\":\"BasicTicker\"}},\"id\":\"5821\",\"type\":\"LinearAxis\"},{\"attributes\":{\"data_source\":{\"id\":\"5998\",\"type\":\"ColumnDataSource\"},\"glyph\":{\"id\":\"6001\",\"type\":\"Line\"},\"hover_glyph\":null,\"muted_glyph\":{\"id\":\"6003\",\"type\":\"Line\"},\"nonselection_glyph\":{\"id\":\"6002\",\"type\":\"Line\"},\"selection_glyph\":null,\"view\":{\"id\":\"6005\",\"type\":\"CDSView\"}},\"id\":\"6004\",\"type\":\"GlyphRenderer\"},{\"attributes\":{\"label\":{\"value\":\"JNJ\"},\"renderers\":[{\"id\":\"5432\",\"type\":\"GlyphRenderer\"}]},\"id\":\"5454\",\"type\":\"LegendItem\"},{\"attributes\":{\"line_alpha\":0.2,\"line_color\":\"#2ba02b\",\"line_width\":2,\"x\":{\"field\":\"Date\"},\"y\":{\"field\":\"value\"}},\"id\":\"5460\",\"type\":\"Line\"},{\"attributes\":{},\"id\":\"5822\",\"type\":\"BasicTicker\"},{\"attributes\":{\"months\":[0,2,4,6,8,10]},\"id\":\"5863\",\"type\":\"MonthsTicker\"},{\"attributes\":{\"callback\":null,\"data\":{\"Date\":{\"__ndarray__\":\"AAAAlXvJdkIAAEDGcsp2QgAAACzFynZCAADAkRfLdkIAAID3act2QgAAQF28y3ZCAACAjrPMdkIAAED0Bc12QgAAAFpYzXZCAADAv6rNdkIAAIAl/c12QgAAgLxGz3ZCAABAIpnPdkIAAACI6892QgAAwO090HZCAAAAHzXRdkIAAMCEh9F2QgAAgOrZ0XZCAABAUCzSdkIAAAC2ftJ2QgAAQOd103ZCAAAATcjTdkIAAMCyGtR2QgAAgBht1HZCAABAfr/UdkIAAICvttV2QgAAQBUJ1nZCAAAAe1vWdkIAAMDgrdZ2QgAAgEYA13ZCAADAd/fXdkIAAIDdSdh2QgAAQEOc2HZCAAAAqe7YdkIAAMAOQdl2QgAAAEA42nZCAADApYradkIAAIAL3dp2QgAAQHEv23ZCAAAA14HbdkIAAEAIedx2QgAAAG7L3HZCAADA0x3ddkIAAIA5cN12QgAAQJ/C3XZCAACA0LnedkIAAEA2DN92QgAAAJxe33ZCAADAAbHfdkIAAIBnA+B2QgAAwJj64HZCAACA/kzhdkIAAEBkn+F2QgAAAMrx4XZCAADAL0TidkIAAABhO+N2QgAAwMaN43ZCAACALODjdkIAAECSMuR2QgAAAPiE5HZCAABAKXzldkIAAACPzuV2QgAAwPQg5nZCAACAWnPmdkIAAEDAxeZ2QgAAgPG853ZCAABAVw/odkIAAAC9Yeh2QgAAwCK06HZCAACAiAbpdkIAAMC5/el2QgAAgB9Q6nZCAABAhaLqdkIAAMBQR+t2QgAAAII+7HZCAADA55DsdkIAAIBN4+x2QgAAQLM17XZCAAAAGYjtdkIAAEBKf+52QgAAALDR7nZCAADAFSTvdkIAAIB7du92QgAAQOHI73ZCAACAEsDwdkIAAEB4EvF2QgAAAN5k8XZCAADAQ7fxdkIAAICpCfJ2QgAAwNoA83ZCAACAQFPzdkIAAAAM+PN2QgAAwHFK9HZCAAAAo0H1dkIAAMAIlPV2QgAAQNQ49nZCAAAAOov2dkIAAEBrgvd2QgAAANHU93ZCAADANif4dkIAAICcefh2QgAAQALM+HZCAACAM8P5dkIAAECZFfp2QgAAAP9n+nZCAADAZLr6dkIAAIDKDPt2QgAAgGFW/HZCAABAx6j8dkIAAAAt+/x2QgAAwJJN/XZCAAAAxET+dkIAAMApl/52QgAAgI/p/nZCAABA9Tv/dkIAAABbjv92QgAAQIyFAHdCAAAA8tcAd0IAAMBXKgF3QgAAgL18AXdCAABAI88Bd0IAAIBUxgJ3QgAAQLoYA3dCAAAAIGsDd0IAAMCFvQN3QgAAgOsPBHdCAACAglkFd0IAAEDoqwV3QgAAAE7+BXdCAADAs1AGd0IAAADlRwd3QgAAwEqaB3dCAACAsOwHd0IAAEAWPwh3QgAAAHyRCHdCAABArYgJd0IAAAAT2wl3QgAAwHgtCndCAACA3n8Kd0IAAEBE0gp3QgAAgHXJC3dCAABA2xsMd0IAAABBbgx3QgAAwKbADHdCAACADBMNd0IAAMA9Cg53QgAAgKNcDndCAABACa8Od0IAAABvAQ93QgAAwNRTD3dCAAAABksQd0IAAMBrnRB3QgAAgNHvEHdCAABAN0IRd0IAAACdlBF3QgAAQM6LEndCAAAANN4Sd0IAAMCZMBN3QgAAgP+CE3dCAABAZdUTd0IAAICWzBR3QgAAQPweFXdCAAAAYnEVd0IAAMDHwxV3QgAAwF4NF3dCAACAxF8Xd0IAAEAqshd3QgAAAJAEGHdCAADA9VYYd0IAAAAnThl3QgAAwIygGXdCAACA8vIZd0IAAEBYRRp3QgAAAL6XGndCAABA744bd0IAAABV4Rt3QgAAwLozHHdCAACAIIYcd0IAAECG2Bx3QgAAgLfPHXdCAABAHSIed0IAAACDdB53QgAAwOjGHndCAACAThkfd0IAAMB/ECB3QgAAgOViIHdCAABAS7Ugd0IAAACxByF3QgAAwBZaIXdCAAAASFEid0IAAMCtoyJ3QgAAgBP2IndCAABAeUgjd0IAAADfmiN3QgAAAHbkJHdCAADA2zYld0IAAIBBiSV3QgAAQKfbJXdCAACA2NImd0IAAEA+JSd3QgAAAKR3J3dCAADACcond0IAAIBvHCh3QgAAwKATKXdCAACABmYpd0IAAEBsuCl3QgAAANIKKndCAADAN10qd0IAAABpVCt3QgAAwM6mK3dCAACANPkrd0IAAECaSyx3QgAAAACeLHdCAABAMZUtd0IAAACX5y13QgAAwPw5LndCAACAYowud0IAAEDI3i53QgAAgPnVL3dCAABAXygwd0IAAADFejB3QgAAwCrNMHdCAADAwRYyd0IAAIAnaTJ3QgAAQI27MndCAAAA8w0zd0IAAMBYYDN3QgAAAIpXNHdCAADA76k0d0IAAIBV/DR3QgAAQLtONXdCAAAAIaE1d0IAAEBSmDZ3QgAAALjqNndCAADAHT03d0IAAICDjzd3QgAAQOnhN3dCAACAGtk4d0IAAECAKzl3QgAAAOZ9OXdCAADAS9A5d0IAAICxIjp3QgAAwOIZO3dCAACASGw7d0IAAECuvjt3QgAAABQRPHdCAADAeWM8d0IAAACrWj13QgAAwBCtPXdCAACAdv89d0IAAEDcUT53QgAAAEKkPndCAABAc5s/d0IAAADZ7T93QgAAwD5AQHdCAACApJJAd0IAAEAK5UB3QgAAgDvcQXdC\",\"dtype\":\"float64\",\"shape\":[258]},\"Variable\":[\"JNJ\",\"JNJ\",\"JNJ\",\"JNJ\",\"JNJ\",\"JNJ\",\"JNJ\",\"JNJ\",\"JNJ\",\"JNJ\",\"JNJ\",\"JNJ\",\"JNJ\",\"JNJ\",\"JNJ\",\"JNJ\",\"JNJ\",\"JNJ\",\"JNJ\",\"JNJ\",\"JNJ\",\"JNJ\",\"JNJ\",\"JNJ\",\"JNJ\",\"JNJ\",\"JNJ\",\"JNJ\",\"JNJ\",\"JNJ\",\"JNJ\",\"JNJ\",\"JNJ\",\"JNJ\",\"JNJ\",\"JNJ\",\"JNJ\",\"JNJ\",\"JNJ\",\"JNJ\",\"JNJ\",\"JNJ\",\"JNJ\",\"JNJ\",\"JNJ\",\"JNJ\",\"JNJ\",\"JNJ\",\"JNJ\",\"JNJ\",\"JNJ\",\"JNJ\",\"JNJ\",\"JNJ\",\"JNJ\",\"JNJ\",\"JNJ\",\"JNJ\",\"JNJ\",\"JNJ\",\"JNJ\",\"JNJ\",\"JNJ\",\"JNJ\",\"JNJ\",\"JNJ\",\"JNJ\",\"JNJ\",\"JNJ\",\"JNJ\",\"JNJ\",\"JNJ\",\"JNJ\",\"JNJ\",\"JNJ\",\"JNJ\",\"JNJ\",\"JNJ\",\"JNJ\",\"JNJ\",\"JNJ\",\"JNJ\",\"JNJ\",\"JNJ\",\"JNJ\",\"JNJ\",\"JNJ\",\"JNJ\",\"JNJ\",\"JNJ\",\"JNJ\",\"JNJ\",\"JNJ\",\"JNJ\",\"JNJ\",\"JNJ\",\"JNJ\",\"JNJ\",\"JNJ\",\"JNJ\",\"JNJ\",\"JNJ\",\"JNJ\",\"JNJ\",\"JNJ\",\"JNJ\",\"JNJ\",\"JNJ\",\"JNJ\",\"JNJ\",\"JNJ\",\"JNJ\",\"JNJ\",\"JNJ\",\"JNJ\",\"JNJ\",\"JNJ\",\"JNJ\",\"JNJ\",\"JNJ\",\"JNJ\",\"JNJ\",\"JNJ\",\"JNJ\",\"JNJ\",\"JNJ\",\"JNJ\",\"JNJ\",\"JNJ\",\"JNJ\",\"JNJ\",\"JNJ\",\"JNJ\",\"JNJ\",\"JNJ\",\"JNJ\",\"JNJ\",\"JNJ\",\"JNJ\",\"JNJ\",\"JNJ\",\"JNJ\",\"JNJ\",\"JNJ\",\"JNJ\",\"JNJ\",\"JNJ\",\"JNJ\",\"JNJ\",\"JNJ\",\"JNJ\",\"JNJ\",\"JNJ\",\"JNJ\",\"JNJ\",\"JNJ\",\"JNJ\",\"JNJ\",\"JNJ\",\"JNJ\",\"JNJ\",\"JNJ\",\"JNJ\",\"JNJ\",\"JNJ\",\"JNJ\",\"JNJ\",\"JNJ\",\"JNJ\",\"JNJ\",\"JNJ\",\"JNJ\",\"JNJ\",\"JNJ\",\"JNJ\",\"JNJ\",\"JNJ\",\"JNJ\",\"JNJ\",\"JNJ\",\"JNJ\",\"JNJ\",\"JNJ\",\"JNJ\",\"JNJ\",\"JNJ\",\"JNJ\",\"JNJ\",\"JNJ\",\"JNJ\",\"JNJ\",\"JNJ\",\"JNJ\",\"JNJ\",\"JNJ\",\"JNJ\",\"JNJ\",\"JNJ\",\"JNJ\",\"JNJ\",\"JNJ\",\"JNJ\",\"JNJ\",\"JNJ\",\"JNJ\",\"JNJ\",\"JNJ\",\"JNJ\",\"JNJ\",\"JNJ\",\"JNJ\",\"JNJ\",\"JNJ\",\"JNJ\",\"JNJ\",\"JNJ\",\"JNJ\",\"JNJ\",\"JNJ\",\"JNJ\",\"JNJ\",\"JNJ\",\"JNJ\",\"JNJ\",\"JNJ\",\"JNJ\",\"JNJ\",\"JNJ\",\"JNJ\",\"JNJ\",\"JNJ\",\"JNJ\",\"JNJ\",\"JNJ\",\"JNJ\",\"JNJ\",\"JNJ\",\"JNJ\",\"JNJ\",\"JNJ\",\"JNJ\",\"JNJ\",\"JNJ\",\"JNJ\",\"JNJ\",\"JNJ\",\"JNJ\",\"JNJ\",\"JNJ\",\"JNJ\",\"JNJ\",\"JNJ\",\"JNJ\",\"JNJ\",\"JNJ\",\"JNJ\",\"JNJ\",\"JNJ\"],\"value\":{\"__ndarray__\":\"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\",\"dtype\":\"float64\",\"shape\":[258]}},\"selected\":{\"id\":\"5871\",\"type\":\"Selection\"},\"selection_policy\":{\"id\":\"5926\",\"type\":\"UnionRenderers\"}},\"id\":\"5870\",\"type\":\"ColumnDataSource\"},{\"attributes\":{\"base\":60,\"mantissas\":[1,2,5,10,15,20,30],\"max_interval\":1800000.0,\"min_interval\":1000.0,\"num_minor_ticks\":0},\"id\":\"5856\",\"type\":\"AdaptiveTicker\"},{\"attributes\":{},\"id\":\"5814\",\"type\":\"LinearScale\"},{\"attributes\":{\"line_color\":\"#ff7e0e\",\"line_width\":2,\"x\":{\"field\":\"Date\"},\"y\":{\"field\":\"value\"}},\"id\":\"5429\",\"type\":\"Line\"},{\"attributes\":{\"source\":{\"id\":\"5455\",\"type\":\"ColumnDataSource\"}},\"id\":\"5462\",\"type\":\"CDSView\"},{\"attributes\":{\"line_alpha\":0.2,\"line_color\":\"#8c564b\",\"line_width\":2,\"x\":{\"field\":\"Date\"},\"y\":{\"field\":\"value\"}},\"id\":\"6003\",\"type\":\"Line\"},{\"attributes\":{},\"id\":\"5482\",\"type\":\"UnionRenderers\"},{\"attributes\":{},\"id\":\"5827\",\"type\":\"PanTool\"},{\"attributes\":{\"callback\":null,\"end\":1.8625681005407781,\"reset_end\":1.8625681005407781,\"reset_start\":-0.35779939774397473,\"start\":-0.35779939774397473,\"tags\":[[[\"value\",\"value\",null]]]},\"id\":\"5356\",\"type\":\"Range1d\"},{\"attributes\":{\"text\":\"\",\"text_color\":{\"value\":\"black\"},\"text_font_size\":{\"value\":\"12pt\"}},\"id\":\"5808\",\"type\":\"Title\"},{\"attributes\":{\"callback\":null,\"data\":{\"Date\":{\"__ndarray__\":\"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\",\"dtype\":\"float64\",\"shape\":[258]},\"Variable\":[\"ABT\",\"ABT\",\"ABT\",\"ABT\",\"ABT\",\"ABT\",\"ABT\",\"ABT\",\"ABT\",\"ABT\",\"ABT\",\"ABT\",\"ABT\",\"ABT\",\"ABT\",\"ABT\",\"ABT\",\"ABT\",\"ABT\",\"ABT\",\"ABT\",\"ABT\",\"ABT\",\"ABT\",\"ABT\",\"ABT\",\"ABT\",\"ABT\",\"ABT\",\"ABT\",\"ABT\",\"ABT\",\"ABT\",\"ABT\",\"ABT\",\"ABT\",\"ABT\",\"ABT\",\"ABT\",\"ABT\",\"ABT\",\"ABT\",\"ABT\",\"ABT\",\"ABT\",\"ABT\",\"ABT\",\"ABT\",\"ABT\",\"ABT\",\"ABT\",\"ABT\",\"ABT\",\"ABT\",\"ABT\",\"ABT\",\"ABT\",\"ABT\",\"ABT\",\"ABT\",\"ABT\",\"ABT\",\"ABT\",\"ABT\",\"ABT\",\"ABT\",\"ABT\",\"ABT\",\"ABT\",\"ABT\",\"ABT\",\"ABT\",\"ABT\",\"ABT\",\"ABT\",\"ABT\",\"ABT\",\"ABT\",\"ABT\",\"ABT\",\"ABT\",\"ABT\",\"ABT\",\"ABT\",\"ABT\",\"ABT\",\"ABT\",\"ABT\",\"ABT\",\"ABT\",\"ABT\",\"ABT\",\"ABT\",\"ABT\",\"ABT\",\"ABT\",\"ABT\",\"ABT\",\"ABT\",\"ABT\",\"ABT\",\"ABT\",\"ABT\",\"ABT\",\"ABT\",\"ABT\",\"ABT\",\"ABT\",\"ABT\",\"ABT\",\"ABT\",\"ABT\",\"ABT\",\"ABT\",\"ABT\",\"ABT\",\"ABT\",\"ABT\",\"ABT\",\"ABT\",\"ABT\",\"ABT\",\"ABT\",\"ABT\",\"ABT\",\"ABT\",\"ABT\",\"ABT\",\"ABT\",\"ABT\",\"ABT\",\"ABT\",\"ABT\",\"ABT\",\"ABT\",\"ABT\",\"ABT\",\"ABT\",\"ABT\",\"ABT\",\"ABT\",\"ABT\",\"ABT\",\"ABT\",\"ABT\",\"ABT\",\"ABT\",\"ABT\",\"ABT\",\"ABT\",\"ABT\",\"ABT\",\"ABT\",\"ABT\",\"ABT\",\"ABT\",\"ABT\",\"ABT\",\"ABT\",\"ABT\",\"ABT\",\"ABT\",\"ABT\",\"ABT\",\"ABT\",\"ABT\",\"ABT\",\"ABT\",\"ABT\",\"ABT\",\"ABT\",\"ABT\",\"ABT\",\"ABT\",\"ABT\",\"ABT\",\"ABT\",\"ABT\",\"ABT\",\"ABT\",\"ABT\",\"ABT\",\"ABT\",\"ABT\",\"ABT\",\"ABT\",\"ABT\",\"ABT\",\"ABT\",\"ABT\",\"ABT\",\"ABT\",\"ABT\",\"ABT\",\"ABT\",\"ABT\",\"ABT\",\"ABT\",\"ABT\",\"ABT\",\"ABT\",\"ABT\",\"ABT\",\"ABT\",\"ABT\",\"ABT\",\"ABT\",\"ABT\",\"ABT\",\"ABT\",\"ABT\",\"ABT\",\"ABT\",\"ABT\",\"ABT\",\"ABT\",\"ABT\",\"ABT\",\"ABT\",\"ABT\",\"ABT\",\"ABT\",\"ABT\",\"ABT\",\"ABT\",\"ABT\",\"ABT\",\"ABT\",\"ABT\",\"ABT\",\"ABT\",\"ABT\",\"ABT\",\"ABT\",\"ABT\",\"ABT\",\"ABT\",\"ABT\",\"ABT\",\"ABT\",\"ABT\",\"ABT\",\"ABT\",\"ABT\",\"ABT\",\"ABT\",\"ABT\",\"ABT\",\"ABT\",\"ABT\",\"ABT\",\"ABT\",\"ABT\",\"ABT\",\"ABT\",\"ABT\",\"ABT\",\"ABT\"],\"value\":{\"__ndarray__\":\"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\",\"dtype\":\"float64\",\"shape\":[258]}},\"selected\":{\"id\":\"5520\",\"type\":\"Selection\"},\"selection_policy\":{\"id\":\"5587\",\"type\":\"UnionRenderers\"}},\"id\":\"5519\",\"type\":\"ColumnDataSource\"},{\"attributes\":{\"line_color\":\"#2ba02b\",\"line_width\":2,\"x\":{\"field\":\"Date\"},\"y\":{\"field\":\"value\"}},\"id\":\"5458\",\"type\":\"Line\"},{\"attributes\":{\"line_color\":\"#8c564b\",\"line_width\":2,\"x\":{\"field\":\"Date\"},\"y\":{\"field\":\"value\"}},\"id\":\"6001\",\"type\":\"Line\"},{\"attributes\":{\"days\":[1,2,3,4,5,6,7,8,9,10,11,12,13,14,15,16,17,18,19,20,21,22,23,24,25,26,27,28,29,30,31]},\"id\":\"5858\",\"type\":\"DaysTicker\"},{\"attributes\":{\"grid_line_color\":null,\"ticker\":{\"id\":\"5817\",\"type\":\"DatetimeTicker\"}},\"id\":\"5820\",\"type\":\"Grid\"},{\"attributes\":{\"active_drag\":\"auto\",\"active_inspect\":\"auto\",\"active_multi\":null,\"active_scroll\":\"auto\",\"active_tap\":\"auto\",\"tools\":[{\"id\":\"5357\",\"type\":\"HoverTool\"},{\"id\":\"5382\",\"type\":\"SaveTool\"},{\"id\":\"5383\",\"type\":\"PanTool\"},{\"id\":\"5384\",\"type\":\"WheelZoomTool\"},{\"id\":\"5385\",\"type\":\"BoxZoomTool\"},{\"id\":\"5386\",\"type\":\"ResetTool\"}]},\"id\":\"5387\",\"type\":\"Toolbar\"},{\"attributes\":{\"line_alpha\":0.2,\"line_color\":\"#ff7e0e\",\"line_width\":2,\"x\":{\"field\":\"Date\"},\"y\":{\"field\":\"value\"}},\"id\":\"5431\",\"type\":\"Line\"},{\"attributes\":{\"source\":{\"id\":\"5998\",\"type\":\"ColumnDataSource\"}},\"id\":\"6005\",\"type\":\"CDSView\"},{\"attributes\":{\"months\":[0,1,2,3,4,5,6,7,8,9,10,11]},\"id\":\"5862\",\"type\":\"MonthsTicker\"},{\"attributes\":{\"align\":null,\"below\":[{\"id\":\"5816\",\"type\":\"DatetimeAxis\"}],\"center\":[{\"id\":\"5820\",\"type\":\"Grid\"},{\"id\":\"5825\",\"type\":\"Grid\"}],\"left\":[{\"id\":\"5821\",\"type\":\"LinearAxis\"}],\"margin\":null,\"min_border_bottom\":10,\"min_border_left\":10,\"min_border_right\":10,\"min_border_top\":10,\"plot_height\":300,\"plot_width\":700,\"renderers\":[{\"id\":\"5848\",\"type\":\"GlyphRenderer\"},{\"id\":\"5876\",\"type\":\"GlyphRenderer\"},{\"id\":\"5905\",\"type\":\"GlyphRenderer\"},{\"id\":\"5936\",\"type\":\"GlyphRenderer\"},{\"id\":\"5969\",\"type\":\"GlyphRenderer\"},{\"id\":\"6004\",\"type\":\"GlyphRenderer\"}],\"right\":[{\"id\":\"5868\",\"type\":\"Legend\"}],\"sizing_mode\":\"fixed\",\"title\":{\"id\":\"5808\",\"type\":\"Title\"},\"toolbar\":{\"id\":\"5831\",\"type\":\"Toolbar\"},\"toolbar_location\":null,\"x_range\":{\"id\":\"5355\",\"type\":\"Range1d\"},\"x_scale\":{\"id\":\"5812\",\"type\":\"LinearScale\"},\"y_range\":{\"id\":\"5356\",\"type\":\"Range1d\"},\"y_scale\":{\"id\":\"5814\",\"type\":\"LinearScale\"}},\"id\":\"5807\",\"subtype\":\"Figure\",\"type\":\"Plot\"},{\"attributes\":{\"callback\":null,\"formatters\":{\"@{Date}\":\"datetime\"},\"renderers\":[{\"id\":\"5848\",\"type\":\"GlyphRenderer\"},{\"id\":\"5876\",\"type\":\"GlyphRenderer\"},{\"id\":\"5905\",\"type\":\"GlyphRenderer\"},{\"id\":\"5936\",\"type\":\"GlyphRenderer\"},{\"id\":\"5969\",\"type\":\"GlyphRenderer\"},{\"id\":\"6004\",\"type\":\"GlyphRenderer\"}],\"tags\":[\"hv_created\"],\"tooltips\":[[\"Variable\",\"@{Variable}\"],[\"Date\",\"@{Date}{%F %T}\"],[\"value\",\"@{value}\"]]},\"id\":\"5801\",\"type\":\"HoverTool\"},{\"attributes\":{\"label\":{\"value\":\"ABBV\"},\"renderers\":[{\"id\":\"5492\",\"type\":\"GlyphRenderer\"}]},\"id\":\"5518\",\"type\":\"LegendItem\"},{\"attributes\":{\"callback\":null,\"data\":{\"Date\":{\"__ndarray__\":\"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\",\"dtype\":\"float64\",\"shape\":[258]},\"Variable\":[\"MRK\",\"MRK\",\"MRK\",\"MRK\",\"MRK\",\"MRK\",\"MRK\",\"MRK\",\"MRK\",\"MRK\",\"MRK\",\"MRK\",\"MRK\",\"MRK\",\"MRK\",\"MRK\",\"MRK\",\"MRK\",\"MRK\",\"MRK\",\"MRK\",\"MRK\",\"MRK\",\"MRK\",\"MRK\",\"MRK\",\"MRK\",\"MRK\",\"MRK\",\"MRK\",\"MRK\",\"MRK\",\"MRK\",\"MRK\",\"MRK\",\"MRK\",\"MRK\",\"MRK\",\"MRK\",\"MRK\",\"MRK\",\"MRK\",\"MRK\",\"MRK\",\"MRK\",\"MRK\",\"MRK\",\"MRK\",\"MRK\",\"MRK\",\"MRK\",\"MRK\",\"MRK\",\"MRK\",\"MRK\",\"MRK\",\"MRK\",\"MRK\",\"MRK\",\"MRK\",\"MRK\",\"MRK\",\"MRK\",\"MRK\",\"MRK\",\"MRK\",\"MRK\",\"MRK\",\"MRK\",\"MRK\",\"MRK\",\"MRK\",\"MRK\",\"MRK\",\"MRK\",\"MRK\",\"MRK\",\"MRK\",\"MRK\",\"MRK\",\"MRK\",\"MRK\",\"MRK\",\"MRK\",\"MRK\",\"MRK\",\"MRK\",\"MRK\",\"MRK\",\"MRK\",\"MRK\",\"MRK\",\"MRK\",\"MRK\",\"MRK\",\"MRK\",\"MRK\",\"MRK\",\"MRK\",\"MRK\",\"MRK\",\"MRK\",\"MRK\",\"MRK\",\"MRK\",\"MRK\",\"MRK\",\"MRK\",\"MRK\",\"MRK\",\"MRK\",\"MRK\",\"MRK\",\"MRK\",\"MRK\",\"MRK\",\"MRK\",\"MRK\",\"MRK\",\"MRK\",\"MRK\",\"MRK\",\"MRK\",\"MRK\",\"MRK\",\"MRK\",\"MRK\",\"MRK\",\"MRK\",\"MRK\",\"MRK\",\"MRK\",\"MRK\",\"MRK\",\"MRK\",\"MRK\",\"MRK\",\"MRK\",\"MRK\",\"MRK\",\"MRK\",\"MRK\",\"MRK\",\"MRK\",\"MRK\",\"MRK\",\"MRK\",\"MRK\",\"MRK\",\"MRK\",\"MRK\",\"MRK\",\"MRK\",\"MRK\",\"MRK\",\"MRK\",\"MRK\",\"MRK\",\"MRK\",\"MRK\",\"MRK\",\"MRK\",\"MRK\",\"MRK\",\"MRK\",\"MRK\",\"MRK\",\"MRK\",\"MRK\",\"MRK\",\"MRK\",\"MRK\",\"MRK\",\"MRK\",\"MRK\",\"MRK\",\"MRK\",\"MRK\",\"MRK\",\"MRK\",\"MRK\",\"MRK\",\"MRK\",\"MRK\",\"MRK\",\"MRK\",\"MRK\",\"MRK\",\"MRK\",\"MRK\",\"MRK\",\"MRK\",\"MRK\",\"MRK\",\"MRK\",\"MRK\",\"MRK\",\"MRK\",\"MRK\",\"MRK\",\"MRK\",\"MRK\",\"MRK\",\"MRK\",\"MRK\",\"MRK\",\"MRK\",\"MRK\",\"MRK\",\"MRK\",\"MRK\",\"MRK\",\"MRK\",\"MRK\",\"MRK\",\"MRK\",\"MRK\",\"MRK\",\"MRK\",\"MRK\",\"MRK\",\"MRK\",\"MRK\",\"MRK\",\"MRK\",\"MRK\",\"MRK\",\"MRK\",\"MRK\",\"MRK\",\"MRK\",\"MRK\",\"MRK\",\"MRK\",\"MRK\",\"MRK\",\"MRK\",\"MRK\",\"MRK\",\"MRK\",\"MRK\",\"MRK\",\"MRK\",\"MRK\",\"MRK\",\"MRK\",\"MRK\",\"MRK\",\"MRK\",\"MRK\",\"MRK\",\"MRK\",\"MRK\",\"MRK\",\"MRK\",\"MRK\",\"MRK\",\"MRK\"],\"value\":{\"__ndarray__\":\"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\",\"dtype\":\"float64\",\"shape\":[258]}},\"selected\":{\"id\":\"5900\",\"type\":\"Selection\"},\"selection_policy\":{\"id\":\"5959\",\"type\":\"UnionRenderers\"}},\"id\":\"5899\",\"type\":\"ColumnDataSource\"},{\"attributes\":{\"base\":24,\"mantissas\":[1,2,4,6,8,12],\"max_interval\":43200000.0,\"min_interval\":3600000.0,\"num_minor_ticks\":0},\"id\":\"5857\",\"type\":\"AdaptiveTicker\"},{\"attributes\":{\"days\":[1,15]},\"id\":\"5861\",\"type\":\"DaysTicker\"},{\"attributes\":{\"data_source\":{\"id\":\"5899\",\"type\":\"ColumnDataSource\"},\"glyph\":{\"id\":\"5902\",\"type\":\"Line\"},\"hover_glyph\":null,\"muted_glyph\":{\"id\":\"5904\",\"type\":\"Line\"},\"nonselection_glyph\":{\"id\":\"5903\",\"type\":\"Line\"},\"selection_glyph\":null,\"view\":{\"id\":\"5906\",\"type\":\"CDSView\"}},\"id\":\"5905\",\"type\":\"GlyphRenderer\"},{\"attributes\":{\"line_alpha\":0.1,\"line_color\":\"#2ba02b\",\"line_width\":2,\"x\":{\"field\":\"Date\"},\"y\":{\"field\":\"value\"}},\"id\":\"5459\",\"type\":\"Line\"},{\"attributes\":{\"line_alpha\":0.1,\"line_color\":\"#9367bc\",\"line_width\":2,\"x\":{\"field\":\"Date\"},\"y\":{\"field\":\"value\"}},\"id\":\"5523\",\"type\":\"Line\"},{\"attributes\":{\"label\":{\"value\":\"UNH\"},\"renderers\":[{\"id\":\"5404\",\"type\":\"GlyphRenderer\"}]},\"id\":\"5425\",\"type\":\"LegendItem\"},{\"attributes\":{\"data_source\":{\"id\":\"5519\",\"type\":\"ColumnDataSource\"},\"glyph\":{\"id\":\"5522\",\"type\":\"Line\"},\"hover_glyph\":null,\"muted_glyph\":{\"id\":\"5524\",\"type\":\"Line\"},\"nonselection_glyph\":{\"id\":\"5523\",\"type\":\"Line\"},\"selection_glyph\":null,\"view\":{\"id\":\"5526\",\"type\":\"CDSView\"}},\"id\":\"5525\",\"type\":\"GlyphRenderer\"},{\"attributes\":{\"source\":{\"id\":\"5842\",\"type\":\"ColumnDataSource\"}},\"id\":\"5849\",\"type\":\"CDSView\"},{\"attributes\":{\"callback\":null,\"data\":{\"Date\":{\"__ndarray__\":\"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\",\"dtype\":\"float64\",\"shape\":[258]},\"Variable\":[\"MRK\",\"MRK\",\"MRK\",\"MRK\",\"MRK\",\"MRK\",\"MRK\",\"MRK\",\"MRK\",\"MRK\",\"MRK\",\"MRK\",\"MRK\",\"MRK\",\"MRK\",\"MRK\",\"MRK\",\"MRK\",\"MRK\",\"MRK\",\"MRK\",\"MRK\",\"MRK\",\"MRK\",\"MRK\",\"MRK\",\"MRK\",\"MRK\",\"MRK\",\"MRK\",\"MRK\",\"MRK\",\"MRK\",\"MRK\",\"MRK\",\"MRK\",\"MRK\",\"MRK\",\"MRK\",\"MRK\",\"MRK\",\"MRK\",\"MRK\",\"MRK\",\"MRK\",\"MRK\",\"MRK\",\"MRK\",\"MRK\",\"MRK\",\"MRK\",\"MRK\",\"MRK\",\"MRK\",\"MRK\",\"MRK\",\"MRK\",\"MRK\",\"MRK\",\"MRK\",\"MRK\",\"MRK\",\"MRK\",\"MRK\",\"MRK\",\"MRK\",\"MRK\",\"MRK\",\"MRK\",\"MRK\",\"MRK\",\"MRK\",\"MRK\",\"MRK\",\"MRK\",\"MRK\",\"MRK\",\"MRK\",\"MRK\",\"MRK\",\"MRK\",\"MRK\",\"MRK\",\"MRK\",\"MRK\",\"MRK\",\"MRK\",\"MRK\",\"MRK\",\"MRK\",\"MRK\",\"MRK\",\"MRK\",\"MRK\",\"MRK\",\"MRK\",\"MRK\",\"MRK\",\"MRK\",\"MRK\",\"MRK\",\"MRK\",\"MRK\",\"MRK\",\"MRK\",\"MRK\",\"MRK\",\"MRK\",\"MRK\",\"MRK\",\"MRK\",\"MRK\",\"MRK\",\"MRK\",\"MRK\",\"MRK\",\"MRK\",\"MRK\",\"MRK\",\"MRK\",\"MRK\",\"MRK\",\"MRK\",\"MRK\",\"MRK\",\"MRK\",\"MRK\",\"MRK\",\"MRK\",\"MRK\",\"MRK\",\"MRK\",\"MRK\",\"MRK\",\"MRK\",\"MRK\",\"MRK\",\"MRK\",\"MRK\",\"MRK\",\"MRK\",\"MRK\",\"MRK\",\"MRK\",\"MRK\",\"MRK\",\"MRK\",\"MRK\",\"MRK\",\"MRK\",\"MRK\",\"MRK\",\"MRK\",\"MRK\",\"MRK\",\"MRK\",\"MRK\",\"MRK\",\"MRK\",\"MRK\",\"MRK\",\"MRK\",\"MRK\",\"MRK\",\"MRK\",\"MRK\",\"MRK\",\"MRK\",\"MRK\",\"MRK\",\"MRK\",\"MRK\",\"MRK\",\"MRK\",\"MRK\",\"MRK\",\"MRK\",\"MRK\",\"MRK\",\"MRK\",\"MRK\",\"MRK\",\"MRK\",\"MRK\",\"MRK\",\"MRK\",\"MRK\",\"MRK\",\"MRK\",\"MRK\",\"MRK\",\"MRK\",\"MRK\",\"MRK\",\"MRK\",\"MRK\",\"MRK\",\"MRK\",\"MRK\",\"MRK\",\"MRK\",\"MRK\",\"MRK\",\"MRK\",\"MRK\",\"MRK\",\"MRK\",\"MRK\",\"MRK\",\"MRK\",\"MRK\",\"MRK\",\"MRK\",\"MRK\",\"MRK\",\"MRK\",\"MRK\",\"MRK\",\"MRK\",\"MRK\",\"MRK\",\"MRK\",\"MRK\",\"MRK\",\"MRK\",\"MRK\",\"MRK\",\"MRK\",\"MRK\",\"MRK\",\"MRK\",\"MRK\",\"MRK\",\"MRK\",\"MRK\",\"MRK\",\"MRK\",\"MRK\",\"MRK\",\"MRK\",\"MRK\",\"MRK\",\"MRK\",\"MRK\",\"MRK\",\"MRK\",\"MRK\",\"MRK\",\"MRK\",\"MRK\",\"MRK\",\"MRK\",\"MRK\",\"MRK\",\"MRK\",\"MRK\",\"MRK\",\"MRK\"],\"value\":{\"__ndarray__\":\"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\",\"dtype\":\"float64\",\"shape\":[258]}},\"selected\":{\"id\":\"5456\",\"type\":\"Selection\"},\"selection_policy\":{\"id\":\"5515\",\"type\":\"UnionRenderers\"}},\"id\":\"5455\",\"type\":\"ColumnDataSource\"},{\"attributes\":{\"data_source\":{\"id\":\"5842\",\"type\":\"ColumnDataSource\"},\"glyph\":{\"id\":\"5845\",\"type\":\"Line\"},\"hover_glyph\":null,\"muted_glyph\":{\"id\":\"5847\",\"type\":\"Line\"},\"nonselection_glyph\":{\"id\":\"5846\",\"type\":\"Line\"},\"selection_glyph\":null,\"view\":{\"id\":\"5849\",\"type\":\"CDSView\"}},\"id\":\"5848\",\"type\":\"GlyphRenderer\"},{\"attributes\":{},\"id\":\"5999\",\"type\":\"Selection\"},{\"attributes\":{},\"id\":\"5828\",\"type\":\"WheelZoomTool\"},{\"attributes\":{},\"id\":\"5550\",\"type\":\"UnionRenderers\"},{\"attributes\":{},\"id\":\"5386\",\"type\":\"ResetTool\"},{\"attributes\":{\"axis_label\":\"Date\",\"axis_label_text_font_size\":{\"value\":\"10pt\"},\"bounds\":\"auto\",\"formatter\":{\"id\":\"5838\",\"type\":\"DatetimeTickFormatter\"},\"major_label_orientation\":\"horizontal\",\"ticker\":{\"id\":\"5817\",\"type\":\"DatetimeTicker\"}},\"id\":\"5816\",\"type\":\"DatetimeAxis\"},{\"attributes\":{},\"id\":\"5515\",\"type\":\"UnionRenderers\"},{\"attributes\":{\"line_color\":\"#2ba02b\",\"line_width\":2,\"x\":{\"field\":\"Date\"},\"y\":{\"field\":\"value\"}},\"id\":\"5902\",\"type\":\"Line\"},{\"attributes\":{\"line_alpha\":0.1,\"line_color\":\"#ff7e0e\",\"line_width\":2,\"x\":{\"field\":\"Date\"},\"y\":{\"field\":\"value\"}},\"id\":\"5430\",\"type\":\"Line\"},{\"attributes\":{\"callback\":null,\"data\":{\"Date\":{\"__ndarray__\":\"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\",\"dtype\":\"float64\",\"shape\":[258]},\"Variable\":[\"JNJ\",\"JNJ\",\"JNJ\",\"JNJ\",\"JNJ\",\"JNJ\",\"JNJ\",\"JNJ\",\"JNJ\",\"JNJ\",\"JNJ\",\"JNJ\",\"JNJ\",\"JNJ\",\"JNJ\",\"JNJ\",\"JNJ\",\"JNJ\",\"JNJ\",\"JNJ\",\"JNJ\",\"JNJ\",\"JNJ\",\"JNJ\",\"JNJ\",\"JNJ\",\"JNJ\",\"JNJ\",\"JNJ\",\"JNJ\",\"JNJ\",\"JNJ\",\"JNJ\",\"JNJ\",\"JNJ\",\"JNJ\",\"JNJ\",\"JNJ\",\"JNJ\",\"JNJ\",\"JNJ\",\"JNJ\",\"JNJ\",\"JNJ\",\"JNJ\",\"JNJ\",\"JNJ\",\"JNJ\",\"JNJ\",\"JNJ\",\"JNJ\",\"JNJ\",\"JNJ\",\"JNJ\",\"JNJ\",\"JNJ\",\"JNJ\",\"JNJ\",\"JNJ\",\"JNJ\",\"JNJ\",\"JNJ\",\"JNJ\",\"JNJ\",\"JNJ\",\"JNJ\",\"JNJ\",\"JNJ\",\"JNJ\",\"JNJ\",\"JNJ\",\"JNJ\",\"JNJ\",\"JNJ\",\"JNJ\",\"JNJ\",\"JNJ\",\"JNJ\",\"JNJ\",\"JNJ\",\"JNJ\",\"JNJ\",\"JNJ\",\"JNJ\",\"JNJ\",\"JNJ\",\"JNJ\",\"JNJ\",\"JNJ\",\"JNJ\",\"JNJ\",\"JNJ\",\"JNJ\",\"JNJ\",\"JNJ\",\"JNJ\",\"JNJ\",\"JNJ\",\"JNJ\",\"JNJ\",\"JNJ\",\"JNJ\",\"JNJ\",\"JNJ\",\"JNJ\",\"JNJ\",\"JNJ\",\"JNJ\",\"JNJ\",\"JNJ\",\"JNJ\",\"JNJ\",\"JNJ\",\"JNJ\",\"JNJ\",\"JNJ\",\"JNJ\",\"JNJ\",\"JNJ\",\"JNJ\",\"JNJ\",\"JNJ\",\"JNJ\",\"JNJ\",\"JNJ\",\"JNJ\",\"JNJ\",\"JNJ\",\"JNJ\",\"JNJ\",\"JNJ\",\"JNJ\",\"JNJ\",\"JNJ\",\"JNJ\",\"JNJ\",\"JNJ\",\"JNJ\",\"JNJ\",\"JNJ\",\"JNJ\",\"JNJ\",\"JNJ\",\"JNJ\",\"JNJ\",\"JNJ\",\"JNJ\",\"JNJ\",\"JNJ\",\"JNJ\",\"JNJ\",\"JNJ\",\"JNJ\",\"JNJ\",\"JNJ\",\"JNJ\",\"JNJ\",\"JNJ\",\"JNJ\",\"JNJ\",\"JNJ\",\"JNJ\",\"JNJ\",\"JNJ\",\"JNJ\",\"JNJ\",\"JNJ\",\"JNJ\",\"JNJ\",\"JNJ\",\"JNJ\",\"JNJ\",\"JNJ\",\"JNJ\",\"JNJ\",\"JNJ\",\"JNJ\",\"JNJ\",\"JNJ\",\"JNJ\",\"JNJ\",\"JNJ\",\"JNJ\",\"JNJ\",\"JNJ\",\"JNJ\",\"JNJ\",\"JNJ\",\"JNJ\",\"JNJ\",\"JNJ\",\"JNJ\",\"JNJ\",\"JNJ\",\"JNJ\",\"JNJ\",\"JNJ\",\"JNJ\",\"JNJ\",\"JNJ\",\"JNJ\",\"JNJ\",\"JNJ\",\"JNJ\",\"JNJ\",\"JNJ\",\"JNJ\",\"JNJ\",\"JNJ\",\"JNJ\",\"JNJ\",\"JNJ\",\"JNJ\",\"JNJ\",\"JNJ\",\"JNJ\",\"JNJ\",\"JNJ\",\"JNJ\",\"JNJ\",\"JNJ\",\"JNJ\",\"JNJ\",\"JNJ\",\"JNJ\",\"JNJ\",\"JNJ\",\"JNJ\",\"JNJ\",\"JNJ\",\"JNJ\",\"JNJ\",\"JNJ\",\"JNJ\",\"JNJ\",\"JNJ\",\"JNJ\",\"JNJ\",\"JNJ\",\"JNJ\",\"JNJ\",\"JNJ\",\"JNJ\",\"JNJ\",\"JNJ\",\"JNJ\",\"JNJ\",\"JNJ\",\"JNJ\",\"JNJ\",\"JNJ\",\"JNJ\",\"JNJ\",\"JNJ\",\"JNJ\",\"JNJ\",\"JNJ\",\"JNJ\"],\"value\":{\"__ndarray__\":\"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\",\"dtype\":\"float64\",\"shape\":[258]}},\"selected\":{\"id\":\"5427\",\"type\":\"Selection\"},\"selection_policy\":{\"id\":\"5482\",\"type\":\"UnionRenderers\"}},\"id\":\"5426\",\"type\":\"ColumnDataSource\"},{\"attributes\":{\"days\":[1,4,7,10,13,16,19,22,25,28]},\"id\":\"5859\",\"type\":\"DaysTicker\"},{\"attributes\":{\"months\":[0,4,8]},\"id\":\"5864\",\"type\":\"MonthsTicker\"},{\"attributes\":{\"data_source\":{\"id\":\"5930\",\"type\":\"ColumnDataSource\"},\"glyph\":{\"id\":\"5933\",\"type\":\"Line\"},\"hover_glyph\":null,\"muted_glyph\":{\"id\":\"5935\",\"type\":\"Line\"},\"nonselection_glyph\":{\"id\":\"5934\",\"type\":\"Line\"},\"selection_glyph\":null,\"view\":{\"id\":\"5937\",\"type\":\"CDSView\"}},\"id\":\"5936\",\"type\":\"GlyphRenderer\"}],\"root_ids\":[\"5353\"]},\"title\":\"Bokeh Application\",\"version\":\"1.4.0\"}};\n",
       "  var render_items = [{\"docid\":\"2f14d6b3-1e23-4656-8d91-9f4f6700d6d9\",\"roots\":{\"5353\":\"2a7208b3-889e-4bca-ab93-2bc066c3deae\"}}];\n",
       "  root.Bokeh.embed.embed_items_notebook(docs_json, render_items);\n",
       "  }\n",
       "if (root.Bokeh !== undefined) {\n",
       "    embed_document(root);\n",
       "  } else {\n",
       "    var attempts = 0;\n",
       "    var timer = setInterval(function(root) {\n",
       "      if (root.Bokeh !== undefined) {\n",
       "        clearInterval(timer);\n",
       "        embed_document(root);\n",
       "      } else if (document.readyState == \"complete\") {\n",
       "        attempts++;\n",
       "        if (attempts > 100) {\n",
       "          clearInterval(timer);\n",
       "          console.log(\"Bokeh: ERROR: Unable to run BokehJS code because BokehJS library is missing\");\n",
       "        }\n",
       "      }\n",
       "    }, 10, root)\n",
       "  }\n",
       "})(window);</script>"
      ],
      "text/plain": [
       ":Layout\n",
       "   .NdOverlay.I  :NdOverlay   [Variable]\n",
       "      :Curve   [Date]   (value)\n",
       "   .NdOverlay.II :NdOverlay   [Variable]\n",
       "      :Curve   [Date]   (value)"
      ]
     },
     "execution_count": 64,
     "metadata": {
      "application/vnd.holoviews_exec.v0+json": {
       "id": "5353"
      }
     },
     "output_type": "execute_result"
    }
   ],
   "source": [
    "a + h"
   ]
  },
  {
   "cell_type": "code",
   "execution_count": 65,
   "metadata": {},
   "outputs": [
    {
     "ename": "NameError",
     "evalue": "name 'covid_df' is not defined",
     "output_type": "error",
     "traceback": [
      "\u001b[1;31m---------------------------------------------------------------------------\u001b[0m",
      "\u001b[1;31mNameError\u001b[0m                                 Traceback (most recent call last)",
      "\u001b[1;32m<ipython-input-65-e2a661021943>\u001b[0m in \u001b[0;36m<module>\u001b[1;34m\u001b[0m\n\u001b[1;32m----> 1\u001b[1;33m \u001b[0mdropped_deaths\u001b[0m \u001b[1;33m=\u001b[0m \u001b[0mcovid_df\u001b[0m\u001b[1;33m.\u001b[0m\u001b[0mdrop\u001b[0m\u001b[1;33m(\u001b[0m\u001b[0mcolumns\u001b[0m\u001b[1;33m=\u001b[0m\u001b[1;34m\"deaths\"\u001b[0m\u001b[1;33m)\u001b[0m\u001b[1;33m\u001b[0m\u001b[1;33m\u001b[0m\u001b[0m\n\u001b[0m",
      "\u001b[1;31mNameError\u001b[0m: name 'covid_df' is not defined"
     ]
    }
   ],
   "source": [
    "dropped_deaths = covid_df.drop(columns=\"deaths\")"
   ]
  },
  {
   "cell_type": "code",
   "execution_count": 66,
   "metadata": {},
   "outputs": [
    {
     "data": {},
     "metadata": {},
     "output_type": "display_data"
    },
    {
     "data": {
      "application/vnd.holoviews_exec.v0+json": "",
      "text/html": [
       "<div id='7093'>\n",
       "\n",
       "\n",
       "\n",
       "\n",
       "\n",
       "  <div class=\"bk-root\" id=\"7d88929c-8808-497d-939c-2b97a3ae3b5e\" data-root-id=\"7093\"></div>\n",
       "</div>\n",
       "<script type=\"application/javascript\">\n",
       "    function msg_handler(msg) {\n",
       "      var metadata = msg.metadata;\n",
       "      var buffers = msg.buffers;\n",
       "      var msg = msg.content.data;\n",
       "      if ((metadata.msg_type == \"Ready\")) {\n",
       "        if (metadata.content) {\n",
       "          console.log(\"Python callback returned following output:\", metadata.content);\n",
       "        }\n",
       "      } else if (metadata.msg_type == \"Error\") {\n",
       "        console.log(\"Python failed with the following traceback:\", metadata.traceback)\n",
       "      } else {\n",
       "        \n",
       "var plot_id = \"7093\";\n",
       "\n",
       "if ((plot_id in window.PyViz.plot_index) && (window.PyViz.plot_index[plot_id] != null)) {\n",
       "  var plot = window.PyViz.plot_index[plot_id];\n",
       "} else if ((Bokeh !== undefined) && (plot_id in Bokeh.index)) {\n",
       "  var plot = Bokeh.index[plot_id];\n",
       "}\n",
       "\n",
       "if (plot == null) {\n",
       "  return\n",
       "}\n",
       "\n",
       "if (plot_id in window.PyViz.receivers) {\n",
       "  var receiver = window.PyViz.receivers[plot_id];\n",
       "} else {\n",
       "  var receiver = new Bokeh.protocol.Receiver();\n",
       "  window.PyViz.receivers[plot_id] = receiver;\n",
       "}\n",
       "\n",
       "if ((buffers != undefined) && (buffers.length > 0)) {\n",
       "  receiver.consume(buffers[0].buffer)\n",
       "} else {\n",
       "  receiver.consume(msg)\n",
       "}\n",
       "\n",
       "const comm_msg = receiver.message;\n",
       "if ((comm_msg != null) && (Object.keys(comm_msg.content).length > 0)) {\n",
       "  plot.model.document.apply_json_patch(comm_msg.content, comm_msg.buffers)\n",
       "}\n",
       "\n",
       "      }\n",
       "    }\n",
       "    if ((window.PyViz == undefined) || (!window.PyViz.comm_manager)) {\n",
       "      console.log(\"Could not find comm manager\")\n",
       "    } else {\n",
       "      window.PyViz.comm_manager.register_target('7093', '14e13755280e46929422586b41946fe1', msg_handler);\n",
       "    }\n",
       "    \n",
       "(function(root) {\n",
       "  function embed_document(root) {\n",
       "  var docs_json = {\"f5770880-d15c-4c53-bc58-7e569f08b4ad\":{\"roots\":{\"references\":[{\"attributes\":{\"grid_line_color\":null,\"ticker\":{\"id\":\"7113\",\"type\":\"DatetimeTicker\"}},\"id\":\"7116\",\"type\":\"Grid\"},{\"attributes\":{\"line_color\":\"#d62628\",\"line_width\":2,\"x\":{\"field\":\"Date\"},\"y\":{\"field\":\"value\"}},\"id\":\"7229\",\"type\":\"Line\"},{\"attributes\":{\"months\":[0,4,8]},\"id\":\"7160\",\"type\":\"MonthsTicker\"},{\"attributes\":{\"source\":{\"id\":\"7226\",\"type\":\"ColumnDataSource\"}},\"id\":\"7233\",\"type\":\"CDSView\"},{\"attributes\":{},\"id\":\"7139\",\"type\":\"Selection\"},{\"attributes\":{\"callback\":null,\"end\":1.77058052495907,\"reset_end\":1.77058052495907,\"reset_start\":0.6540639336548137,\"start\":0.6540639336548137,\"tags\":[[[\"value\",\"value\",null]]]},\"id\":\"7096\",\"type\":\"Range1d\"},{\"attributes\":{\"months\":[0,1,2,3,4,5,6,7,8,9,10,11]},\"id\":\"7158\",\"type\":\"MonthsTicker\"},{\"attributes\":{},\"id\":\"7136\",\"type\":\"BasicTickFormatter\"},{\"attributes\":{\"line_alpha\":0.1,\"line_color\":\"#ff7e0e\",\"line_width\":2,\"x\":{\"field\":\"Date\"},\"y\":{\"field\":\"value\"}},\"id\":\"7170\",\"type\":\"Line\"},{\"attributes\":{\"callback\":null,\"data\":{\"Date\":{\"__ndarray__\":\"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\",\"dtype\":\"float64\",\"shape\":[258]},\"Variable\":[\"ABBV\",\"ABBV\",\"ABBV\",\"ABBV\",\"ABBV\",\"ABBV\",\"ABBV\",\"ABBV\",\"ABBV\",\"ABBV\",\"ABBV\",\"ABBV\",\"ABBV\",\"ABBV\",\"ABBV\",\"ABBV\",\"ABBV\",\"ABBV\",\"ABBV\",\"ABBV\",\"ABBV\",\"ABBV\",\"ABBV\",\"ABBV\",\"ABBV\",\"ABBV\",\"ABBV\",\"ABBV\",\"ABBV\",\"ABBV\",\"ABBV\",\"ABBV\",\"ABBV\",\"ABBV\",\"ABBV\",\"ABBV\",\"ABBV\",\"ABBV\",\"ABBV\",\"ABBV\",\"ABBV\",\"ABBV\",\"ABBV\",\"ABBV\",\"ABBV\",\"ABBV\",\"ABBV\",\"ABBV\",\"ABBV\",\"ABBV\",\"ABBV\",\"ABBV\",\"ABBV\",\"ABBV\",\"ABBV\",\"ABBV\",\"ABBV\",\"ABBV\",\"ABBV\",\"ABBV\",\"ABBV\",\"ABBV\",\"ABBV\",\"ABBV\",\"ABBV\",\"ABBV\",\"ABBV\",\"ABBV\",\"ABBV\",\"ABBV\",\"ABBV\",\"ABBV\",\"ABBV\",\"ABBV\",\"ABBV\",\"ABBV\",\"ABBV\",\"ABBV\",\"ABBV\",\"ABBV\",\"ABBV\",\"ABBV\",\"ABBV\",\"ABBV\",\"ABBV\",\"ABBV\",\"ABBV\",\"ABBV\",\"ABBV\",\"ABBV\",\"ABBV\",\"ABBV\",\"ABBV\",\"ABBV\",\"ABBV\",\"ABBV\",\"ABBV\",\"ABBV\",\"ABBV\",\"ABBV\",\"ABBV\",\"ABBV\",\"ABBV\",\"ABBV\",\"ABBV\",\"ABBV\",\"ABBV\",\"ABBV\",\"ABBV\",\"ABBV\",\"ABBV\",\"ABBV\",\"ABBV\",\"ABBV\",\"ABBV\",\"ABBV\",\"ABBV\",\"ABBV\",\"ABBV\",\"ABBV\",\"ABBV\",\"ABBV\",\"ABBV\",\"ABBV\",\"ABBV\",\"ABBV\",\"ABBV\",\"ABBV\",\"ABBV\",\"ABBV\",\"ABBV\",\"ABBV\",\"ABBV\",\"ABBV\",\"ABBV\",\"ABBV\",\"ABBV\",\"ABBV\",\"ABBV\",\"ABBV\",\"ABBV\",\"ABBV\",\"ABBV\",\"ABBV\",\"ABBV\",\"ABBV\",\"ABBV\",\"ABBV\",\"ABBV\",\"ABBV\",\"ABBV\",\"ABBV\",\"ABBV\",\"ABBV\",\"ABBV\",\"ABBV\",\"ABBV\",\"ABBV\",\"ABBV\",\"ABBV\",\"ABBV\",\"ABBV\",\"ABBV\",\"ABBV\",\"ABBV\",\"ABBV\",\"ABBV\",\"ABBV\",\"ABBV\",\"ABBV\",\"ABBV\",\"ABBV\",\"ABBV\",\"ABBV\",\"ABBV\",\"ABBV\",\"ABBV\",\"ABBV\",\"ABBV\",\"ABBV\",\"ABBV\",\"ABBV\",\"ABBV\",\"ABBV\",\"ABBV\",\"ABBV\",\"ABBV\",\"ABBV\",\"ABBV\",\"ABBV\",\"ABBV\",\"ABBV\",\"ABBV\",\"ABBV\",\"ABBV\",\"ABBV\",\"ABBV\",\"ABBV\",\"ABBV\",\"ABBV\",\"ABBV\",\"ABBV\",\"ABBV\",\"ABBV\",\"ABBV\",\"ABBV\",\"ABBV\",\"ABBV\",\"ABBV\",\"ABBV\",\"ABBV\",\"ABBV\",\"ABBV\",\"ABBV\",\"ABBV\",\"ABBV\",\"ABBV\",\"ABBV\",\"ABBV\",\"ABBV\",\"ABBV\",\"ABBV\",\"ABBV\",\"ABBV\",\"ABBV\",\"ABBV\",\"ABBV\",\"ABBV\",\"ABBV\",\"ABBV\",\"ABBV\",\"ABBV\",\"ABBV\",\"ABBV\",\"ABBV\",\"ABBV\",\"ABBV\",\"ABBV\",\"ABBV\",\"ABBV\",\"ABBV\",\"ABBV\",\"ABBV\",\"ABBV\",\"ABBV\",\"ABBV\",\"ABBV\",\"ABBV\",\"ABBV\",\"ABBV\",\"ABBV\",\"ABBV\",\"ABBV\",\"ABBV\",\"ABBV\",\"ABBV\",\"ABBV\",\"ABBV\"],\"value\":{\"__ndarray__\":\"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\",\"dtype\":\"float64\",\"shape\":[258]}},\"selected\":{\"id\":\"7227\",\"type\":\"Selection\"},\"selection_policy\":{\"id\":\"7290\",\"type\":\"UnionRenderers\"}},\"id\":\"7226\",\"type\":\"ColumnDataSource\"},{\"attributes\":{\"line_color\":\"#2ba02b\",\"line_width\":2,\"x\":{\"field\":\"Date\"},\"y\":{\"field\":\"value\"}},\"id\":\"7198\",\"type\":\"Line\"},{\"attributes\":{\"line_alpha\":0.2,\"line_color\":\"#2ba02b\",\"line_width\":2,\"x\":{\"field\":\"Date\"},\"y\":{\"field\":\"value\"}},\"id\":\"7200\",\"type\":\"Line\"},{\"attributes\":{\"children\":[{\"id\":\"7094\",\"type\":\"Spacer\"},{\"id\":\"7103\",\"subtype\":\"Figure\",\"type\":\"Plot\"},{\"id\":\"7571\",\"type\":\"Spacer\"}],\"margin\":[0,0,0,0],\"name\":\"Row03958\",\"tags\":[\"embedded\"]},\"id\":\"7093\",\"type\":\"Row\"},{\"attributes\":{\"num_minor_ticks\":5,\"tickers\":[{\"id\":\"7151\",\"type\":\"AdaptiveTicker\"},{\"id\":\"7152\",\"type\":\"AdaptiveTicker\"},{\"id\":\"7153\",\"type\":\"AdaptiveTicker\"},{\"id\":\"7154\",\"type\":\"DaysTicker\"},{\"id\":\"7155\",\"type\":\"DaysTicker\"},{\"id\":\"7156\",\"type\":\"DaysTicker\"},{\"id\":\"7157\",\"type\":\"DaysTicker\"},{\"id\":\"7158\",\"type\":\"MonthsTicker\"},{\"id\":\"7159\",\"type\":\"MonthsTicker\"},{\"id\":\"7160\",\"type\":\"MonthsTicker\"},{\"id\":\"7161\",\"type\":\"MonthsTicker\"},{\"id\":\"7162\",\"type\":\"YearsTicker\"}]},\"id\":\"7113\",\"type\":\"DatetimeTicker\"},{\"attributes\":{\"days\":[1,2,3,4,5,6,7,8,9,10,11,12,13,14,15,16,17,18,19,20,21,22,23,24,25,26,27,28,29,30,31]},\"id\":\"7154\",\"type\":\"DaysTicker\"},{\"attributes\":{},\"id\":\"7255\",\"type\":\"UnionRenderers\"},{\"attributes\":{\"line_alpha\":0.2,\"line_color\":\"#8c564b\",\"line_width\":2,\"x\":{\"field\":\"Date\"},\"y\":{\"field\":\"value\"}},\"id\":\"7299\",\"type\":\"Line\"},{\"attributes\":{\"bottom_units\":\"screen\",\"fill_alpha\":{\"value\":0.5},\"fill_color\":{\"value\":\"lightgrey\"},\"left_units\":\"screen\",\"level\":\"overlay\",\"line_alpha\":{\"value\":1.0},\"line_color\":{\"value\":\"black\"},\"line_dash\":[4,4],\"line_width\":{\"value\":2},\"render_mode\":\"css\",\"right_units\":\"screen\",\"top_units\":\"screen\"},\"id\":\"7163\",\"type\":\"BoxAnnotation\"},{\"attributes\":{\"line_alpha\":0.1,\"line_color\":\"#1f77b3\",\"line_width\":2,\"x\":{\"field\":\"Date\"},\"y\":{\"field\":\"value\"}},\"id\":\"7142\",\"type\":\"Line\"},{\"attributes\":{\"callback\":null,\"formatters\":{\"@{Date}\":\"datetime\"},\"renderers\":[{\"id\":\"7144\",\"type\":\"GlyphRenderer\"},{\"id\":\"7172\",\"type\":\"GlyphRenderer\"},{\"id\":\"7201\",\"type\":\"GlyphRenderer\"},{\"id\":\"7232\",\"type\":\"GlyphRenderer\"},{\"id\":\"7265\",\"type\":\"GlyphRenderer\"},{\"id\":\"7300\",\"type\":\"GlyphRenderer\"}],\"tags\":[\"hv_created\"],\"tooltips\":[[\"Variable\",\"@{Variable}\"],[\"Date\",\"@{Date}{%F %T}\"],[\"value\",\"@{value}\"]]},\"id\":\"7097\",\"type\":\"HoverTool\"},{\"attributes\":{\"margin\":[5,5,5,5],\"name\":\"HSpacer03962\",\"sizing_mode\":\"stretch_width\"},\"id\":\"7094\",\"type\":\"Spacer\"},{\"attributes\":{\"source\":{\"id\":\"7294\",\"type\":\"ColumnDataSource\"}},\"id\":\"7301\",\"type\":\"CDSView\"},{\"attributes\":{\"active_drag\":\"auto\",\"active_inspect\":\"auto\",\"active_multi\":null,\"active_scroll\":\"auto\",\"active_tap\":\"auto\",\"tools\":[{\"id\":\"7097\",\"type\":\"HoverTool\"},{\"id\":\"7122\",\"type\":\"SaveTool\"},{\"id\":\"7123\",\"type\":\"PanTool\"},{\"id\":\"7124\",\"type\":\"WheelZoomTool\"},{\"id\":\"7125\",\"type\":\"BoxZoomTool\"},{\"id\":\"7126\",\"type\":\"ResetTool\"}]},\"id\":\"7127\",\"type\":\"Toolbar\"},{\"attributes\":{},\"id\":\"7196\",\"type\":\"Selection\"},{\"attributes\":{},\"id\":\"7110\",\"type\":\"LinearScale\"},{\"attributes\":{\"line_alpha\":0.1,\"line_color\":\"#2ba02b\",\"line_width\":2,\"x\":{\"field\":\"Date\"},\"y\":{\"field\":\"value\"}},\"id\":\"7199\",\"type\":\"Line\"},{\"attributes\":{},\"id\":\"7118\",\"type\":\"BasicTicker\"},{\"attributes\":{\"line_alpha\":0.2,\"line_color\":\"#ff7e0e\",\"line_width\":2,\"x\":{\"field\":\"Date\"},\"y\":{\"field\":\"value\"}},\"id\":\"7171\",\"type\":\"Line\"},{\"attributes\":{\"days\":[1,4,7,10,13,16,19,22,25,28]},\"id\":\"7155\",\"type\":\"DaysTicker\"},{\"attributes\":{\"callback\":null,\"data\":{\"Date\":{\"__ndarray__\":\"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\",\"dtype\":\"float64\",\"shape\":[258]},\"Variable\":[\"XLV\",\"XLV\",\"XLV\",\"XLV\",\"XLV\",\"XLV\",\"XLV\",\"XLV\",\"XLV\",\"XLV\",\"XLV\",\"XLV\",\"XLV\",\"XLV\",\"XLV\",\"XLV\",\"XLV\",\"XLV\",\"XLV\",\"XLV\",\"XLV\",\"XLV\",\"XLV\",\"XLV\",\"XLV\",\"XLV\",\"XLV\",\"XLV\",\"XLV\",\"XLV\",\"XLV\",\"XLV\",\"XLV\",\"XLV\",\"XLV\",\"XLV\",\"XLV\",\"XLV\",\"XLV\",\"XLV\",\"XLV\",\"XLV\",\"XLV\",\"XLV\",\"XLV\",\"XLV\",\"XLV\",\"XLV\",\"XLV\",\"XLV\",\"XLV\",\"XLV\",\"XLV\",\"XLV\",\"XLV\",\"XLV\",\"XLV\",\"XLV\",\"XLV\",\"XLV\",\"XLV\",\"XLV\",\"XLV\",\"XLV\",\"XLV\",\"XLV\",\"XLV\",\"XLV\",\"XLV\",\"XLV\",\"XLV\",\"XLV\",\"XLV\",\"XLV\",\"XLV\",\"XLV\",\"XLV\",\"XLV\",\"XLV\",\"XLV\",\"XLV\",\"XLV\",\"XLV\",\"XLV\",\"XLV\",\"XLV\",\"XLV\",\"XLV\",\"XLV\",\"XLV\",\"XLV\",\"XLV\",\"XLV\",\"XLV\",\"XLV\",\"XLV\",\"XLV\",\"XLV\",\"XLV\",\"XLV\",\"XLV\",\"XLV\",\"XLV\",\"XLV\",\"XLV\",\"XLV\",\"XLV\",\"XLV\",\"XLV\",\"XLV\",\"XLV\",\"XLV\",\"XLV\",\"XLV\",\"XLV\",\"XLV\",\"XLV\",\"XLV\",\"XLV\",\"XLV\",\"XLV\",\"XLV\",\"XLV\",\"XLV\",\"XLV\",\"XLV\",\"XLV\",\"XLV\",\"XLV\",\"XLV\",\"XLV\",\"XLV\",\"XLV\",\"XLV\",\"XLV\",\"XLV\",\"XLV\",\"XLV\",\"XLV\",\"XLV\",\"XLV\",\"XLV\",\"XLV\",\"XLV\",\"XLV\",\"XLV\",\"XLV\",\"XLV\",\"XLV\",\"XLV\",\"XLV\",\"XLV\",\"XLV\",\"XLV\",\"XLV\",\"XLV\",\"XLV\",\"XLV\",\"XLV\",\"XLV\",\"XLV\",\"XLV\",\"XLV\",\"XLV\",\"XLV\",\"XLV\",\"XLV\",\"XLV\",\"XLV\",\"XLV\",\"XLV\",\"XLV\",\"XLV\",\"XLV\",\"XLV\",\"XLV\",\"XLV\",\"XLV\",\"XLV\",\"XLV\",\"XLV\",\"XLV\",\"XLV\",\"XLV\",\"XLV\",\"XLV\",\"XLV\",\"XLV\",\"XLV\",\"XLV\",\"XLV\",\"XLV\",\"XLV\",\"XLV\",\"XLV\",\"XLV\",\"XLV\",\"XLV\",\"XLV\",\"XLV\",\"XLV\",\"XLV\",\"XLV\",\"XLV\",\"XLV\",\"XLV\",\"XLV\",\"XLV\",\"XLV\",\"XLV\",\"XLV\",\"XLV\",\"XLV\",\"XLV\",\"XLV\",\"XLV\",\"XLV\",\"XLV\",\"XLV\",\"XLV\",\"XLV\",\"XLV\",\"XLV\",\"XLV\",\"XLV\",\"XLV\",\"XLV\",\"XLV\",\"XLV\",\"XLV\",\"XLV\",\"XLV\",\"XLV\",\"XLV\",\"XLV\",\"XLV\",\"XLV\",\"XLV\",\"XLV\",\"XLV\",\"XLV\",\"XLV\",\"XLV\",\"XLV\",\"XLV\",\"XLV\",\"XLV\",\"XLV\",\"XLV\",\"XLV\",\"XLV\",\"XLV\",\"XLV\",\"XLV\",\"XLV\",\"XLV\",\"XLV\",\"XLV\"],\"value\":{\"__ndarray__\":\"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\",\"dtype\":\"float64\",\"shape\":[258]}},\"selected\":{\"id\":\"7295\",\"type\":\"Selection\"},\"selection_policy\":{\"id\":\"7358\",\"type\":\"UnionRenderers\"}},\"id\":\"7294\",\"type\":\"ColumnDataSource\"},{\"attributes\":{\"line_color\":\"#ff7e0e\",\"line_width\":2,\"x\":{\"field\":\"Date\"},\"y\":{\"field\":\"value\"}},\"id\":\"7169\",\"type\":\"Line\"},{\"attributes\":{},\"id\":\"7124\",\"type\":\"WheelZoomTool\"},{\"attributes\":{},\"id\":\"7295\",\"type\":\"Selection\"},{\"attributes\":{\"data_source\":{\"id\":\"7195\",\"type\":\"ColumnDataSource\"},\"glyph\":{\"id\":\"7198\",\"type\":\"Line\"},\"hover_glyph\":null,\"muted_glyph\":{\"id\":\"7200\",\"type\":\"Line\"},\"nonselection_glyph\":{\"id\":\"7199\",\"type\":\"Line\"},\"selection_glyph\":null,\"view\":{\"id\":\"7202\",\"type\":\"CDSView\"}},\"id\":\"7201\",\"type\":\"GlyphRenderer\"},{\"attributes\":{\"source\":{\"id\":\"7138\",\"type\":\"ColumnDataSource\"}},\"id\":\"7145\",\"type\":\"CDSView\"},{\"attributes\":{},\"id\":\"7122\",\"type\":\"SaveTool\"},{\"attributes\":{\"overlay\":{\"id\":\"7163\",\"type\":\"BoxAnnotation\"}},\"id\":\"7125\",\"type\":\"BoxZoomTool\"},{\"attributes\":{},\"id\":\"7123\",\"type\":\"PanTool\"},{\"attributes\":{\"source\":{\"id\":\"7195\",\"type\":\"ColumnDataSource\"}},\"id\":\"7202\",\"type\":\"CDSView\"},{\"attributes\":{\"axis_label\":\"Date\",\"axis_label_text_font_size\":{\"value\":\"10pt\"},\"bounds\":\"auto\",\"formatter\":{\"id\":\"7134\",\"type\":\"DatetimeTickFormatter\"},\"major_label_orientation\":\"horizontal\",\"ticker\":{\"id\":\"7113\",\"type\":\"DatetimeTicker\"}},\"id\":\"7112\",\"type\":\"DatetimeAxis\"},{\"attributes\":{},\"id\":\"7290\",\"type\":\"UnionRenderers\"},{\"attributes\":{\"line_alpha\":0.1,\"line_color\":\"#8c564b\",\"line_width\":2,\"x\":{\"field\":\"Date\"},\"y\":{\"field\":\"value\"}},\"id\":\"7298\",\"type\":\"Line\"},{\"attributes\":{\"dimension\":1,\"grid_line_color\":null,\"ticker\":{\"id\":\"7118\",\"type\":\"BasicTicker\"}},\"id\":\"7121\",\"type\":\"Grid\"},{\"attributes\":{},\"id\":\"7191\",\"type\":\"UnionRenderers\"},{\"attributes\":{\"days\":[1,8,15,22]},\"id\":\"7156\",\"type\":\"DaysTicker\"},{\"attributes\":{\"label\":{\"value\":\"MRK\"},\"renderers\":[{\"id\":\"7201\",\"type\":\"GlyphRenderer\"}]},\"id\":\"7225\",\"type\":\"LegendItem\"},{\"attributes\":{},\"id\":\"7108\",\"type\":\"LinearScale\"},{\"attributes\":{\"base\":60,\"mantissas\":[1,2,5,10,15,20,30],\"max_interval\":1800000.0,\"min_interval\":1000.0,\"num_minor_ticks\":0},\"id\":\"7152\",\"type\":\"AdaptiveTicker\"},{\"attributes\":{\"callback\":null,\"data\":{\"Date\":{\"__ndarray__\":\"AAAAlXvJdkIAAEDGcsp2QgAAACzFynZCAADAkRfLdkIAAID3act2QgAAQF28y3ZCAACAjrPMdkIAAED0Bc12QgAAAFpYzXZCAADAv6rNdkIAAIAl/c12QgAAgLxGz3ZCAABAIpnPdkIAAACI6892QgAAwO090HZCAAAAHzXRdkIAAMCEh9F2QgAAgOrZ0XZCAABAUCzSdkIAAAC2ftJ2QgAAQOd103ZCAAAATcjTdkIAAMCyGtR2QgAAgBht1HZCAABAfr/UdkIAAICvttV2QgAAQBUJ1nZCAAAAe1vWdkIAAMDgrdZ2QgAAgEYA13ZCAADAd/fXdkIAAIDdSdh2QgAAQEOc2HZCAAAAqe7YdkIAAMAOQdl2QgAAAEA42nZCAADApYradkIAAIAL3dp2QgAAQHEv23ZCAAAA14HbdkIAAEAIedx2QgAAAG7L3HZCAADA0x3ddkIAAIA5cN12QgAAQJ/C3XZCAACA0LnedkIAAEA2DN92QgAAAJxe33ZCAADAAbHfdkIAAIBnA+B2QgAAwJj64HZCAACA/kzhdkIAAEBkn+F2QgAAAMrx4XZCAADAL0TidkIAAABhO+N2QgAAwMaN43ZCAACALODjdkIAAECSMuR2QgAAAPiE5HZCAABAKXzldkIAAACPzuV2QgAAwPQg5nZCAACAWnPmdkIAAEDAxeZ2QgAAgPG853ZCAABAVw/odkIAAAC9Yeh2QgAAwCK06HZCAACAiAbpdkIAAMC5/el2QgAAgB9Q6nZCAABAhaLqdkIAAMBQR+t2QgAAAII+7HZCAADA55DsdkIAAIBN4+x2QgAAQLM17XZCAAAAGYjtdkIAAEBKf+52QgAAALDR7nZCAADAFSTvdkIAAIB7du92QgAAQOHI73ZCAACAEsDwdkIAAEB4EvF2QgAAAN5k8XZCAADAQ7fxdkIAAICpCfJ2QgAAwNoA83ZCAACAQFPzdkIAAAAM+PN2QgAAwHFK9HZCAAAAo0H1dkIAAMAIlPV2QgAAQNQ49nZCAAAAOov2dkIAAEBrgvd2QgAAANHU93ZCAADANif4dkIAAICcefh2QgAAQALM+HZCAACAM8P5dkIAAECZFfp2QgAAAP9n+nZCAADAZLr6dkIAAIDKDPt2QgAAgGFW/HZCAABAx6j8dkIAAAAt+/x2QgAAwJJN/XZCAAAAxET+dkIAAMApl/52QgAAgI/p/nZCAABA9Tv/dkIAAABbjv92QgAAQIyFAHdCAAAA8tcAd0IAAMBXKgF3QgAAgL18AXdCAABAI88Bd0IAAIBUxgJ3QgAAQLoYA3dCAAAAIGsDd0IAAMCFvQN3QgAAgOsPBHdCAACAglkFd0IAAEDoqwV3QgAAAE7+BXdCAADAs1AGd0IAAADlRwd3QgAAwEqaB3dCAACAsOwHd0IAAEAWPwh3QgAAAHyRCHdCAABArYgJd0IAAAAT2wl3QgAAwHgtCndCAACA3n8Kd0IAAEBE0gp3QgAAgHXJC3dCAABA2xsMd0IAAABBbgx3QgAAwKbADHdCAACADBMNd0IAAMA9Cg53QgAAgKNcDndCAABACa8Od0IAAABvAQ93QgAAwNRTD3dCAAAABksQd0IAAMBrnRB3QgAAgNHvEHdCAABAN0IRd0IAAACdlBF3QgAAQM6LEndCAAAANN4Sd0IAAMCZMBN3QgAAgP+CE3dCAABAZdUTd0IAAICWzBR3QgAAQPweFXdCAAAAYnEVd0IAAMDHwxV3QgAAwF4NF3dCAACAxF8Xd0IAAEAqshd3QgAAAJAEGHdCAADA9VYYd0IAAAAnThl3QgAAwIygGXdCAACA8vIZd0IAAEBYRRp3QgAAAL6XGndCAABA744bd0IAAABV4Rt3QgAAwLozHHdCAACAIIYcd0IAAECG2Bx3QgAAgLfPHXdCAABAHSIed0IAAACDdB53QgAAwOjGHndCAACAThkfd0IAAMB/ECB3QgAAgOViIHdCAABAS7Ugd0IAAACxByF3QgAAwBZaIXdCAAAASFEid0IAAMCtoyJ3QgAAgBP2IndCAABAeUgjd0IAAADfmiN3QgAAAHbkJHdCAADA2zYld0IAAIBBiSV3QgAAQKfbJXdCAACA2NImd0IAAEA+JSd3QgAAAKR3J3dCAADACcond0IAAIBvHCh3QgAAwKATKXdCAACABmYpd0IAAEBsuCl3QgAAANIKKndCAADAN10qd0IAAABpVCt3QgAAwM6mK3dCAACANPkrd0IAAECaSyx3QgAAAACeLHdCAABAMZUtd0IAAACX5y13QgAAwPw5LndCAACAYowud0IAAEDI3i53QgAAgPnVL3dCAABAXygwd0IAAADFejB3QgAAwCrNMHdCAADAwRYyd0IAAIAnaTJ3QgAAQI27MndCAAAA8w0zd0IAAMBYYDN3QgAAAIpXNHdCAADA76k0d0IAAIBV/DR3QgAAQLtONXdCAAAAIaE1d0IAAEBSmDZ3QgAAALjqNndCAADAHT03d0IAAICDjzd3QgAAQOnhN3dCAACAGtk4d0IAAECAKzl3QgAAAOZ9OXdCAADAS9A5d0IAAICxIjp3QgAAwOIZO3dCAACASGw7d0IAAECuvjt3QgAAABQRPHdCAADAeWM8d0IAAACrWj13QgAAwBCtPXdCAACAdv89d0IAAEDcUT53QgAAAEKkPndCAABAc5s/d0IAAADZ7T93QgAAwD5AQHdCAACApJJAd0IAAEAK5UB3QgAAgDvcQXdC\",\"dtype\":\"float64\",\"shape\":[258]},\"Variable\":[\"ABT\",\"ABT\",\"ABT\",\"ABT\",\"ABT\",\"ABT\",\"ABT\",\"ABT\",\"ABT\",\"ABT\",\"ABT\",\"ABT\",\"ABT\",\"ABT\",\"ABT\",\"ABT\",\"ABT\",\"ABT\",\"ABT\",\"ABT\",\"ABT\",\"ABT\",\"ABT\",\"ABT\",\"ABT\",\"ABT\",\"ABT\",\"ABT\",\"ABT\",\"ABT\",\"ABT\",\"ABT\",\"ABT\",\"ABT\",\"ABT\",\"ABT\",\"ABT\",\"ABT\",\"ABT\",\"ABT\",\"ABT\",\"ABT\",\"ABT\",\"ABT\",\"ABT\",\"ABT\",\"ABT\",\"ABT\",\"ABT\",\"ABT\",\"ABT\",\"ABT\",\"ABT\",\"ABT\",\"ABT\",\"ABT\",\"ABT\",\"ABT\",\"ABT\",\"ABT\",\"ABT\",\"ABT\",\"ABT\",\"ABT\",\"ABT\",\"ABT\",\"ABT\",\"ABT\",\"ABT\",\"ABT\",\"ABT\",\"ABT\",\"ABT\",\"ABT\",\"ABT\",\"ABT\",\"ABT\",\"ABT\",\"ABT\",\"ABT\",\"ABT\",\"ABT\",\"ABT\",\"ABT\",\"ABT\",\"ABT\",\"ABT\",\"ABT\",\"ABT\",\"ABT\",\"ABT\",\"ABT\",\"ABT\",\"ABT\",\"ABT\",\"ABT\",\"ABT\",\"ABT\",\"ABT\",\"ABT\",\"ABT\",\"ABT\",\"ABT\",\"ABT\",\"ABT\",\"ABT\",\"ABT\",\"ABT\",\"ABT\",\"ABT\",\"ABT\",\"ABT\",\"ABT\",\"ABT\",\"ABT\",\"ABT\",\"ABT\",\"ABT\",\"ABT\",\"ABT\",\"ABT\",\"ABT\",\"ABT\",\"ABT\",\"ABT\",\"ABT\",\"ABT\",\"ABT\",\"ABT\",\"ABT\",\"ABT\",\"ABT\",\"ABT\",\"ABT\",\"ABT\",\"ABT\",\"ABT\",\"ABT\",\"ABT\",\"ABT\",\"ABT\",\"ABT\",\"ABT\",\"ABT\",\"ABT\",\"ABT\",\"ABT\",\"ABT\",\"ABT\",\"ABT\",\"ABT\",\"ABT\",\"ABT\",\"ABT\",\"ABT\",\"ABT\",\"ABT\",\"ABT\",\"ABT\",\"ABT\",\"ABT\",\"ABT\",\"ABT\",\"ABT\",\"ABT\",\"ABT\",\"ABT\",\"ABT\",\"ABT\",\"ABT\",\"ABT\",\"ABT\",\"ABT\",\"ABT\",\"ABT\",\"ABT\",\"ABT\",\"ABT\",\"ABT\",\"ABT\",\"ABT\",\"ABT\",\"ABT\",\"ABT\",\"ABT\",\"ABT\",\"ABT\",\"ABT\",\"ABT\",\"ABT\",\"ABT\",\"ABT\",\"ABT\",\"ABT\",\"ABT\",\"ABT\",\"ABT\",\"ABT\",\"ABT\",\"ABT\",\"ABT\",\"ABT\",\"ABT\",\"ABT\",\"ABT\",\"ABT\",\"ABT\",\"ABT\",\"ABT\",\"ABT\",\"ABT\",\"ABT\",\"ABT\",\"ABT\",\"ABT\",\"ABT\",\"ABT\",\"ABT\",\"ABT\",\"ABT\",\"ABT\",\"ABT\",\"ABT\",\"ABT\",\"ABT\",\"ABT\",\"ABT\",\"ABT\",\"ABT\",\"ABT\",\"ABT\",\"ABT\",\"ABT\",\"ABT\",\"ABT\",\"ABT\",\"ABT\",\"ABT\",\"ABT\",\"ABT\",\"ABT\",\"ABT\",\"ABT\",\"ABT\",\"ABT\",\"ABT\",\"ABT\",\"ABT\",\"ABT\",\"ABT\",\"ABT\",\"ABT\",\"ABT\",\"ABT\",\"ABT\",\"ABT\",\"ABT\",\"ABT\"],\"value\":{\"__ndarray__\":\"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\",\"dtype\":\"float64\",\"shape\":[258]}},\"selected\":{\"id\":\"7260\",\"type\":\"Selection\"},\"selection_policy\":{\"id\":\"7327\",\"type\":\"UnionRenderers\"}},\"id\":\"7259\",\"type\":\"ColumnDataSource\"},{\"attributes\":{},\"id\":\"7358\",\"type\":\"UnionRenderers\"},{\"attributes\":{\"data_source\":{\"id\":\"7294\",\"type\":\"ColumnDataSource\"},\"glyph\":{\"id\":\"7297\",\"type\":\"Line\"},\"hover_glyph\":null,\"muted_glyph\":{\"id\":\"7299\",\"type\":\"Line\"},\"nonselection_glyph\":{\"id\":\"7298\",\"type\":\"Line\"},\"selection_glyph\":null,\"view\":{\"id\":\"7301\",\"type\":\"CDSView\"}},\"id\":\"7300\",\"type\":\"GlyphRenderer\"},{\"attributes\":{\"click_policy\":\"mute\",\"items\":[{\"id\":\"7165\",\"type\":\"LegendItem\"},{\"id\":\"7194\",\"type\":\"LegendItem\"},{\"id\":\"7225\",\"type\":\"LegendItem\"},{\"id\":\"7258\",\"type\":\"LegendItem\"},{\"id\":\"7293\",\"type\":\"LegendItem\"},{\"id\":\"7330\",\"type\":\"LegendItem\"}],\"label_text_font_size\":{\"value\":\"10pt\"},\"location\":[0,0],\"title\":\"Variable\",\"title_text_font_size\":{\"value\":\"10pt\"}},\"id\":\"7164\",\"type\":\"Legend\"},{\"attributes\":{\"source\":{\"id\":\"7259\",\"type\":\"ColumnDataSource\"}},\"id\":\"7266\",\"type\":\"CDSView\"},{\"attributes\":{\"line_alpha\":0.2,\"line_color\":\"#9367bc\",\"line_width\":2,\"x\":{\"field\":\"Date\"},\"y\":{\"field\":\"value\"}},\"id\":\"7264\",\"type\":\"Line\"},{\"attributes\":{\"callback\":null,\"end\":1598227200000.0,\"reset_end\":1598227200000.0,\"reset_start\":1565913600000.0,\"start\":1565913600000.0,\"tags\":[[[\"Date\",\"Date\",null]]]},\"id\":\"7095\",\"type\":\"Range1d\"},{\"attributes\":{\"align\":null,\"below\":[{\"id\":\"7112\",\"type\":\"DatetimeAxis\"}],\"center\":[{\"id\":\"7116\",\"type\":\"Grid\"},{\"id\":\"7121\",\"type\":\"Grid\"}],\"left\":[{\"id\":\"7117\",\"type\":\"LinearAxis\"}],\"margin\":null,\"min_border_bottom\":10,\"min_border_left\":10,\"min_border_right\":10,\"min_border_top\":10,\"plot_height\":300,\"plot_width\":700,\"renderers\":[{\"id\":\"7144\",\"type\":\"GlyphRenderer\"},{\"id\":\"7172\",\"type\":\"GlyphRenderer\"},{\"id\":\"7201\",\"type\":\"GlyphRenderer\"},{\"id\":\"7232\",\"type\":\"GlyphRenderer\"},{\"id\":\"7265\",\"type\":\"GlyphRenderer\"},{\"id\":\"7300\",\"type\":\"GlyphRenderer\"}],\"right\":[{\"id\":\"7164\",\"type\":\"Legend\"}],\"sizing_mode\":\"fixed\",\"title\":{\"id\":\"7104\",\"type\":\"Title\"},\"toolbar\":{\"id\":\"7127\",\"type\":\"Toolbar\"},\"x_range\":{\"id\":\"7095\",\"type\":\"Range1d\"},\"x_scale\":{\"id\":\"7108\",\"type\":\"LinearScale\"},\"y_range\":{\"id\":\"7096\",\"type\":\"Range1d\"},\"y_scale\":{\"id\":\"7110\",\"type\":\"LinearScale\"}},\"id\":\"7103\",\"subtype\":\"Figure\",\"type\":\"Plot\"},{\"attributes\":{\"callback\":null,\"data\":{\"Date\":{\"__ndarray__\":\"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\",\"dtype\":\"float64\",\"shape\":[258]},\"Variable\":[\"UNH\",\"UNH\",\"UNH\",\"UNH\",\"UNH\",\"UNH\",\"UNH\",\"UNH\",\"UNH\",\"UNH\",\"UNH\",\"UNH\",\"UNH\",\"UNH\",\"UNH\",\"UNH\",\"UNH\",\"UNH\",\"UNH\",\"UNH\",\"UNH\",\"UNH\",\"UNH\",\"UNH\",\"UNH\",\"UNH\",\"UNH\",\"UNH\",\"UNH\",\"UNH\",\"UNH\",\"UNH\",\"UNH\",\"UNH\",\"UNH\",\"UNH\",\"UNH\",\"UNH\",\"UNH\",\"UNH\",\"UNH\",\"UNH\",\"UNH\",\"UNH\",\"UNH\",\"UNH\",\"UNH\",\"UNH\",\"UNH\",\"UNH\",\"UNH\",\"UNH\",\"UNH\",\"UNH\",\"UNH\",\"UNH\",\"UNH\",\"UNH\",\"UNH\",\"UNH\",\"UNH\",\"UNH\",\"UNH\",\"UNH\",\"UNH\",\"UNH\",\"UNH\",\"UNH\",\"UNH\",\"UNH\",\"UNH\",\"UNH\",\"UNH\",\"UNH\",\"UNH\",\"UNH\",\"UNH\",\"UNH\",\"UNH\",\"UNH\",\"UNH\",\"UNH\",\"UNH\",\"UNH\",\"UNH\",\"UNH\",\"UNH\",\"UNH\",\"UNH\",\"UNH\",\"UNH\",\"UNH\",\"UNH\",\"UNH\",\"UNH\",\"UNH\",\"UNH\",\"UNH\",\"UNH\",\"UNH\",\"UNH\",\"UNH\",\"UNH\",\"UNH\",\"UNH\",\"UNH\",\"UNH\",\"UNH\",\"UNH\",\"UNH\",\"UNH\",\"UNH\",\"UNH\",\"UNH\",\"UNH\",\"UNH\",\"UNH\",\"UNH\",\"UNH\",\"UNH\",\"UNH\",\"UNH\",\"UNH\",\"UNH\",\"UNH\",\"UNH\",\"UNH\",\"UNH\",\"UNH\",\"UNH\",\"UNH\",\"UNH\",\"UNH\",\"UNH\",\"UNH\",\"UNH\",\"UNH\",\"UNH\",\"UNH\",\"UNH\",\"UNH\",\"UNH\",\"UNH\",\"UNH\",\"UNH\",\"UNH\",\"UNH\",\"UNH\",\"UNH\",\"UNH\",\"UNH\",\"UNH\",\"UNH\",\"UNH\",\"UNH\",\"UNH\",\"UNH\",\"UNH\",\"UNH\",\"UNH\",\"UNH\",\"UNH\",\"UNH\",\"UNH\",\"UNH\",\"UNH\",\"UNH\",\"UNH\",\"UNH\",\"UNH\",\"UNH\",\"UNH\",\"UNH\",\"UNH\",\"UNH\",\"UNH\",\"UNH\",\"UNH\",\"UNH\",\"UNH\",\"UNH\",\"UNH\",\"UNH\",\"UNH\",\"UNH\",\"UNH\",\"UNH\",\"UNH\",\"UNH\",\"UNH\",\"UNH\",\"UNH\",\"UNH\",\"UNH\",\"UNH\",\"UNH\",\"UNH\",\"UNH\",\"UNH\",\"UNH\",\"UNH\",\"UNH\",\"UNH\",\"UNH\",\"UNH\",\"UNH\",\"UNH\",\"UNH\",\"UNH\",\"UNH\",\"UNH\",\"UNH\",\"UNH\",\"UNH\",\"UNH\",\"UNH\",\"UNH\",\"UNH\",\"UNH\",\"UNH\",\"UNH\",\"UNH\",\"UNH\",\"UNH\",\"UNH\",\"UNH\",\"UNH\",\"UNH\",\"UNH\",\"UNH\",\"UNH\",\"UNH\",\"UNH\",\"UNH\",\"UNH\",\"UNH\",\"UNH\",\"UNH\",\"UNH\",\"UNH\",\"UNH\",\"UNH\",\"UNH\",\"UNH\",\"UNH\",\"UNH\",\"UNH\",\"UNH\",\"UNH\",\"UNH\",\"UNH\",\"UNH\",\"UNH\",\"UNH\",\"UNH\",\"UNH\",\"UNH\",\"UNH\"],\"value\":{\"__ndarray__\":\"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\",\"dtype\":\"float64\",\"shape\":[258]}},\"selected\":{\"id\":\"7139\",\"type\":\"Selection\"},\"selection_policy\":{\"id\":\"7191\",\"type\":\"UnionRenderers\"}},\"id\":\"7138\",\"type\":\"ColumnDataSource\"},{\"attributes\":{\"line_color\":\"#9367bc\",\"line_width\":2,\"x\":{\"field\":\"Date\"},\"y\":{\"field\":\"value\"}},\"id\":\"7262\",\"type\":\"Line\"},{\"attributes\":{\"text\":\"\",\"text_color\":{\"value\":\"black\"},\"text_font_size\":{\"value\":\"12pt\"}},\"id\":\"7104\",\"type\":\"Title\"},{\"attributes\":{\"label\":{\"value\":\"JNJ\"},\"renderers\":[{\"id\":\"7172\",\"type\":\"GlyphRenderer\"}]},\"id\":\"7194\",\"type\":\"LegendItem\"},{\"attributes\":{\"margin\":[5,5,5,5],\"name\":\"HSpacer03963\",\"sizing_mode\":\"stretch_width\"},\"id\":\"7571\",\"type\":\"Spacer\"},{\"attributes\":{\"label\":{\"value\":\"ABBV\"},\"renderers\":[{\"id\":\"7232\",\"type\":\"GlyphRenderer\"}]},\"id\":\"7258\",\"type\":\"LegendItem\"},{\"attributes\":{\"mantissas\":[1,2,5],\"max_interval\":500.0,\"num_minor_ticks\":0},\"id\":\"7151\",\"type\":\"AdaptiveTicker\"},{\"attributes\":{\"data_source\":{\"id\":\"7226\",\"type\":\"ColumnDataSource\"},\"glyph\":{\"id\":\"7229\",\"type\":\"Line\"},\"hover_glyph\":null,\"muted_glyph\":{\"id\":\"7231\",\"type\":\"Line\"},\"nonselection_glyph\":{\"id\":\"7230\",\"type\":\"Line\"},\"selection_glyph\":null,\"view\":{\"id\":\"7233\",\"type\":\"CDSView\"}},\"id\":\"7232\",\"type\":\"GlyphRenderer\"},{\"attributes\":{},\"id\":\"7134\",\"type\":\"DatetimeTickFormatter\"},{\"attributes\":{\"callback\":null,\"data\":{\"Date\":{\"__ndarray__\":\"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\",\"dtype\":\"float64\",\"shape\":[258]},\"Variable\":[\"MRK\",\"MRK\",\"MRK\",\"MRK\",\"MRK\",\"MRK\",\"MRK\",\"MRK\",\"MRK\",\"MRK\",\"MRK\",\"MRK\",\"MRK\",\"MRK\",\"MRK\",\"MRK\",\"MRK\",\"MRK\",\"MRK\",\"MRK\",\"MRK\",\"MRK\",\"MRK\",\"MRK\",\"MRK\",\"MRK\",\"MRK\",\"MRK\",\"MRK\",\"MRK\",\"MRK\",\"MRK\",\"MRK\",\"MRK\",\"MRK\",\"MRK\",\"MRK\",\"MRK\",\"MRK\",\"MRK\",\"MRK\",\"MRK\",\"MRK\",\"MRK\",\"MRK\",\"MRK\",\"MRK\",\"MRK\",\"MRK\",\"MRK\",\"MRK\",\"MRK\",\"MRK\",\"MRK\",\"MRK\",\"MRK\",\"MRK\",\"MRK\",\"MRK\",\"MRK\",\"MRK\",\"MRK\",\"MRK\",\"MRK\",\"MRK\",\"MRK\",\"MRK\",\"MRK\",\"MRK\",\"MRK\",\"MRK\",\"MRK\",\"MRK\",\"MRK\",\"MRK\",\"MRK\",\"MRK\",\"MRK\",\"MRK\",\"MRK\",\"MRK\",\"MRK\",\"MRK\",\"MRK\",\"MRK\",\"MRK\",\"MRK\",\"MRK\",\"MRK\",\"MRK\",\"MRK\",\"MRK\",\"MRK\",\"MRK\",\"MRK\",\"MRK\",\"MRK\",\"MRK\",\"MRK\",\"MRK\",\"MRK\",\"MRK\",\"MRK\",\"MRK\",\"MRK\",\"MRK\",\"MRK\",\"MRK\",\"MRK\",\"MRK\",\"MRK\",\"MRK\",\"MRK\",\"MRK\",\"MRK\",\"MRK\",\"MRK\",\"MRK\",\"MRK\",\"MRK\",\"MRK\",\"MRK\",\"MRK\",\"MRK\",\"MRK\",\"MRK\",\"MRK\",\"MRK\",\"MRK\",\"MRK\",\"MRK\",\"MRK\",\"MRK\",\"MRK\",\"MRK\",\"MRK\",\"MRK\",\"MRK\",\"MRK\",\"MRK\",\"MRK\",\"MRK\",\"MRK\",\"MRK\",\"MRK\",\"MRK\",\"MRK\",\"MRK\",\"MRK\",\"MRK\",\"MRK\",\"MRK\",\"MRK\",\"MRK\",\"MRK\",\"MRK\",\"MRK\",\"MRK\",\"MRK\",\"MRK\",\"MRK\",\"MRK\",\"MRK\",\"MRK\",\"MRK\",\"MRK\",\"MRK\",\"MRK\",\"MRK\",\"MRK\",\"MRK\",\"MRK\",\"MRK\",\"MRK\",\"MRK\",\"MRK\",\"MRK\",\"MRK\",\"MRK\",\"MRK\",\"MRK\",\"MRK\",\"MRK\",\"MRK\",\"MRK\",\"MRK\",\"MRK\",\"MRK\",\"MRK\",\"MRK\",\"MRK\",\"MRK\",\"MRK\",\"MRK\",\"MRK\",\"MRK\",\"MRK\",\"MRK\",\"MRK\",\"MRK\",\"MRK\",\"MRK\",\"MRK\",\"MRK\",\"MRK\",\"MRK\",\"MRK\",\"MRK\",\"MRK\",\"MRK\",\"MRK\",\"MRK\",\"MRK\",\"MRK\",\"MRK\",\"MRK\",\"MRK\",\"MRK\",\"MRK\",\"MRK\",\"MRK\",\"MRK\",\"MRK\",\"MRK\",\"MRK\",\"MRK\",\"MRK\",\"MRK\",\"MRK\",\"MRK\",\"MRK\",\"MRK\",\"MRK\",\"MRK\",\"MRK\",\"MRK\",\"MRK\",\"MRK\",\"MRK\",\"MRK\",\"MRK\",\"MRK\",\"MRK\",\"MRK\",\"MRK\",\"MRK\",\"MRK\",\"MRK\",\"MRK\",\"MRK\",\"MRK\",\"MRK\",\"MRK\",\"MRK\",\"MRK\",\"MRK\",\"MRK\",\"MRK\"],\"value\":{\"__ndarray__\":\"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\",\"dtype\":\"float64\",\"shape\":[258]}},\"selected\":{\"id\":\"7196\",\"type\":\"Selection\"},\"selection_policy\":{\"id\":\"7255\",\"type\":\"UnionRenderers\"}},\"id\":\"7195\",\"type\":\"ColumnDataSource\"},{\"attributes\":{\"line_color\":\"#1f77b3\",\"line_width\":2,\"x\":{\"field\":\"Date\"},\"y\":{\"field\":\"value\"}},\"id\":\"7141\",\"type\":\"Line\"},{\"attributes\":{\"data_source\":{\"id\":\"7259\",\"type\":\"ColumnDataSource\"},\"glyph\":{\"id\":\"7262\",\"type\":\"Line\"},\"hover_glyph\":null,\"muted_glyph\":{\"id\":\"7264\",\"type\":\"Line\"},\"nonselection_glyph\":{\"id\":\"7263\",\"type\":\"Line\"},\"selection_glyph\":null,\"view\":{\"id\":\"7266\",\"type\":\"CDSView\"}},\"id\":\"7265\",\"type\":\"GlyphRenderer\"},{\"attributes\":{\"line_alpha\":0.1,\"line_color\":\"#d62628\",\"line_width\":2,\"x\":{\"field\":\"Date\"},\"y\":{\"field\":\"value\"}},\"id\":\"7230\",\"type\":\"Line\"},{\"attributes\":{\"line_alpha\":0.1,\"line_color\":\"#9367bc\",\"line_width\":2,\"x\":{\"field\":\"Date\"},\"y\":{\"field\":\"value\"}},\"id\":\"7263\",\"type\":\"Line\"},{\"attributes\":{},\"id\":\"7327\",\"type\":\"UnionRenderers\"},{\"attributes\":{\"line_alpha\":0.2,\"line_color\":\"#d62628\",\"line_width\":2,\"x\":{\"field\":\"Date\"},\"y\":{\"field\":\"value\"}},\"id\":\"7231\",\"type\":\"Line\"},{\"attributes\":{},\"id\":\"7222\",\"type\":\"UnionRenderers\"},{\"attributes\":{},\"id\":\"7167\",\"type\":\"Selection\"},{\"attributes\":{},\"id\":\"7260\",\"type\":\"Selection\"},{\"attributes\":{\"label\":{\"value\":\"XLV\"},\"renderers\":[{\"id\":\"7300\",\"type\":\"GlyphRenderer\"}]},\"id\":\"7330\",\"type\":\"LegendItem\"},{\"attributes\":{},\"id\":\"7227\",\"type\":\"Selection\"},{\"attributes\":{},\"id\":\"7162\",\"type\":\"YearsTicker\"},{\"attributes\":{\"data_source\":{\"id\":\"7138\",\"type\":\"ColumnDataSource\"},\"glyph\":{\"id\":\"7141\",\"type\":\"Line\"},\"hover_glyph\":null,\"muted_glyph\":{\"id\":\"7143\",\"type\":\"Line\"},\"nonselection_glyph\":{\"id\":\"7142\",\"type\":\"Line\"},\"selection_glyph\":null,\"view\":{\"id\":\"7145\",\"type\":\"CDSView\"}},\"id\":\"7144\",\"type\":\"GlyphRenderer\"},{\"attributes\":{\"axis_label\":\"\",\"axis_label_text_font_size\":{\"value\":\"10pt\"},\"bounds\":\"auto\",\"formatter\":{\"id\":\"7136\",\"type\":\"BasicTickFormatter\"},\"major_label_orientation\":\"horizontal\",\"ticker\":{\"id\":\"7118\",\"type\":\"BasicTicker\"}},\"id\":\"7117\",\"type\":\"LinearAxis\"},{\"attributes\":{\"callback\":null,\"data\":{\"Date\":{\"__ndarray__\":\"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\",\"dtype\":\"float64\",\"shape\":[258]},\"Variable\":[\"JNJ\",\"JNJ\",\"JNJ\",\"JNJ\",\"JNJ\",\"JNJ\",\"JNJ\",\"JNJ\",\"JNJ\",\"JNJ\",\"JNJ\",\"JNJ\",\"JNJ\",\"JNJ\",\"JNJ\",\"JNJ\",\"JNJ\",\"JNJ\",\"JNJ\",\"JNJ\",\"JNJ\",\"JNJ\",\"JNJ\",\"JNJ\",\"JNJ\",\"JNJ\",\"JNJ\",\"JNJ\",\"JNJ\",\"JNJ\",\"JNJ\",\"JNJ\",\"JNJ\",\"JNJ\",\"JNJ\",\"JNJ\",\"JNJ\",\"JNJ\",\"JNJ\",\"JNJ\",\"JNJ\",\"JNJ\",\"JNJ\",\"JNJ\",\"JNJ\",\"JNJ\",\"JNJ\",\"JNJ\",\"JNJ\",\"JNJ\",\"JNJ\",\"JNJ\",\"JNJ\",\"JNJ\",\"JNJ\",\"JNJ\",\"JNJ\",\"JNJ\",\"JNJ\",\"JNJ\",\"JNJ\",\"JNJ\",\"JNJ\",\"JNJ\",\"JNJ\",\"JNJ\",\"JNJ\",\"JNJ\",\"JNJ\",\"JNJ\",\"JNJ\",\"JNJ\",\"JNJ\",\"JNJ\",\"JNJ\",\"JNJ\",\"JNJ\",\"JNJ\",\"JNJ\",\"JNJ\",\"JNJ\",\"JNJ\",\"JNJ\",\"JNJ\",\"JNJ\",\"JNJ\",\"JNJ\",\"JNJ\",\"JNJ\",\"JNJ\",\"JNJ\",\"JNJ\",\"JNJ\",\"JNJ\",\"JNJ\",\"JNJ\",\"JNJ\",\"JNJ\",\"JNJ\",\"JNJ\",\"JNJ\",\"JNJ\",\"JNJ\",\"JNJ\",\"JNJ\",\"JNJ\",\"JNJ\",\"JNJ\",\"JNJ\",\"JNJ\",\"JNJ\",\"JNJ\",\"JNJ\",\"JNJ\",\"JNJ\",\"JNJ\",\"JNJ\",\"JNJ\",\"JNJ\",\"JNJ\",\"JNJ\",\"JNJ\",\"JNJ\",\"JNJ\",\"JNJ\",\"JNJ\",\"JNJ\",\"JNJ\",\"JNJ\",\"JNJ\",\"JNJ\",\"JNJ\",\"JNJ\",\"JNJ\",\"JNJ\",\"JNJ\",\"JNJ\",\"JNJ\",\"JNJ\",\"JNJ\",\"JNJ\",\"JNJ\",\"JNJ\",\"JNJ\",\"JNJ\",\"JNJ\",\"JNJ\",\"JNJ\",\"JNJ\",\"JNJ\",\"JNJ\",\"JNJ\",\"JNJ\",\"JNJ\",\"JNJ\",\"JNJ\",\"JNJ\",\"JNJ\",\"JNJ\",\"JNJ\",\"JNJ\",\"JNJ\",\"JNJ\",\"JNJ\",\"JNJ\",\"JNJ\",\"JNJ\",\"JNJ\",\"JNJ\",\"JNJ\",\"JNJ\",\"JNJ\",\"JNJ\",\"JNJ\",\"JNJ\",\"JNJ\",\"JNJ\",\"JNJ\",\"JNJ\",\"JNJ\",\"JNJ\",\"JNJ\",\"JNJ\",\"JNJ\",\"JNJ\",\"JNJ\",\"JNJ\",\"JNJ\",\"JNJ\",\"JNJ\",\"JNJ\",\"JNJ\",\"JNJ\",\"JNJ\",\"JNJ\",\"JNJ\",\"JNJ\",\"JNJ\",\"JNJ\",\"JNJ\",\"JNJ\",\"JNJ\",\"JNJ\",\"JNJ\",\"JNJ\",\"JNJ\",\"JNJ\",\"JNJ\",\"JNJ\",\"JNJ\",\"JNJ\",\"JNJ\",\"JNJ\",\"JNJ\",\"JNJ\",\"JNJ\",\"JNJ\",\"JNJ\",\"JNJ\",\"JNJ\",\"JNJ\",\"JNJ\",\"JNJ\",\"JNJ\",\"JNJ\",\"JNJ\",\"JNJ\",\"JNJ\",\"JNJ\",\"JNJ\",\"JNJ\",\"JNJ\",\"JNJ\",\"JNJ\",\"JNJ\",\"JNJ\",\"JNJ\",\"JNJ\",\"JNJ\",\"JNJ\",\"JNJ\",\"JNJ\",\"JNJ\",\"JNJ\",\"JNJ\",\"JNJ\",\"JNJ\",\"JNJ\",\"JNJ\",\"JNJ\",\"JNJ\",\"JNJ\",\"JNJ\",\"JNJ\",\"JNJ\",\"JNJ\",\"JNJ\",\"JNJ\"],\"value\":{\"__ndarray__\":\"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\",\"dtype\":\"float64\",\"shape\":[258]}},\"selected\":{\"id\":\"7167\",\"type\":\"Selection\"},\"selection_policy\":{\"id\":\"7222\",\"type\":\"UnionRenderers\"}},\"id\":\"7166\",\"type\":\"ColumnDataSource\"},{\"attributes\":{\"days\":[1,15]},\"id\":\"7157\",\"type\":\"DaysTicker\"},{\"attributes\":{\"base\":24,\"mantissas\":[1,2,4,6,8,12],\"max_interval\":43200000.0,\"min_interval\":3600000.0,\"num_minor_ticks\":0},\"id\":\"7153\",\"type\":\"AdaptiveTicker\"},{\"attributes\":{\"data_source\":{\"id\":\"7166\",\"type\":\"ColumnDataSource\"},\"glyph\":{\"id\":\"7169\",\"type\":\"Line\"},\"hover_glyph\":null,\"muted_glyph\":{\"id\":\"7171\",\"type\":\"Line\"},\"nonselection_glyph\":{\"id\":\"7170\",\"type\":\"Line\"},\"selection_glyph\":null,\"view\":{\"id\":\"7173\",\"type\":\"CDSView\"}},\"id\":\"7172\",\"type\":\"GlyphRenderer\"},{\"attributes\":{\"label\":{\"value\":\"ABT\"},\"renderers\":[{\"id\":\"7265\",\"type\":\"GlyphRenderer\"}]},\"id\":\"7293\",\"type\":\"LegendItem\"},{\"attributes\":{\"months\":[0,6]},\"id\":\"7161\",\"type\":\"MonthsTicker\"},{\"attributes\":{\"line_alpha\":0.2,\"line_color\":\"#1f77b3\",\"line_width\":2,\"x\":{\"field\":\"Date\"},\"y\":{\"field\":\"value\"}},\"id\":\"7143\",\"type\":\"Line\"},{\"attributes\":{},\"id\":\"7126\",\"type\":\"ResetTool\"},{\"attributes\":{\"months\":[0,2,4,6,8,10]},\"id\":\"7159\",\"type\":\"MonthsTicker\"},{\"attributes\":{\"line_color\":\"#8c564b\",\"line_width\":2,\"x\":{\"field\":\"Date\"},\"y\":{\"field\":\"value\"}},\"id\":\"7297\",\"type\":\"Line\"},{\"attributes\":{\"label\":{\"value\":\"UNH\"},\"renderers\":[{\"id\":\"7144\",\"type\":\"GlyphRenderer\"}]},\"id\":\"7165\",\"type\":\"LegendItem\"},{\"attributes\":{\"source\":{\"id\":\"7166\",\"type\":\"ColumnDataSource\"}},\"id\":\"7173\",\"type\":\"CDSView\"}],\"root_ids\":[\"7093\"]},\"title\":\"Bokeh Application\",\"version\":\"1.4.0\"}};\n",
       "  var render_items = [{\"docid\":\"f5770880-d15c-4c53-bc58-7e569f08b4ad\",\"roots\":{\"7093\":\"7d88929c-8808-497d-939c-2b97a3ae3b5e\"}}];\n",
       "  root.Bokeh.embed.embed_items_notebook(docs_json, render_items);\n",
       "  }\n",
       "if (root.Bokeh !== undefined) {\n",
       "    embed_document(root);\n",
       "  } else {\n",
       "    var attempts = 0;\n",
       "    var timer = setInterval(function(root) {\n",
       "      if (root.Bokeh !== undefined) {\n",
       "        clearInterval(timer);\n",
       "        embed_document(root);\n",
       "      } else if (document.readyState == \"complete\") {\n",
       "        attempts++;\n",
       "        if (attempts > 100) {\n",
       "          clearInterval(timer);\n",
       "          console.log(\"Bokeh: ERROR: Unable to run BokehJS code because BokehJS library is missing\");\n",
       "        }\n",
       "      }\n",
       "    }, 10, root)\n",
       "  }\n",
       "})(window);</script>"
      ],
      "text/plain": [
       ":NdOverlay   [Variable]\n",
       "   :Curve   [Date]   (value)"
      ]
     },
     "execution_count": 66,
     "metadata": {
      "application/vnd.holoviews_exec.v0+json": {
       "id": "7093"
      }
     },
     "output_type": "execute_result"
    }
   ],
   "source": [
    "a"
   ]
  },
  {
   "cell_type": "code",
   "execution_count": 67,
   "metadata": {},
   "outputs": [],
   "source": [
    "covid_pct_change.drop(columns=\"deaths\", inplace=True)"
   ]
  },
  {
   "cell_type": "code",
   "execution_count": 68,
   "metadata": {},
   "outputs": [
    {
     "data": {
      "text/plain": [
       "<matplotlib.axes._subplots.AxesSubplot at 0x2031a60ddc8>"
      ]
     },
     "execution_count": 68,
     "metadata": {},
     "output_type": "execute_result"
    },
    {
     "data": {
      "image/png": "[encoded data removed]",
      "text/plain": [
       "<Figure size 432x288 with 1 Axes>"
      ]
     },
     "metadata": {
      "needs_background": "light"
     },
     "output_type": "display_data"
    }
   ],
   "source": [
    "covid_pct_change.plot.hist()"
   ]
  },
  {
   "cell_type": "code",
   "execution_count": 69,
   "metadata": {},
   "outputs": [],
   "source": [
    "c = pd.concat([Covid_df, Health_care_df], axis=1)"
   ]
  },
  {
   "cell_type": "code",
   "execution_count": 70,
   "metadata": {},
   "outputs": [
    {
     "data": {
      "text/html": [
       "<div>\n",
       "<style scoped>\n",
       "    .dataframe tbody tr th:only-of-type {\n",
       "        vertical-align: middle;\n",
       "    }\n",
       "\n",
       "    .dataframe tbody tr th {\n",
       "        vertical-align: top;\n",
       "    }\n",
       "\n",
       "    .dataframe thead th {\n",
       "        text-align: right;\n",
       "    }\n",
       "</style>\n",
       "<table border=\"1\" class=\"dataframe\">\n",
       "  <thead>\n",
       "    <tr style=\"text-align: right;\">\n",
       "      <th></th>\n",
       "      <th>cases</th>\n",
       "      <th>deaths</th>\n",
       "      <th>UNH</th>\n",
       "      <th>JNJ</th>\n",
       "      <th>MRK</th>\n",
       "      <th>ABBV</th>\n",
       "      <th>ABT</th>\n",
       "      <th>XLV</th>\n",
       "    </tr>\n",
       "  </thead>\n",
       "  <tbody>\n",
       "    <tr>\n",
       "      <th>2020-01-21</th>\n",
       "      <td>1.0</td>\n",
       "      <td>0.0</td>\n",
       "      <td>NaN</td>\n",
       "      <td>NaN</td>\n",
       "      <td>NaN</td>\n",
       "      <td>NaN</td>\n",
       "      <td>NaN</td>\n",
       "      <td>NaN</td>\n",
       "    </tr>\n",
       "    <tr>\n",
       "      <th>2020-01-22</th>\n",
       "      <td>1.0</td>\n",
       "      <td>0.0</td>\n",
       "      <td>NaN</td>\n",
       "      <td>NaN</td>\n",
       "      <td>NaN</td>\n",
       "      <td>NaN</td>\n",
       "      <td>NaN</td>\n",
       "      <td>NaN</td>\n",
       "    </tr>\n",
       "    <tr>\n",
       "      <th>2020-01-23</th>\n",
       "      <td>1.0</td>\n",
       "      <td>0.0</td>\n",
       "      <td>NaN</td>\n",
       "      <td>NaN</td>\n",
       "      <td>NaN</td>\n",
       "      <td>NaN</td>\n",
       "      <td>NaN</td>\n",
       "      <td>NaN</td>\n",
       "    </tr>\n",
       "    <tr>\n",
       "      <th>2020-01-24</th>\n",
       "      <td>2.0</td>\n",
       "      <td>0.0</td>\n",
       "      <td>NaN</td>\n",
       "      <td>NaN</td>\n",
       "      <td>NaN</td>\n",
       "      <td>NaN</td>\n",
       "      <td>NaN</td>\n",
       "      <td>NaN</td>\n",
       "    </tr>\n",
       "    <tr>\n",
       "      <th>2020-01-25</th>\n",
       "      <td>3.0</td>\n",
       "      <td>0.0</td>\n",
       "      <td>NaN</td>\n",
       "      <td>NaN</td>\n",
       "      <td>NaN</td>\n",
       "      <td>NaN</td>\n",
       "      <td>NaN</td>\n",
       "      <td>NaN</td>\n",
       "    </tr>\n",
       "    <tr>\n",
       "      <th>...</th>\n",
       "      <td>...</td>\n",
       "      <td>...</td>\n",
       "      <td>...</td>\n",
       "      <td>...</td>\n",
       "      <td>...</td>\n",
       "      <td>...</td>\n",
       "      <td>...</td>\n",
       "      <td>...</td>\n",
       "    </tr>\n",
       "    <tr>\n",
       "      <th>2020-08-18 00:00:00</th>\n",
       "      <td>NaN</td>\n",
       "      <td>NaN</td>\n",
       "      <td>316.809998</td>\n",
       "      <td>149.097641</td>\n",
       "      <td>84.559998</td>\n",
       "      <td>95.650002</td>\n",
       "      <td>100.959999</td>\n",
       "      <td>107.400002</td>\n",
       "    </tr>\n",
       "    <tr>\n",
       "      <th>2020-08-19 00:00:00</th>\n",
       "      <td>NaN</td>\n",
       "      <td>NaN</td>\n",
       "      <td>315.399994</td>\n",
       "      <td>149.395660</td>\n",
       "      <td>85.029999</td>\n",
       "      <td>96.099998</td>\n",
       "      <td>100.480003</td>\n",
       "      <td>107.050003</td>\n",
       "    </tr>\n",
       "    <tr>\n",
       "      <th>2020-08-20 00:00:00</th>\n",
       "      <td>NaN</td>\n",
       "      <td>NaN</td>\n",
       "      <td>313.329987</td>\n",
       "      <td>150.418854</td>\n",
       "      <td>85.029999</td>\n",
       "      <td>95.199997</td>\n",
       "      <td>101.629997</td>\n",
       "      <td>106.709999</td>\n",
       "    </tr>\n",
       "    <tr>\n",
       "      <th>2020-08-21 00:00:00</th>\n",
       "      <td>NaN</td>\n",
       "      <td>NaN</td>\n",
       "      <td>314.140015</td>\n",
       "      <td>151.749985</td>\n",
       "      <td>84.980003</td>\n",
       "      <td>94.860001</td>\n",
       "      <td>102.400002</td>\n",
       "      <td>106.820000</td>\n",
       "    </tr>\n",
       "    <tr>\n",
       "      <th>2020-08-24 00:00:00</th>\n",
       "      <td>NaN</td>\n",
       "      <td>NaN</td>\n",
       "      <td>308.839996</td>\n",
       "      <td>152.149994</td>\n",
       "      <td>85.419998</td>\n",
       "      <td>94.510002</td>\n",
       "      <td>101.389999</td>\n",
       "      <td>106.330002</td>\n",
       "    </tr>\n",
       "  </tbody>\n",
       "</table>\n",
       "<p>466 rows × 8 columns</p>\n",
       "</div>"
      ],
      "text/plain": [
       "                     cases  deaths         UNH         JNJ        MRK  \\\n",
       "2020-01-21             1.0     0.0         NaN         NaN        NaN   \n",
       "2020-01-22             1.0     0.0         NaN         NaN        NaN   \n",
       "2020-01-23             1.0     0.0         NaN         NaN        NaN   \n",
       "2020-01-24             2.0     0.0         NaN         NaN        NaN   \n",
       "2020-01-25             3.0     0.0         NaN         NaN        NaN   \n",
       "...                    ...     ...         ...         ...        ...   \n",
       "2020-08-18 00:00:00    NaN     NaN  316.809998  149.097641  84.559998   \n",
       "2020-08-19 00:00:00    NaN     NaN  315.399994  149.395660  85.029999   \n",
       "2020-08-20 00:00:00    NaN     NaN  313.329987  150.418854  85.029999   \n",
       "2020-08-21 00:00:00    NaN     NaN  314.140015  151.749985  84.980003   \n",
       "2020-08-24 00:00:00    NaN     NaN  308.839996  152.149994  85.419998   \n",
       "\n",
       "                          ABBV         ABT         XLV  \n",
       "2020-01-21                 NaN         NaN         NaN  \n",
       "2020-01-22                 NaN         NaN         NaN  \n",
       "2020-01-23                 NaN         NaN         NaN  \n",
       "2020-01-24                 NaN         NaN         NaN  \n",
       "2020-01-25                 NaN         NaN         NaN  \n",
       "...                        ...         ...         ...  \n",
       "2020-08-18 00:00:00  95.650002  100.959999  107.400002  \n",
       "2020-08-19 00:00:00  96.099998  100.480003  107.050003  \n",
       "2020-08-20 00:00:00  95.199997  101.629997  106.709999  \n",
       "2020-08-21 00:00:00  94.860001  102.400002  106.820000  \n",
       "2020-08-24 00:00:00  94.510002  101.389999  106.330002  \n",
       "\n",
       "[466 rows x 8 columns]"
      ]
     },
     "execution_count": 70,
     "metadata": {},
     "output_type": "execute_result"
    }
   ],
   "source": [
    "c"
   ]
  },
  {
   "cell_type": "code",
   "execution_count": null,
   "metadata": {},
   "outputs": [],
   "source": [
    "pct = Health_care_df.pct_change()"
   ]
  },
  {
   "cell_type": "code",
   "execution_count": null,
   "metadata": {},
   "outputs": [],
   "source": [
    "h = pd.concat([covid_pct_change,pct], axis=1)\n"
   ]
  },
  {
   "cell_type": "code",
   "execution_count": null,
   "metadata": {},
   "outputs": [],
   "source": [
    "s = health_pct_change[\"2020-01-21\":\"2020-08-15\"]\n"
   ]
  },
  {
   "cell_type": "code",
   "execution_count": null,
   "metadata": {},
   "outputs": [],
   "source": [
    "pd.concat([s,Covid_df], axis=1)"
   ]
  },
  {
   "cell_type": "code",
   "execution_count": null,
   "metadata": {},
   "outputs": [],
   "source": []
  },
  {
   "cell_type": "code",
   "execution_count": null,
   "metadata": {},
   "outputs": [],
   "source": []
  }
 ],
 "metadata": {
  "kernelspec": {
   "display_name": "Python 3",
   "language": "python",
   "name": "python3"
  },
  "language_info": {
   "codemirror_mode": {
    "name": "ipython",
    "version": 3
   },
   "file_extension": ".py",
   "mimetype": "text/x-python",
   "name": "python",
   "nbconvert_exporter": "python",
   "pygments_lexer": "ipython3",
   "version": "3.7.6"
  }
 },
 "nbformat": 4,
 "nbformat_minor": 4
}
